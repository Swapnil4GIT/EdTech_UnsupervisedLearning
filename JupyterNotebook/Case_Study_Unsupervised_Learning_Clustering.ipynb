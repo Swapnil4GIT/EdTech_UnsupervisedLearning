{
 "cells": [
  {
   "cell_type": "markdown",
   "id": "295b662f",
   "metadata": {},
   "source": [
    "## Case Study: Clustering"
   ]
  },
  {
   "cell_type": "markdown",
   "id": "63d42a3f",
   "metadata": {},
   "source": [
    "### Problem Statement:\n",
    "To categorize the professionals into relevant groups based on their company, designation and years of experience.Based on the categorization, determine the top companies and job roles. To determine, the scope for upskilling and better oppurtunites based on the clusters formed."
   ]
  },
  {
   "cell_type": "code",
   "execution_count": 383,
   "id": "0cc231cc",
   "metadata": {},
   "outputs": [],
   "source": [
    "#Import libraries\n",
    "\n",
    "import pandas as pd\n",
    "import numpy as np\n",
    "import matplotlib.pyplot as plt\n",
    "import seaborn as sns\n",
    "import re\n",
    "from sklearn.preprocessing import LabelEncoder\n",
    "from sklearn.preprocessing import StandardScaler\n",
    "from sklearn.impute import KNNImputer\n",
    "import datetime\n",
    "from sklearn.neighbors import NearestNeighbors\n",
    "from random import sample\n",
    "from sklearn.cluster import KMeans\n",
    "from sklearn.manifold import MDS\n",
    "from sklearn.decomposition import PCA\n",
    "from scipy.cluster.hierarchy import dendrogram, linkage\n",
    "from sklearn.cluster import AgglomerativeClustering\n",
    "import math"
   ]
  },
  {
   "cell_type": "code",
   "execution_count": 384,
   "id": "f0b47f77",
   "metadata": {},
   "outputs": [],
   "source": [
    "#Set max columns to display and max column width to be displayed\n",
    "\n",
    "pd.set_option('display.max_columns', None)\n",
    "pd.set_option('display.max_colwidth',100)\n",
    "sns.set_style('darkgrid')"
   ]
  },
  {
   "cell_type": "code",
   "execution_count": 385,
   "id": "00a80064",
   "metadata": {},
   "outputs": [],
   "source": [
    "#Import the data into the dataframe\n",
    "\n",
    "df = pd.read_csv('train.csv')"
   ]
  },
  {
   "cell_type": "markdown",
   "id": "fbefc4d9",
   "metadata": {},
   "source": [
    "### EDA"
   ]
  },
  {
   "cell_type": "code",
   "execution_count": 386,
   "id": "1068ceb2",
   "metadata": {},
   "outputs": [
    {
     "data": {
      "text/plain": [
       "(205843, 7)"
      ]
     },
     "execution_count": 386,
     "metadata": {},
     "output_type": "execute_result"
    }
   ],
   "source": [
    "#Check shape of the data\n",
    "\n",
    "df.shape"
   ]
  },
  {
   "cell_type": "code",
   "execution_count": 387,
   "id": "2ae22eaf",
   "metadata": {},
   "outputs": [
    {
     "data": {
      "text/html": [
       "<div>\n",
       "<style scoped>\n",
       "    .dataframe tbody tr th:only-of-type {\n",
       "        vertical-align: middle;\n",
       "    }\n",
       "\n",
       "    .dataframe tbody tr th {\n",
       "        vertical-align: top;\n",
       "    }\n",
       "\n",
       "    .dataframe thead th {\n",
       "        text-align: right;\n",
       "    }\n",
       "</style>\n",
       "<table border=\"1\" class=\"dataframe\">\n",
       "  <thead>\n",
       "    <tr style=\"text-align: right;\">\n",
       "      <th></th>\n",
       "      <th>Unnamed: 0</th>\n",
       "      <th>company_hash</th>\n",
       "      <th>email_hash</th>\n",
       "      <th>orgyear</th>\n",
       "      <th>ctc</th>\n",
       "      <th>job_position</th>\n",
       "      <th>ctc_updated_year</th>\n",
       "    </tr>\n",
       "  </thead>\n",
       "  <tbody>\n",
       "    <tr>\n",
       "      <th>0</th>\n",
       "      <td>0</td>\n",
       "      <td>atrgxnnt xzaxv</td>\n",
       "      <td>6de0a4417d18ab14334c3f43397fc13b30c35149d70c050c0618caea697c87af</td>\n",
       "      <td>2016.0</td>\n",
       "      <td>1100000</td>\n",
       "      <td>Other</td>\n",
       "      <td>2020.0</td>\n",
       "    </tr>\n",
       "    <tr>\n",
       "      <th>1</th>\n",
       "      <td>1</td>\n",
       "      <td>qtrxvzwt xzegwgbb rxbxnta</td>\n",
       "      <td>b0aaf1ac138b53cb6e039ba2c3d6604a250d02d5145c100a9661a92bdcc0407b</td>\n",
       "      <td>2018.0</td>\n",
       "      <td>449999</td>\n",
       "      <td>FullStack Engineer</td>\n",
       "      <td>2019.0</td>\n",
       "    </tr>\n",
       "    <tr>\n",
       "      <th>2</th>\n",
       "      <td>2</td>\n",
       "      <td>ojzwnvwnxw vx</td>\n",
       "      <td>4860c670bcd48fb96c02a4b0ae3608ae6fdd98176112e90fd66c9df6b37b9059</td>\n",
       "      <td>2015.0</td>\n",
       "      <td>2000000</td>\n",
       "      <td>Backend Engineer</td>\n",
       "      <td>2020.0</td>\n",
       "    </tr>\n",
       "    <tr>\n",
       "      <th>3</th>\n",
       "      <td>3</td>\n",
       "      <td>ngpgutaxv</td>\n",
       "      <td>effdede7a2e7c2af664c8a31d9346385016128d66bbc58a44274d5d6876dfec7</td>\n",
       "      <td>2017.0</td>\n",
       "      <td>700000</td>\n",
       "      <td>Backend Engineer</td>\n",
       "      <td>2019.0</td>\n",
       "    </tr>\n",
       "    <tr>\n",
       "      <th>4</th>\n",
       "      <td>4</td>\n",
       "      <td>qxen sqghu</td>\n",
       "      <td>6ff54e709262f55cb999a1c1db8436cb2055d8f79ab520214b31b95211adb095</td>\n",
       "      <td>2017.0</td>\n",
       "      <td>1400000</td>\n",
       "      <td>FullStack Engineer</td>\n",
       "      <td>2019.0</td>\n",
       "    </tr>\n",
       "  </tbody>\n",
       "</table>\n",
       "</div>"
      ],
      "text/plain": [
       "   Unnamed: 0               company_hash  \\\n",
       "0           0             atrgxnnt xzaxv   \n",
       "1           1  qtrxvzwt xzegwgbb rxbxnta   \n",
       "2           2              ojzwnvwnxw vx   \n",
       "3           3                  ngpgutaxv   \n",
       "4           4                 qxen sqghu   \n",
       "\n",
       "                                                         email_hash  orgyear  \\\n",
       "0  6de0a4417d18ab14334c3f43397fc13b30c35149d70c050c0618caea697c87af   2016.0   \n",
       "1  b0aaf1ac138b53cb6e039ba2c3d6604a250d02d5145c100a9661a92bdcc0407b   2018.0   \n",
       "2  4860c670bcd48fb96c02a4b0ae3608ae6fdd98176112e90fd66c9df6b37b9059   2015.0   \n",
       "3  effdede7a2e7c2af664c8a31d9346385016128d66bbc58a44274d5d6876dfec7   2017.0   \n",
       "4  6ff54e709262f55cb999a1c1db8436cb2055d8f79ab520214b31b95211adb095   2017.0   \n",
       "\n",
       "       ctc        job_position  ctc_updated_year  \n",
       "0  1100000               Other            2020.0  \n",
       "1   449999  FullStack Engineer            2019.0  \n",
       "2  2000000    Backend Engineer            2020.0  \n",
       "3   700000    Backend Engineer            2019.0  \n",
       "4  1400000  FullStack Engineer            2019.0  "
      ]
     },
     "execution_count": 387,
     "metadata": {},
     "output_type": "execute_result"
    }
   ],
   "source": [
    "#Get the glimpse of the data\n",
    "\n",
    "df.head()"
   ]
  },
  {
   "cell_type": "code",
   "execution_count": 388,
   "id": "c28ecb81",
   "metadata": {},
   "outputs": [],
   "source": [
    "#Drop the unwanted column\n",
    "\n",
    "df = df.drop(['Unnamed: 0'], axis=1)"
   ]
  },
  {
   "cell_type": "code",
   "execution_count": 389,
   "id": "c97afc29",
   "metadata": {},
   "outputs": [
    {
     "name": "stdout",
     "output_type": "stream",
     "text": [
      "<class 'pandas.core.frame.DataFrame'>\n",
      "RangeIndex: 205843 entries, 0 to 205842\n",
      "Data columns (total 6 columns):\n",
      " #   Column            Non-Null Count   Dtype  \n",
      "---  ------            --------------   -----  \n",
      " 0   company_hash      205799 non-null  object \n",
      " 1   email_hash        205843 non-null  object \n",
      " 2   orgyear           205757 non-null  float64\n",
      " 3   ctc               205843 non-null  int64  \n",
      " 4   job_position      153281 non-null  object \n",
      " 5   ctc_updated_year  205843 non-null  float64\n",
      "dtypes: float64(2), int64(1), object(3)\n",
      "memory usage: 9.4+ MB\n"
     ]
    }
   ],
   "source": [
    "#Check if any missing values and column datatypes\n",
    "\n",
    "df.info()"
   ]
  },
  {
   "cell_type": "code",
   "execution_count": 390,
   "id": "ab8c080d",
   "metadata": {},
   "outputs": [
    {
     "data": {
      "text/plain": [
       "company_hash           44\n",
       "email_hash              0\n",
       "orgyear                86\n",
       "ctc                     0\n",
       "job_position        52562\n",
       "ctc_updated_year        0\n",
       "dtype: int64"
      ]
     },
     "execution_count": 390,
     "metadata": {},
     "output_type": "execute_result"
    }
   ],
   "source": [
    "#Check for missing values\n",
    "\n",
    "df.isna().sum()"
   ]
  },
  {
   "cell_type": "code",
   "execution_count": 391,
   "id": "7b3d9a41",
   "metadata": {},
   "outputs": [
    {
     "data": {
      "text/plain": [
       "company_hash         0.000000\n",
       "email_hash           0.000000\n",
       "orgyear              0.041788\n",
       "ctc                  0.000000\n",
       "job_position        25.525391\n",
       "ctc_updated_year     0.000000\n",
       "dtype: float64"
      ]
     },
     "execution_count": 391,
     "metadata": {},
     "output_type": "execute_result"
    }
   ],
   "source": [
    "#Since number of missing values in company hash are very less, we are dropping those\n",
    "\n",
    "df = df.loc[~df['company_hash'].isna()]\n",
    "df.isna().sum()/len(df)*100"
   ]
  },
  {
   "cell_type": "code",
   "execution_count": 392,
   "id": "60a10563",
   "metadata": {},
   "outputs": [
    {
     "data": {
      "text/plain": [
       "company_hash         0.000000\n",
       "email_hash           0.000000\n",
       "orgyear              0.000000\n",
       "ctc                  0.000000\n",
       "job_position        25.524396\n",
       "ctc_updated_year     0.000000\n",
       "dtype: float64"
      ]
     },
     "execution_count": 392,
     "metadata": {},
     "output_type": "execute_result"
    }
   ],
   "source": [
    "#Since the number of missing values in the orgyear are very less, we are dropping those\n",
    "\n",
    "df = df.loc[~df['orgyear'].isna()]\n",
    "df.isna().sum()/len(df)*100"
   ]
  },
  {
   "cell_type": "code",
   "execution_count": 393,
   "id": "2af08972",
   "metadata": {},
   "outputs": [],
   "source": [
    "#Dropping the records with blank job position since those are very few (just two rows)\n",
    "\n",
    "df = df.loc[~(df['job_position']=='')]\n",
    "df = df.reset_index()\n",
    "df = df.drop(['index'], axis=1)"
   ]
  },
  {
   "cell_type": "markdown",
   "id": "c31432e9",
   "metadata": {},
   "source": [
    "### Regex for cleaning job_position names"
   ]
  },
  {
   "cell_type": "code",
   "execution_count": 394,
   "id": "198059ca",
   "metadata": {},
   "outputs": [],
   "source": [
    "#Define a function to perform text cleaning using regex on the column job_position\n",
    "\n",
    "def regex(x):\n",
    "    res = re.sub('[^A-Za-z0-9 ]+', '', x)\n",
    "    res = re.sub(' +', ' ', res)\n",
    "    res = re.sub(' 2', ' II', res)\n",
    "    res = re.sub(' 1', ' I', res)\n",
    "    res = re.sub(' 3', ' III', res)\n",
    "    res = re.sub(' 4', ' IV', res)\n",
    "    res = re.sub('APPLICATIONS ', 'APPLICATION ', res)\n",
    "    res = re.sub('ASE', 'ASSISTANT SYSTEM ENGINEER', res)\n",
    "    res = re.sub('ENGINNER', 'ENGINEER', res)\n",
    "    res = re.sub('PROCESSOR', 'PROFESSOR', res)\n",
    "    res = re.sub('ENGINEERTRAINEE', 'ENGINEER TRAINEE', res)\n",
    "    res = re.sub('TECH ', 'TECHNICAL ', res)\n",
    "    res = re.sub('ASST ', 'ASSISTANT ', res)\n",
    "    res = re.sub('ANALYSTS', 'ANALYST', res)\n",
    "    res = re.sub('COFOUNDERG', 'COFOUNDER', res)\n",
    "    res = re.sub('CONSULTANAT', 'CONSULTANT',res)\n",
    "    res = re.sub('ANALAYST', 'ANALYST', res)\n",
    "    res = re.sub('EINGINEER', 'ENGINEER', res)\n",
    "    res = re.sub('ASOCIATE', 'ASSOCIATE', res)\n",
    "    res = re.sub('ENGINEET', 'ENGINEER', res)\n",
    "    res = re.sub('FRONTEND', 'FRONT END', res)\n",
    "    res = re.sub('FULLSTACK', 'FULL STACK', res)\n",
    "    res = re.sub('OPERATION', 'OPERATIONS', res)\n",
    "    res = re.sub('APPS', 'APPLICATIONS', res)\n",
    "    res = re.sub('APPLICATION', 'APPLICATIONS', res)\n",
    "    res = re.sub('DEVELLOPER', 'DEVELOPER', res)\n",
    "    res = re.sub('SDE1', 'SDE I', res)\n",
    "    res = re.sub('SDE2', 'SDE II', res)\n",
    "    res = re.sub('SDE3', 'SDE III', res)\n",
    "    res = re.sub('SDEI', 'SDE I', res)\n",
    "    res = re.sub('SDEII', 'SDE II', res)\n",
    "    res = re.sub('SDET2', 'SDET II', res)\n",
    "    res = re.sub('SE4', 'SE IV', res)\n",
    "    res = re.sub('ENGGINEER', 'ENGINEER', res)\n",
    "    return res"
   ]
  },
  {
   "cell_type": "code",
   "execution_count": 395,
   "id": "fd5b7705",
   "metadata": {},
   "outputs": [],
   "source": [
    "#Convert the job_position into the uppercase letters\n",
    "#Strip the leading and trailing spaces from the job_positions\n",
    "\n",
    "df['job_position'] = df['job_position'].str.upper()\n",
    "df['job_position'] = df['job_position'].str.strip()"
   ]
  },
  {
   "cell_type": "code",
   "execution_count": 396,
   "id": "ee3f6cb9",
   "metadata": {},
   "outputs": [],
   "source": [
    "#Call the regex function and perform the cleaning of job_position column\n",
    "\n",
    "for i in range(len(df['job_position'])):\n",
    "    if isinstance(df['job_position'][i], str):\n",
    "        df.loc[i, 'job_position'] = regex(df['job_position'][i])"
   ]
  },
  {
   "cell_type": "code",
   "execution_count": 397,
   "id": "eb782456",
   "metadata": {},
   "outputs": [
    {
     "data": {
      "text/plain": [
       "839"
      ]
     },
     "execution_count": 397,
     "metadata": {},
     "output_type": "execute_result"
    }
   ],
   "source": [
    "#Check the number of unique job_positions after performing the regex\n",
    "\n",
    "df['job_position'].nunique()"
   ]
  },
  {
   "cell_type": "markdown",
   "id": "a34b5cd9",
   "metadata": {},
   "source": [
    "### Univariate, bivariate analysis"
   ]
  },
  {
   "cell_type": "code",
   "execution_count": 398,
   "id": "cd49e7c0",
   "metadata": {},
   "outputs": [
    {
     "data": {
      "image/png": "[encoded data removed]",
      "text/plain": [
       "<Figure size 576x432 with 1 Axes>"
      ]
     },
     "metadata": {},
     "output_type": "display_data"
    }
   ],
   "source": [
    "#Perform univariate and bivariate analysis based on the continuous or categorical variable\n",
    "\n",
    "plt.figure(figsize=(8,6))\n",
    "sns.boxplot(y=df['ctc'])\n",
    "plt.xlabel('CTC')\n",
    "plt.ylim(0,5000000)\n",
    "plt.ylabel('Frequency')\n",
    "plt.title('Histogram of CTC')\n",
    "#plt.grid()\n",
    "plt.show()\n",
    "\n",
    "#Inference : Median Salary of professionals is around 10,00000 as per the box plot\n",
    "#There are many outliers as per the boxplot"
   ]
  },
  {
   "cell_type": "code",
   "execution_count": 399,
   "id": "3386eb08",
   "metadata": {},
   "outputs": [
    {
     "data": {
      "image/png": "[encoded data removed]",
      "text/plain": [
       "<Figure size 576x288 with 1 Axes>"
      ]
     },
     "metadata": {},
     "output_type": "display_data"
    }
   ],
   "source": [
    "#Scatter plot to see how the CTC varies for orgyear parameter\n",
    "\n",
    "plt.figure(figsize=(8,4))\n",
    "plt.scatter(df['orgyear'], df['ctc'])\n",
    "plt.xlim(2010,2023)\n",
    "plt.title('Scatter plot orgyear vs ctc')\n",
    "#plt.grid()\n",
    "plt.show()\n",
    "\n",
    "#Inference - For all the years of joining the CTCs of the employees are capped at almost similar amount"
   ]
  },
  {
   "cell_type": "code",
   "execution_count": 400,
   "id": "5e22332e",
   "metadata": {},
   "outputs": [
    {
     "data": {
      "image/png": "[encoded data removed]",
      "text/plain": [
       "<Figure size 864x576 with 1 Axes>"
      ]
     },
     "metadata": {},
     "output_type": "display_data"
    }
   ],
   "source": [
    "#Count plot for job_positions\n",
    "\n",
    "plt.figure(figsize=(12,8))\n",
    "sns.countplot(data=df,\n",
    "              y='job_position',\n",
    "              palette='Greens_d',\n",
    "              order=df.job_position.value_counts().iloc[:20].index)\n",
    "plt.title('count plot for job_positions')\n",
    "plt.show()\n",
    "\n",
    "#Inference - Top 3 job positions are Backend Engr, Full Stack Engr and Other"
   ]
  },
  {
   "cell_type": "code",
   "execution_count": 401,
   "id": "0ddb91f7",
   "metadata": {},
   "outputs": [
    {
     "data": {
      "text/plain": [
       "nvnv wgzohrnvzwj otqcxwto    8335\n",
       "xzegojo                      5381\n",
       "vbvkgz                       3480\n",
       "zgn vuurxwvmrt vwwghzn       3411\n",
       "wgszxkvzn                    3239\n",
       "                             ... \n",
       "vhngsqxa xzaxv                  1\n",
       "ctavznh td kteg                 1\n",
       "ihxwprgsxw ogenfvqt             1\n",
       "onvqmhwpo                       1\n",
       "bvptbjnqxu td vbvkgz            1\n",
       "Name: company_hash, Length: 37274, dtype: int64"
      ]
     },
     "execution_count": 401,
     "metadata": {},
     "output_type": "execute_result"
    }
   ],
   "source": [
    "#Check value count of company hash\n",
    "\n",
    "df['company_hash'].value_counts()"
   ]
  },
  {
   "cell_type": "code",
   "execution_count": 402,
   "id": "7679a350",
   "metadata": {},
   "outputs": [
    {
     "data": {
      "text/plain": [
       "bbace3cc586400bbc65765bc6a16b77d8913836cfc98b77c05488f02f5714a4b    10\n",
       "3e5e49daa5527a6d5a33599b238bf9bf31e85b9efa9a94f1c88c5e15a6f31378     9\n",
       "298528ce3160cc761e4dc37a07337ee2e0589df251d73645aae209b010210eee     9\n",
       "6842660273f70e9aa239026ba33bfe82275d6ab0d20124021b952b5bc3d07e6c     9\n",
       "4818edfd67ed8563dde5d083306485d91d19f4f1c95d193a1700e79dd245b75c     8\n",
       "                                                                    ..\n",
       "9a891d279335db60cd6a45c2243bca2c56f940e31c5a812a6f642ea800832c4b     1\n",
       "e96207e084f4552ba131598c704d2c5f12373999fc66285f58dea00afb9d333c     1\n",
       "09102244a24ed7ae3beff197e3bfa8402f2d72dc69e1fa5bee18d9fc5d6aeeae     1\n",
       "bc51538e8265ba631bafe120d53a17ac4aac9232127285e5c9fa09117af2c68f     1\n",
       "0bcfc1d05f2e8dc4147743a1313aa70a119b41b30d4a1f7e738a6a87d3712c31     1\n",
       "Name: email_hash, Length: 153333, dtype: int64"
      ]
     },
     "execution_count": 402,
     "metadata": {},
     "output_type": "execute_result"
    }
   ],
   "source": [
    "#Check value count for email hash\n",
    "\n",
    "df['email_hash'].value_counts()"
   ]
  },
  {
   "cell_type": "markdown",
   "id": "f3a3e106",
   "metadata": {},
   "source": [
    "### Encoding of categorical variables"
   ]
  },
  {
   "cell_type": "code",
   "execution_count": 403,
   "id": "03fb8d4c",
   "metadata": {},
   "outputs": [],
   "source": [
    "#Perform Label encoding of job_position column\n",
    "#Assumption: Job position is an ordinal categorical variable\n",
    "#Ordinal because: One job position can be ranked as higher than other\n",
    "\n",
    "le = LabelEncoder()\n",
    "df['job_position_encoded'] = le.fit_transform(df['job_position'].values)"
   ]
  },
  {
   "cell_type": "code",
   "execution_count": 404,
   "id": "3605dab9",
   "metadata": {},
   "outputs": [
    {
     "data": {
      "text/html": [
       "<div>\n",
       "<style scoped>\n",
       "    .dataframe tbody tr th:only-of-type {\n",
       "        vertical-align: middle;\n",
       "    }\n",
       "\n",
       "    .dataframe tbody tr th {\n",
       "        vertical-align: top;\n",
       "    }\n",
       "\n",
       "    .dataframe thead th {\n",
       "        text-align: right;\n",
       "    }\n",
       "</style>\n",
       "<table border=\"1\" class=\"dataframe\">\n",
       "  <thead>\n",
       "    <tr style=\"text-align: right;\">\n",
       "      <th></th>\n",
       "      <th>company_hash</th>\n",
       "      <th>email_hash</th>\n",
       "      <th>orgyear</th>\n",
       "      <th>ctc</th>\n",
       "      <th>job_position</th>\n",
       "      <th>ctc_updated_year</th>\n",
       "      <th>job_position_encoded</th>\n",
       "    </tr>\n",
       "  </thead>\n",
       "  <tbody>\n",
       "    <tr>\n",
       "      <th>8</th>\n",
       "      <td>utqoxontzn ojontbo</td>\n",
       "      <td>e245da546bf50eba09cb7c9976926bd56557d1ac9a17fb019e8de1fdb83fc0d6</td>\n",
       "      <td>2020.0</td>\n",
       "      <td>450000</td>\n",
       "      <td>NaN</td>\n",
       "      <td>2019.0</td>\n",
       "      <td>839</td>\n",
       "    </tr>\n",
       "    <tr>\n",
       "      <th>9</th>\n",
       "      <td>xrbhd</td>\n",
       "      <td>b2dc928f4c22a9860b4a427efb8ab761e1ce0015fba1a5e804e1dc27e305b06b</td>\n",
       "      <td>2019.0</td>\n",
       "      <td>360000</td>\n",
       "      <td>NaN</td>\n",
       "      <td>2019.0</td>\n",
       "      <td>839</td>\n",
       "    </tr>\n",
       "    <tr>\n",
       "      <th>12</th>\n",
       "      <td>mvqwrvjo wgqugqvnt mvzpxzs</td>\n",
       "      <td>7f24d2f5171ea469482a9966832237bc023678883ecd0c5142677b75a138b2fa</td>\n",
       "      <td>2020.0</td>\n",
       "      <td>800000</td>\n",
       "      <td>NaN</td>\n",
       "      <td>2020.0</td>\n",
       "      <td>839</td>\n",
       "    </tr>\n",
       "    <tr>\n",
       "      <th>17</th>\n",
       "      <td>puxn</td>\n",
       "      <td>26b502eb6439ac80bd618a6f7c2b1c640b84c1e64c472cf0510b0b36c2d3c247</td>\n",
       "      <td>2020.0</td>\n",
       "      <td>1400000</td>\n",
       "      <td>NaN</td>\n",
       "      <td>2019.0</td>\n",
       "      <td>839</td>\n",
       "    </tr>\n",
       "    <tr>\n",
       "      <th>18</th>\n",
       "      <td>mvlvl exzotqc</td>\n",
       "      <td>62d2e04b44c8bf2f6ec15d5b4c259c06199f598dc51816b1e32a84bc3ed980ea</td>\n",
       "      <td>2018.0</td>\n",
       "      <td>100000</td>\n",
       "      <td>NaN</td>\n",
       "      <td>2021.0</td>\n",
       "      <td>839</td>\n",
       "    </tr>\n",
       "  </tbody>\n",
       "</table>\n",
       "</div>"
      ],
      "text/plain": [
       "                  company_hash  \\\n",
       "8           utqoxontzn ojontbo   \n",
       "9                        xrbhd   \n",
       "12  mvqwrvjo wgqugqvnt mvzpxzs   \n",
       "17                        puxn   \n",
       "18               mvlvl exzotqc   \n",
       "\n",
       "                                                          email_hash  orgyear  \\\n",
       "8   e245da546bf50eba09cb7c9976926bd56557d1ac9a17fb019e8de1fdb83fc0d6   2020.0   \n",
       "9   b2dc928f4c22a9860b4a427efb8ab761e1ce0015fba1a5e804e1dc27e305b06b   2019.0   \n",
       "12  7f24d2f5171ea469482a9966832237bc023678883ecd0c5142677b75a138b2fa   2020.0   \n",
       "17  26b502eb6439ac80bd618a6f7c2b1c640b84c1e64c472cf0510b0b36c2d3c247   2020.0   \n",
       "18  62d2e04b44c8bf2f6ec15d5b4c259c06199f598dc51816b1e32a84bc3ed980ea   2018.0   \n",
       "\n",
       "        ctc job_position  ctc_updated_year  job_position_encoded  \n",
       "8    450000          NaN            2019.0                   839  \n",
       "9    360000          NaN            2019.0                   839  \n",
       "12   800000          NaN            2020.0                   839  \n",
       "17  1400000          NaN            2019.0                   839  \n",
       "18   100000          NaN            2021.0                   839  "
      ]
     },
     "execution_count": 404,
     "metadata": {},
     "output_type": "execute_result"
    }
   ],
   "source": [
    "#Check for missing value records based on job_position column\n",
    "\n",
    "df.loc[df['job_position'].isna()].head()"
   ]
  },
  {
   "cell_type": "code",
   "execution_count": 405,
   "id": "d5a3fe3f",
   "metadata": {},
   "outputs": [],
   "source": [
    "#Label encoding had encoded NaN values too.\n",
    "#Converting the encoded NaN values back to NaNs as we will fill those using KNN imputer\n",
    "\n",
    "df.loc[df['job_position_encoded']==839, 'job_position_encoded'] = np.nan"
   ]
  },
  {
   "cell_type": "code",
   "execution_count": 406,
   "id": "5ce3fe1d",
   "metadata": {},
   "outputs": [
    {
     "data": {
      "text/html": [
       "<div>\n",
       "<style scoped>\n",
       "    .dataframe tbody tr th:only-of-type {\n",
       "        vertical-align: middle;\n",
       "    }\n",
       "\n",
       "    .dataframe tbody tr th {\n",
       "        vertical-align: top;\n",
       "    }\n",
       "\n",
       "    .dataframe thead th {\n",
       "        text-align: right;\n",
       "    }\n",
       "</style>\n",
       "<table border=\"1\" class=\"dataframe\">\n",
       "  <thead>\n",
       "    <tr style=\"text-align: right;\">\n",
       "      <th></th>\n",
       "      <th>company_hash</th>\n",
       "      <th>email_hash</th>\n",
       "      <th>orgyear</th>\n",
       "      <th>ctc</th>\n",
       "      <th>job_position</th>\n",
       "      <th>ctc_updated_year</th>\n",
       "      <th>job_position_encoded</th>\n",
       "    </tr>\n",
       "  </thead>\n",
       "  <tbody>\n",
       "    <tr>\n",
       "      <th>8</th>\n",
       "      <td>utqoxontzn ojontbo</td>\n",
       "      <td>e245da546bf50eba09cb7c9976926bd56557d1ac9a17fb019e8de1fdb83fc0d6</td>\n",
       "      <td>2020.0</td>\n",
       "      <td>450000</td>\n",
       "      <td>NaN</td>\n",
       "      <td>2019.0</td>\n",
       "      <td>NaN</td>\n",
       "    </tr>\n",
       "    <tr>\n",
       "      <th>9</th>\n",
       "      <td>xrbhd</td>\n",
       "      <td>b2dc928f4c22a9860b4a427efb8ab761e1ce0015fba1a5e804e1dc27e305b06b</td>\n",
       "      <td>2019.0</td>\n",
       "      <td>360000</td>\n",
       "      <td>NaN</td>\n",
       "      <td>2019.0</td>\n",
       "      <td>NaN</td>\n",
       "    </tr>\n",
       "    <tr>\n",
       "      <th>12</th>\n",
       "      <td>mvqwrvjo wgqugqvnt mvzpxzs</td>\n",
       "      <td>7f24d2f5171ea469482a9966832237bc023678883ecd0c5142677b75a138b2fa</td>\n",
       "      <td>2020.0</td>\n",
       "      <td>800000</td>\n",
       "      <td>NaN</td>\n",
       "      <td>2020.0</td>\n",
       "      <td>NaN</td>\n",
       "    </tr>\n",
       "    <tr>\n",
       "      <th>17</th>\n",
       "      <td>puxn</td>\n",
       "      <td>26b502eb6439ac80bd618a6f7c2b1c640b84c1e64c472cf0510b0b36c2d3c247</td>\n",
       "      <td>2020.0</td>\n",
       "      <td>1400000</td>\n",
       "      <td>NaN</td>\n",
       "      <td>2019.0</td>\n",
       "      <td>NaN</td>\n",
       "    </tr>\n",
       "    <tr>\n",
       "      <th>18</th>\n",
       "      <td>mvlvl exzotqc</td>\n",
       "      <td>62d2e04b44c8bf2f6ec15d5b4c259c06199f598dc51816b1e32a84bc3ed980ea</td>\n",
       "      <td>2018.0</td>\n",
       "      <td>100000</td>\n",
       "      <td>NaN</td>\n",
       "      <td>2021.0</td>\n",
       "      <td>NaN</td>\n",
       "    </tr>\n",
       "  </tbody>\n",
       "</table>\n",
       "</div>"
      ],
      "text/plain": [
       "                  company_hash  \\\n",
       "8           utqoxontzn ojontbo   \n",
       "9                        xrbhd   \n",
       "12  mvqwrvjo wgqugqvnt mvzpxzs   \n",
       "17                        puxn   \n",
       "18               mvlvl exzotqc   \n",
       "\n",
       "                                                          email_hash  orgyear  \\\n",
       "8   e245da546bf50eba09cb7c9976926bd56557d1ac9a17fb019e8de1fdb83fc0d6   2020.0   \n",
       "9   b2dc928f4c22a9860b4a427efb8ab761e1ce0015fba1a5e804e1dc27e305b06b   2019.0   \n",
       "12  7f24d2f5171ea469482a9966832237bc023678883ecd0c5142677b75a138b2fa   2020.0   \n",
       "17  26b502eb6439ac80bd618a6f7c2b1c640b84c1e64c472cf0510b0b36c2d3c247   2020.0   \n",
       "18  62d2e04b44c8bf2f6ec15d5b4c259c06199f598dc51816b1e32a84bc3ed980ea   2018.0   \n",
       "\n",
       "        ctc job_position  ctc_updated_year  job_position_encoded  \n",
       "8    450000          NaN            2019.0                   NaN  \n",
       "9    360000          NaN            2019.0                   NaN  \n",
       "12   800000          NaN            2020.0                   NaN  \n",
       "17  1400000          NaN            2019.0                   NaN  \n",
       "18   100000          NaN            2021.0                   NaN  "
      ]
     },
     "execution_count": 406,
     "metadata": {},
     "output_type": "execute_result"
    }
   ],
   "source": [
    "#Verify if the NaN values are back in encoded job_position column\n",
    "\n",
    "df.loc[df['job_position'].isna()].head()"
   ]
  },
  {
   "cell_type": "code",
   "execution_count": 407,
   "id": "73814ddd",
   "metadata": {},
   "outputs": [],
   "source": [
    "#Perform Label encoding of company_hash column\n",
    "#Assumption: company is an ordinal categorical variable\n",
    "#Ordinal because: One company can be ranked as higher than other on variety of parameters\n",
    "\n",
    "le = LabelEncoder()\n",
    "df['company_hash_encoded'] = le.fit_transform(df['company_hash'].values)"
   ]
  },
  {
   "cell_type": "code",
   "execution_count": 408,
   "id": "1012983f",
   "metadata": {},
   "outputs": [],
   "source": [
    "#Feature Engineering\n",
    "#Years of Experience created as new column\n",
    "\n",
    "df['Years of Experience'] = datetime.date.today().year - df['orgyear']"
   ]
  },
  {
   "cell_type": "code",
   "execution_count": 409,
   "id": "aedee5fa",
   "metadata": {},
   "outputs": [],
   "source": [
    "#Create a new copy of encoded dataframe and drop the original values\n",
    "#Creating new df for further proceedings\n",
    "\n",
    "df1 = df.copy()\n",
    "df1 = df1.drop(['company_hash','job_position','email_hash'], axis=1)"
   ]
  },
  {
   "cell_type": "markdown",
   "id": "812bb888",
   "metadata": {},
   "source": [
    "### Missing value treatment using KNN Imputation"
   ]
  },
  {
   "cell_type": "code",
   "execution_count": 410,
   "id": "bbb42536",
   "metadata": {},
   "outputs": [],
   "source": [
    "#Perform KNN imputation to fill the missing values in job_position column\n",
    "\n",
    "knn = KNNImputer(n_neighbors=3)\n",
    "df1_imputed = knn.fit_transform(df1)\n",
    "\n",
    "df1_imputed_frame = pd.DataFrame(df1_imputed, columns=df1.columns)\n",
    "df1_imputed_frame['job_position_encoded'] = df1_imputed_frame['job_position_encoded'].round()"
   ]
  },
  {
   "cell_type": "code",
   "execution_count": 411,
   "id": "b7e6db69",
   "metadata": {},
   "outputs": [],
   "source": [
    "# dum = df.groupby(['company_hash', 'job_position']).filter(lambda x: len(x) >= 1)"
   ]
  },
  {
   "cell_type": "code",
   "execution_count": 413,
   "id": "f48bd1f7",
   "metadata": {},
   "outputs": [
    {
     "data": {
      "text/html": [
       "<div>\n",
       "<style scoped>\n",
       "    .dataframe tbody tr th:only-of-type {\n",
       "        vertical-align: middle;\n",
       "    }\n",
       "\n",
       "    .dataframe tbody tr th {\n",
       "        vertical-align: top;\n",
       "    }\n",
       "\n",
       "    .dataframe thead th {\n",
       "        text-align: right;\n",
       "    }\n",
       "</style>\n",
       "<table border=\"1\" class=\"dataframe\">\n",
       "  <thead>\n",
       "    <tr style=\"text-align: right;\">\n",
       "      <th></th>\n",
       "      <th>orgyear</th>\n",
       "      <th>ctc</th>\n",
       "      <th>ctc_updated_year</th>\n",
       "      <th>job_position_encoded</th>\n",
       "      <th>company_hash_encoded</th>\n",
       "      <th>Years of Experience</th>\n",
       "    </tr>\n",
       "  </thead>\n",
       "  <tbody>\n",
       "    <tr>\n",
       "      <th>0</th>\n",
       "      <td>2016.0</td>\n",
       "      <td>1100000.0</td>\n",
       "      <td>2020.0</td>\n",
       "      <td>409.0</td>\n",
       "      <td>968.0</td>\n",
       "      <td>7.0</td>\n",
       "    </tr>\n",
       "    <tr>\n",
       "      <th>1</th>\n",
       "      <td>2018.0</td>\n",
       "      <td>449999.0</td>\n",
       "      <td>2019.0</td>\n",
       "      <td>249.0</td>\n",
       "      <td>19711.0</td>\n",
       "      <td>5.0</td>\n",
       "    </tr>\n",
       "    <tr>\n",
       "      <th>2</th>\n",
       "      <td>2015.0</td>\n",
       "      <td>2000000.0</td>\n",
       "      <td>2020.0</td>\n",
       "      <td>108.0</td>\n",
       "      <td>15498.0</td>\n",
       "      <td>8.0</td>\n",
       "    </tr>\n",
       "    <tr>\n",
       "      <th>3</th>\n",
       "      <td>2017.0</td>\n",
       "      <td>700000.0</td>\n",
       "      <td>2019.0</td>\n",
       "      <td>108.0</td>\n",
       "      <td>12099.0</td>\n",
       "      <td>6.0</td>\n",
       "    </tr>\n",
       "    <tr>\n",
       "      <th>4</th>\n",
       "      <td>2017.0</td>\n",
       "      <td>1400000.0</td>\n",
       "      <td>2019.0</td>\n",
       "      <td>249.0</td>\n",
       "      <td>20207.0</td>\n",
       "      <td>6.0</td>\n",
       "    </tr>\n",
       "  </tbody>\n",
       "</table>\n",
       "</div>"
      ],
      "text/plain": [
       "   orgyear        ctc  ctc_updated_year  job_position_encoded  \\\n",
       "0   2016.0  1100000.0            2020.0                 409.0   \n",
       "1   2018.0   449999.0            2019.0                 249.0   \n",
       "2   2015.0  2000000.0            2020.0                 108.0   \n",
       "3   2017.0   700000.0            2019.0                 108.0   \n",
       "4   2017.0  1400000.0            2019.0                 249.0   \n",
       "\n",
       "   company_hash_encoded  Years of Experience  \n",
       "0                 968.0                  7.0  \n",
       "1               19711.0                  5.0  \n",
       "2               15498.0                  8.0  \n",
       "3               12099.0                  6.0  \n",
       "4               20207.0                  6.0  "
      ]
     },
     "execution_count": 413,
     "metadata": {},
     "output_type": "execute_result"
    }
   ],
   "source": [
    "#Get the glimpse of an imputed dataframe\n",
    "\n",
    "df1_imputed_frame.head()"
   ]
  },
  {
   "cell_type": "markdown",
   "id": "87131d7d",
   "metadata": {},
   "source": [
    "### Creation of tier based on comapny groupings w.r.t. CTC"
   ]
  },
  {
   "cell_type": "code",
   "execution_count": 414,
   "id": "e5c76bdd",
   "metadata": {},
   "outputs": [
    {
     "data": {
      "text/html": [
       "<div>\n",
       "<style scoped>\n",
       "    .dataframe tbody tr th:only-of-type {\n",
       "        vertical-align: middle;\n",
       "    }\n",
       "\n",
       "    .dataframe tbody tr th {\n",
       "        vertical-align: top;\n",
       "    }\n",
       "\n",
       "    .dataframe thead th {\n",
       "        text-align: right;\n",
       "    }\n",
       "</style>\n",
       "<table border=\"1\" class=\"dataframe\">\n",
       "  <thead>\n",
       "    <tr style=\"text-align: right;\">\n",
       "      <th></th>\n",
       "      <th>company_hash_encoded</th>\n",
       "      <th>25%</th>\n",
       "      <th>50%</th>\n",
       "      <th>75%</th>\n",
       "    </tr>\n",
       "  </thead>\n",
       "  <tbody>\n",
       "    <tr>\n",
       "      <th>0</th>\n",
       "      <td>0.0</td>\n",
       "      <td>100000.0</td>\n",
       "      <td>100000.0</td>\n",
       "      <td>100000.0</td>\n",
       "    </tr>\n",
       "    <tr>\n",
       "      <th>1</th>\n",
       "      <td>1.0</td>\n",
       "      <td>300000.0</td>\n",
       "      <td>300000.0</td>\n",
       "      <td>300000.0</td>\n",
       "    </tr>\n",
       "    <tr>\n",
       "      <th>2</th>\n",
       "      <td>2.0</td>\n",
       "      <td>410000.0</td>\n",
       "      <td>550000.0</td>\n",
       "      <td>690000.0</td>\n",
       "    </tr>\n",
       "    <tr>\n",
       "      <th>3</th>\n",
       "      <td>3.0</td>\n",
       "      <td>1100000.0</td>\n",
       "      <td>1100000.0</td>\n",
       "      <td>1100000.0</td>\n",
       "    </tr>\n",
       "    <tr>\n",
       "      <th>4</th>\n",
       "      <td>4.0</td>\n",
       "      <td>137500.0</td>\n",
       "      <td>175000.0</td>\n",
       "      <td>212500.0</td>\n",
       "    </tr>\n",
       "  </tbody>\n",
       "</table>\n",
       "</div>"
      ],
      "text/plain": [
       "   company_hash_encoded        25%        50%        75%\n",
       "0                   0.0   100000.0   100000.0   100000.0\n",
       "1                   1.0   300000.0   300000.0   300000.0\n",
       "2                   2.0   410000.0   550000.0   690000.0\n",
       "3                   3.0  1100000.0  1100000.0  1100000.0\n",
       "4                   4.0   137500.0   175000.0   212500.0"
      ]
     },
     "execution_count": 414,
     "metadata": {},
     "output_type": "execute_result"
    }
   ],
   "source": [
    "#Group by the companies by CTC and use describe() method to get the stats\n",
    "#Stats such as - 25, 50 and 75 percentile of the salary\n",
    "#This company level CTC will be used for creating the tiers in later steps\n",
    "\n",
    "temp = df1_imputed_frame.groupby(['company_hash_encoded'])['ctc'].describe()\n",
    "temp1 = temp.reset_index().drop(['count','mean','std','min','max'],axis=1)\n",
    "temp1.head()"
   ]
  },
  {
   "cell_type": "code",
   "execution_count": 415,
   "id": "1e11b5e2",
   "metadata": {},
   "outputs": [],
   "source": [
    "#Merge the original dataframe with the grouped dataframe\n",
    "\n",
    "df1_imputed_frame = pd.merge(df1_imputed_frame, temp1,on='company_hash_encoded',how='left')"
   ]
  },
  {
   "cell_type": "code",
   "execution_count": 416,
   "id": "00ca840d",
   "metadata": {},
   "outputs": [],
   "source": [
    "#Create company tier column with all zeros\n",
    "\n",
    "df1_imputed_frame['company_tier'] = np.zeros(df1_imputed_frame.shape[0])"
   ]
  },
  {
   "cell_type": "code",
   "execution_count": 417,
   "id": "1967f1eb",
   "metadata": {},
   "outputs": [],
   "source": [
    "#Records with CTC higher than 75% of their company's CTC are marked as tier 1.0\n",
    "\n",
    "df1_imputed_frame.loc[(df1_imputed_frame['ctc'] > df1_imputed_frame['75%']) \n",
    "                      & (df1_imputed_frame['company_tier']==0), 'company_tier'] = 1.0"
   ]
  },
  {
   "cell_type": "code",
   "execution_count": 418,
   "id": "eb913505",
   "metadata": {},
   "outputs": [],
   "source": [
    "#Records with CTC higher than 50% and lower than 75% of their company's CTC are marked as tier 2.0\n",
    "\n",
    "df1_imputed_frame.loc[(df1_imputed_frame['ctc'] >= df1_imputed_frame['50%']) \n",
    "                      & (df1_imputed_frame['company_tier']==0), 'company_tier'] = 2.0"
   ]
  },
  {
   "cell_type": "code",
   "execution_count": 419,
   "id": "4c46ac66",
   "metadata": {},
   "outputs": [],
   "source": [
    "#Records with CTC less than the 50% of their company's CTC are marked as tier 3.0\n",
    "\n",
    "df1_imputed_frame.loc[(df1_imputed_frame['ctc'] < df1_imputed_frame['50%']) \n",
    "                      & (df1_imputed_frame['company_tier']==0), 'company_tier'] = 3.0"
   ]
  },
  {
   "cell_type": "code",
   "execution_count": 420,
   "id": "7dbb6480",
   "metadata": {},
   "outputs": [
    {
     "data": {
      "text/html": [
       "<div>\n",
       "<style scoped>\n",
       "    .dataframe tbody tr th:only-of-type {\n",
       "        vertical-align: middle;\n",
       "    }\n",
       "\n",
       "    .dataframe tbody tr th {\n",
       "        vertical-align: top;\n",
       "    }\n",
       "\n",
       "    .dataframe thead th {\n",
       "        text-align: right;\n",
       "    }\n",
       "</style>\n",
       "<table border=\"1\" class=\"dataframe\">\n",
       "  <thead>\n",
       "    <tr style=\"text-align: right;\">\n",
       "      <th></th>\n",
       "      <th>orgyear</th>\n",
       "      <th>ctc</th>\n",
       "      <th>ctc_updated_year</th>\n",
       "      <th>job_position_encoded</th>\n",
       "      <th>company_hash_encoded</th>\n",
       "      <th>Years of Experience</th>\n",
       "      <th>25%</th>\n",
       "      <th>50%</th>\n",
       "      <th>75%</th>\n",
       "      <th>company_tier</th>\n",
       "    </tr>\n",
       "  </thead>\n",
       "  <tbody>\n",
       "    <tr>\n",
       "      <th>0</th>\n",
       "      <td>2016.0</td>\n",
       "      <td>1100000.0</td>\n",
       "      <td>2020.0</td>\n",
       "      <td>409.0</td>\n",
       "      <td>968.0</td>\n",
       "      <td>7.0</td>\n",
       "      <td>800000.0</td>\n",
       "      <td>1070000.0</td>\n",
       "      <td>1500000.0</td>\n",
       "      <td>2.0</td>\n",
       "    </tr>\n",
       "    <tr>\n",
       "      <th>1</th>\n",
       "      <td>2018.0</td>\n",
       "      <td>449999.0</td>\n",
       "      <td>2019.0</td>\n",
       "      <td>249.0</td>\n",
       "      <td>19711.0</td>\n",
       "      <td>5.0</td>\n",
       "      <td>600000.0</td>\n",
       "      <td>900000.0</td>\n",
       "      <td>1688750.0</td>\n",
       "      <td>3.0</td>\n",
       "    </tr>\n",
       "    <tr>\n",
       "      <th>2</th>\n",
       "      <td>2015.0</td>\n",
       "      <td>2000000.0</td>\n",
       "      <td>2020.0</td>\n",
       "      <td>108.0</td>\n",
       "      <td>15498.0</td>\n",
       "      <td>8.0</td>\n",
       "      <td>2000000.0</td>\n",
       "      <td>2000000.0</td>\n",
       "      <td>2000000.0</td>\n",
       "      <td>2.0</td>\n",
       "    </tr>\n",
       "    <tr>\n",
       "      <th>3</th>\n",
       "      <td>2017.0</td>\n",
       "      <td>700000.0</td>\n",
       "      <td>2019.0</td>\n",
       "      <td>108.0</td>\n",
       "      <td>12099.0</td>\n",
       "      <td>6.0</td>\n",
       "      <td>1100000.0</td>\n",
       "      <td>1400000.0</td>\n",
       "      <td>2000000.0</td>\n",
       "      <td>3.0</td>\n",
       "    </tr>\n",
       "    <tr>\n",
       "      <th>4</th>\n",
       "      <td>2017.0</td>\n",
       "      <td>1400000.0</td>\n",
       "      <td>2019.0</td>\n",
       "      <td>249.0</td>\n",
       "      <td>20207.0</td>\n",
       "      <td>6.0</td>\n",
       "      <td>625000.0</td>\n",
       "      <td>850000.0</td>\n",
       "      <td>1300000.0</td>\n",
       "      <td>1.0</td>\n",
       "    </tr>\n",
       "  </tbody>\n",
       "</table>\n",
       "</div>"
      ],
      "text/plain": [
       "   orgyear        ctc  ctc_updated_year  job_position_encoded  \\\n",
       "0   2016.0  1100000.0            2020.0                 409.0   \n",
       "1   2018.0   449999.0            2019.0                 249.0   \n",
       "2   2015.0  2000000.0            2020.0                 108.0   \n",
       "3   2017.0   700000.0            2019.0                 108.0   \n",
       "4   2017.0  1400000.0            2019.0                 249.0   \n",
       "\n",
       "   company_hash_encoded  Years of Experience        25%        50%        75%  \\\n",
       "0                 968.0                  7.0   800000.0  1070000.0  1500000.0   \n",
       "1               19711.0                  5.0   600000.0   900000.0  1688750.0   \n",
       "2               15498.0                  8.0  2000000.0  2000000.0  2000000.0   \n",
       "3               12099.0                  6.0  1100000.0  1400000.0  2000000.0   \n",
       "4               20207.0                  6.0   625000.0   850000.0  1300000.0   \n",
       "\n",
       "   company_tier  \n",
       "0           2.0  \n",
       "1           3.0  \n",
       "2           2.0  \n",
       "3           3.0  \n",
       "4           1.0  "
      ]
     },
     "execution_count": 420,
     "metadata": {},
     "output_type": "execute_result"
    }
   ],
   "source": [
    "#Get the glimpse of the dataframe after company tier creation\n",
    "\n",
    "df1_imputed_frame.head()"
   ]
  },
  {
   "cell_type": "code",
   "execution_count": 421,
   "id": "3f1741bf",
   "metadata": {},
   "outputs": [
    {
     "data": {
      "text/plain": [
       "2.0    83350\n",
       "3.0    80238\n",
       "1.0    42125\n",
       "Name: company_tier, dtype: int64"
      ]
     },
     "execution_count": 421,
     "metadata": {},
     "output_type": "execute_result"
    }
   ],
   "source": [
    "#Check value counts per company tier\n",
    "\n",
    "df1_imputed_frame['company_tier'].value_counts()\n",
    "\n",
    "#Inference - We can see that majority of employees are in tier 2 and tier 3 companies.\n",
    "#So there are many professional with upskilling opportunities"
   ]
  },
  {
   "cell_type": "code",
   "execution_count": 422,
   "id": "78482c06",
   "metadata": {},
   "outputs": [],
   "source": [
    "#Drop the unwanted columns as they are no longer needed\n",
    "\n",
    "df1_imputed_frame = df1_imputed_frame.drop(['25%','50%','75%'], axis=1)"
   ]
  },
  {
   "cell_type": "markdown",
   "id": "2db601a5",
   "metadata": {},
   "source": [
    "### Creation of tier based on company & job position groupings w.r.t. CTC"
   ]
  },
  {
   "cell_type": "code",
   "execution_count": 423,
   "id": "87b6fe41",
   "metadata": {},
   "outputs": [
    {
     "data": {
      "text/html": [
       "<div>\n",
       "<style scoped>\n",
       "    .dataframe tbody tr th:only-of-type {\n",
       "        vertical-align: middle;\n",
       "    }\n",
       "\n",
       "    .dataframe tbody tr th {\n",
       "        vertical-align: top;\n",
       "    }\n",
       "\n",
       "    .dataframe thead th {\n",
       "        text-align: right;\n",
       "    }\n",
       "</style>\n",
       "<table border=\"1\" class=\"dataframe\">\n",
       "  <thead>\n",
       "    <tr style=\"text-align: right;\">\n",
       "      <th></th>\n",
       "      <th>company_hash_encoded</th>\n",
       "      <th>job_position_encoded</th>\n",
       "      <th>25%</th>\n",
       "      <th>50%</th>\n",
       "      <th>75%</th>\n",
       "    </tr>\n",
       "  </thead>\n",
       "  <tbody>\n",
       "    <tr>\n",
       "      <th>0</th>\n",
       "      <td>0.0</td>\n",
       "      <td>208.0</td>\n",
       "      <td>100000.0</td>\n",
       "      <td>100000.0</td>\n",
       "      <td>100000.0</td>\n",
       "    </tr>\n",
       "    <tr>\n",
       "      <th>1</th>\n",
       "      <td>0.0</td>\n",
       "      <td>409.0</td>\n",
       "      <td>100000.0</td>\n",
       "      <td>100000.0</td>\n",
       "      <td>100000.0</td>\n",
       "    </tr>\n",
       "    <tr>\n",
       "      <th>2</th>\n",
       "      <td>1.0</td>\n",
       "      <td>409.0</td>\n",
       "      <td>300000.0</td>\n",
       "      <td>300000.0</td>\n",
       "      <td>300000.0</td>\n",
       "    </tr>\n",
       "    <tr>\n",
       "      <th>3</th>\n",
       "      <td>2.0</td>\n",
       "      <td>25.0</td>\n",
       "      <td>270000.0</td>\n",
       "      <td>270000.0</td>\n",
       "      <td>270000.0</td>\n",
       "    </tr>\n",
       "    <tr>\n",
       "      <th>4</th>\n",
       "      <td>2.0</td>\n",
       "      <td>245.0</td>\n",
       "      <td>830000.0</td>\n",
       "      <td>830000.0</td>\n",
       "      <td>830000.0</td>\n",
       "    </tr>\n",
       "    <tr>\n",
       "      <th>...</th>\n",
       "      <td>...</td>\n",
       "      <td>...</td>\n",
       "      <td>...</td>\n",
       "      <td>...</td>\n",
       "      <td>...</td>\n",
       "    </tr>\n",
       "    <tr>\n",
       "      <th>87242</th>\n",
       "      <td>37270.0</td>\n",
       "      <td>409.0</td>\n",
       "      <td>1370000.0</td>\n",
       "      <td>1370000.0</td>\n",
       "      <td>1370000.0</td>\n",
       "    </tr>\n",
       "    <tr>\n",
       "      <th>87243</th>\n",
       "      <td>37271.0</td>\n",
       "      <td>249.0</td>\n",
       "      <td>600000.0</td>\n",
       "      <td>600000.0</td>\n",
       "      <td>600000.0</td>\n",
       "    </tr>\n",
       "    <tr>\n",
       "      <th>87244</th>\n",
       "      <td>37271.0</td>\n",
       "      <td>301.0</td>\n",
       "      <td>600000.0</td>\n",
       "      <td>600000.0</td>\n",
       "      <td>600000.0</td>\n",
       "    </tr>\n",
       "    <tr>\n",
       "      <th>87245</th>\n",
       "      <td>37272.0</td>\n",
       "      <td>155.0</td>\n",
       "      <td>130000.0</td>\n",
       "      <td>130000.0</td>\n",
       "      <td>130000.0</td>\n",
       "    </tr>\n",
       "    <tr>\n",
       "      <th>87246</th>\n",
       "      <td>37273.0</td>\n",
       "      <td>409.0</td>\n",
       "      <td>720000.0</td>\n",
       "      <td>720000.0</td>\n",
       "      <td>720000.0</td>\n",
       "    </tr>\n",
       "  </tbody>\n",
       "</table>\n",
       "<p>87247 rows × 5 columns</p>\n",
       "</div>"
      ],
      "text/plain": [
       "       company_hash_encoded  job_position_encoded        25%        50%  \\\n",
       "0                       0.0                 208.0   100000.0   100000.0   \n",
       "1                       0.0                 409.0   100000.0   100000.0   \n",
       "2                       1.0                 409.0   300000.0   300000.0   \n",
       "3                       2.0                  25.0   270000.0   270000.0   \n",
       "4                       2.0                 245.0   830000.0   830000.0   \n",
       "...                     ...                   ...        ...        ...   \n",
       "87242               37270.0                 409.0  1370000.0  1370000.0   \n",
       "87243               37271.0                 249.0   600000.0   600000.0   \n",
       "87244               37271.0                 301.0   600000.0   600000.0   \n",
       "87245               37272.0                 155.0   130000.0   130000.0   \n",
       "87246               37273.0                 409.0   720000.0   720000.0   \n",
       "\n",
       "             75%  \n",
       "0       100000.0  \n",
       "1       100000.0  \n",
       "2       300000.0  \n",
       "3       270000.0  \n",
       "4       830000.0  \n",
       "...          ...  \n",
       "87242  1370000.0  \n",
       "87243   600000.0  \n",
       "87244   600000.0  \n",
       "87245   130000.0  \n",
       "87246   720000.0  \n",
       "\n",
       "[87247 rows x 5 columns]"
      ]
     },
     "execution_count": 423,
     "metadata": {},
     "output_type": "execute_result"
    }
   ],
   "source": [
    "#Group by the companies and job_positions by CTC and use describe() method to get the stats\n",
    "#Stats such as - 25, 50 and 75 percentile of the salary\n",
    "#This company & job level CTC will be used for creating the tiers in later steps\n",
    "\n",
    "temp2 = df1_imputed_frame.groupby(['company_hash_encoded','job_position_encoded'])['ctc'].describe()\n",
    "temp3 = temp2.reset_index().drop(['count','mean','std','min','max'],axis=1)\n",
    "temp3"
   ]
  },
  {
   "cell_type": "code",
   "execution_count": 424,
   "id": "b78fc613",
   "metadata": {},
   "outputs": [],
   "source": [
    "#Merge the original dataframe with the grouped dataframe\n",
    "\n",
    "df1_imputed_frame = pd.merge(df1_imputed_frame, temp3\n",
    "                             ,on=['company_hash_encoded','job_position_encoded'],how='left')"
   ]
  },
  {
   "cell_type": "code",
   "execution_count": 425,
   "id": "41f4b83f",
   "metadata": {},
   "outputs": [],
   "source": [
    "#Create a company_job_tier column with all zeros\n",
    "\n",
    "df1_imputed_frame['company_job_tier'] = np.zeros(df1_imputed_frame.shape[0])"
   ]
  },
  {
   "cell_type": "code",
   "execution_count": 426,
   "id": "5c06ea1d",
   "metadata": {},
   "outputs": [],
   "source": [
    "#Records with CTC higher than 75% CTC of thier company job role are marked as cluster 1.0\n",
    "\n",
    "df1_imputed_frame.loc[(df1_imputed_frame['ctc'] > df1_imputed_frame['75%']) \n",
    "                      & (df1_imputed_frame['company_job_tier']==0), 'company_job_tier'] = 1.0"
   ]
  },
  {
   "cell_type": "code",
   "execution_count": 427,
   "id": "eef520d7",
   "metadata": {},
   "outputs": [],
   "source": [
    "#Records with CTC higher than 50% CTC of their company job role are marked as cluster 2.0\n",
    "\n",
    "df1_imputed_frame.loc[(df1_imputed_frame['ctc'] >= df1_imputed_frame['50%']) \n",
    "                      & (df1_imputed_frame['company_job_tier']==0), 'company_job_tier'] = 2.0"
   ]
  },
  {
   "cell_type": "code",
   "execution_count": 428,
   "id": "059a51a8",
   "metadata": {},
   "outputs": [],
   "source": [
    "#Records with CTC less than 50% CTC of their company job role are marked as cluster 3.0\n",
    "\n",
    "df1_imputed_frame.loc[(df1_imputed_frame['ctc'] < df1_imputed_frame['50%']) \n",
    "                      & (df1_imputed_frame['company_job_tier']==0), 'company_job_tier'] = 3.0"
   ]
  },
  {
   "cell_type": "code",
   "execution_count": 429,
   "id": "a4991910",
   "metadata": {},
   "outputs": [
    {
     "data": {
      "text/plain": [
       "2.0    114330\n",
       "3.0     57235\n",
       "1.0     34148\n",
       "Name: company_job_tier, dtype: int64"
      ]
     },
     "execution_count": 429,
     "metadata": {},
     "output_type": "execute_result"
    }
   ],
   "source": [
    "#Get the value counts per company job role cluster\n",
    "\n",
    "df1_imputed_frame['company_job_tier'].value_counts()\n",
    "\n",
    "#Inference - Highest number of employees are in the tier 2 job role. So very high scope of upskilling"
   ]
  },
  {
   "cell_type": "code",
   "execution_count": 430,
   "id": "6ac57cdf",
   "metadata": {},
   "outputs": [],
   "source": [
    "#Drop unwanted columns as they are no longer needed\n",
    "\n",
    "df1_imputed_frame = df1_imputed_frame.drop(['25%','50%','75%'], axis=1)"
   ]
  },
  {
   "cell_type": "markdown",
   "id": "249ec8e4",
   "metadata": {},
   "source": [
    "### Creation of tier based on years of exp & job position groupings w.r.t. CTC"
   ]
  },
  {
   "cell_type": "code",
   "execution_count": 431,
   "id": "81e59934",
   "metadata": {},
   "outputs": [
    {
     "data": {
      "text/html": [
       "<div>\n",
       "<style scoped>\n",
       "    .dataframe tbody tr th:only-of-type {\n",
       "        vertical-align: middle;\n",
       "    }\n",
       "\n",
       "    .dataframe tbody tr th {\n",
       "        vertical-align: top;\n",
       "    }\n",
       "\n",
       "    .dataframe thead th {\n",
       "        text-align: right;\n",
       "    }\n",
       "</style>\n",
       "<table border=\"1\" class=\"dataframe\">\n",
       "  <thead>\n",
       "    <tr style=\"text-align: right;\">\n",
       "      <th></th>\n",
       "      <th>Years of Experience</th>\n",
       "      <th>job_position_encoded</th>\n",
       "      <th>25%</th>\n",
       "      <th>50%</th>\n",
       "      <th>75%</th>\n",
       "    </tr>\n",
       "  </thead>\n",
       "  <tbody>\n",
       "    <tr>\n",
       "      <th>0</th>\n",
       "      <td>-18142.0</td>\n",
       "      <td>102.0</td>\n",
       "      <td>850000.0</td>\n",
       "      <td>850000.0</td>\n",
       "      <td>850000.0</td>\n",
       "    </tr>\n",
       "    <tr>\n",
       "      <th>1</th>\n",
       "      <td>-18142.0</td>\n",
       "      <td>291.0</td>\n",
       "      <td>1560000.0</td>\n",
       "      <td>1560000.0</td>\n",
       "      <td>1560000.0</td>\n",
       "    </tr>\n",
       "    <tr>\n",
       "      <th>2</th>\n",
       "      <td>-181.0</td>\n",
       "      <td>173.0</td>\n",
       "      <td>2160000.0</td>\n",
       "      <td>2160000.0</td>\n",
       "      <td>2160000.0</td>\n",
       "    </tr>\n",
       "    <tr>\n",
       "      <th>3</th>\n",
       "      <td>-84.0</td>\n",
       "      <td>202.0</td>\n",
       "      <td>3000000.0</td>\n",
       "      <td>3000000.0</td>\n",
       "      <td>3000000.0</td>\n",
       "    </tr>\n",
       "    <tr>\n",
       "      <th>4</th>\n",
       "      <td>-83.0</td>\n",
       "      <td>175.0</td>\n",
       "      <td>600000.0</td>\n",
       "      <td>600000.0</td>\n",
       "      <td>600000.0</td>\n",
       "    </tr>\n",
       "  </tbody>\n",
       "</table>\n",
       "</div>"
      ],
      "text/plain": [
       "   Years of Experience  job_position_encoded        25%        50%        75%\n",
       "0             -18142.0                 102.0   850000.0   850000.0   850000.0\n",
       "1             -18142.0                 291.0  1560000.0  1560000.0  1560000.0\n",
       "2               -181.0                 173.0  2160000.0  2160000.0  2160000.0\n",
       "3                -84.0                 202.0  3000000.0  3000000.0  3000000.0\n",
       "4                -83.0                 175.0   600000.0   600000.0   600000.0"
      ]
     },
     "execution_count": 431,
     "metadata": {},
     "output_type": "execute_result"
    }
   ],
   "source": [
    "#Group by the years of exp. and job_positions by CTC and use describe() method to get the stats\n",
    "#Stats such as - 25, 50 and 75 percentile of the salary\n",
    "#This years of exp & job level CTC will be used for creating the tiers in later steps\n",
    "\n",
    "temp4 = df1_imputed_frame.groupby(['Years of Experience','job_position_encoded'])['ctc'].describe()\n",
    "temp5 = temp4.reset_index().drop(['count','mean','std','min','max'],axis=1)\n",
    "temp5.head()"
   ]
  },
  {
   "cell_type": "code",
   "execution_count": 432,
   "id": "c1d39fae",
   "metadata": {},
   "outputs": [],
   "source": [
    "#Merge the original dataframe with the grouped df\n",
    "\n",
    "df1_imputed_frame = pd.merge(df1_imputed_frame, temp5\n",
    "                             ,on=['Years of Experience','job_position_encoded'],how='left')"
   ]
  },
  {
   "cell_type": "code",
   "execution_count": 433,
   "id": "6eaf6763",
   "metadata": {},
   "outputs": [],
   "source": [
    "#Create years_job_tier with all zero values\n",
    "\n",
    "df1_imputed_frame['years_job_tier'] = np.zeros(df1_imputed_frame.shape[0])"
   ]
  },
  {
   "cell_type": "code",
   "execution_count": 434,
   "id": "f0c665cf",
   "metadata": {},
   "outputs": [],
   "source": [
    "#Records with CTC higher than 75% CTC of thier years of exp. job role are marked as cluster 1.0\n",
    "\n",
    "df1_imputed_frame.loc[(df1_imputed_frame['ctc'] > df1_imputed_frame['75%']) \n",
    "                      & (df1_imputed_frame['years_job_tier']==0), 'years_job_tier'] = 1.0"
   ]
  },
  {
   "cell_type": "code",
   "execution_count": 435,
   "id": "70d21f8e",
   "metadata": {},
   "outputs": [],
   "source": [
    "#Records with CTC higher than 50% CTC of thier years of exp. job role are marked as cluster 2.0\n",
    "\n",
    "df1_imputed_frame.loc[(df1_imputed_frame['ctc'] >= df1_imputed_frame['50%']) \n",
    "                      & (df1_imputed_frame['years_job_tier']==0), 'years_job_tier'] = 2.0"
   ]
  },
  {
   "cell_type": "code",
   "execution_count": 436,
   "id": "149b7cb0",
   "metadata": {},
   "outputs": [],
   "source": [
    "#Records with CTC less than 50% CTC of thier years of exp. job role are marked as cluster 3.0\n",
    "\n",
    "df1_imputed_frame.loc[(df1_imputed_frame['ctc'] < df1_imputed_frame['50%']) \n",
    "                      & (df1_imputed_frame['years_job_tier']==0), 'years_job_tier'] = 3.0"
   ]
  },
  {
   "cell_type": "code",
   "execution_count": 437,
   "id": "f21fe3e8",
   "metadata": {},
   "outputs": [
    {
     "data": {
      "text/plain": [
       "3.0    95652\n",
       "2.0    60918\n",
       "1.0    49143\n",
       "Name: years_job_tier, dtype: int64"
      ]
     },
     "execution_count": 437,
     "metadata": {},
     "output_type": "execute_result"
    }
   ],
   "source": [
    "#Check the number of records counts per years_job_tier\n",
    "\n",
    "df1_imputed_frame['years_job_tier'].value_counts()\n",
    "\n",
    "#Inference - There are a lot of professionals in years_job_tier 3 meaning there is a very high scope of \n",
    "#            upskilling and increaing the CTC"
   ]
  },
  {
   "cell_type": "code",
   "execution_count": 438,
   "id": "6c8e8b16",
   "metadata": {},
   "outputs": [],
   "source": [
    "#Drop the unwanted columns as those are no longer needed\n",
    "\n",
    "df1_imputed_frame = df1_imputed_frame.drop(['25%','50%','75%'], axis=1)"
   ]
  },
  {
   "cell_type": "code",
   "execution_count": 439,
   "id": "c95d6c27",
   "metadata": {},
   "outputs": [
    {
     "data": {
      "text/html": [
       "<div>\n",
       "<style scoped>\n",
       "    .dataframe tbody tr th:only-of-type {\n",
       "        vertical-align: middle;\n",
       "    }\n",
       "\n",
       "    .dataframe tbody tr th {\n",
       "        vertical-align: top;\n",
       "    }\n",
       "\n",
       "    .dataframe thead th {\n",
       "        text-align: right;\n",
       "    }\n",
       "</style>\n",
       "<table border=\"1\" class=\"dataframe\">\n",
       "  <thead>\n",
       "    <tr style=\"text-align: right;\">\n",
       "      <th></th>\n",
       "      <th>orgyear</th>\n",
       "      <th>ctc</th>\n",
       "      <th>ctc_updated_year</th>\n",
       "      <th>job_position_encoded</th>\n",
       "      <th>company_hash_encoded</th>\n",
       "      <th>Years of Experience</th>\n",
       "      <th>company_tier</th>\n",
       "      <th>company_job_tier</th>\n",
       "      <th>years_job_tier</th>\n",
       "    </tr>\n",
       "  </thead>\n",
       "  <tbody>\n",
       "    <tr>\n",
       "      <th>0</th>\n",
       "      <td>2016.0</td>\n",
       "      <td>1100000.0</td>\n",
       "      <td>2020.0</td>\n",
       "      <td>409.0</td>\n",
       "      <td>968.0</td>\n",
       "      <td>7.0</td>\n",
       "      <td>2.0</td>\n",
       "      <td>1.0</td>\n",
       "      <td>1.0</td>\n",
       "    </tr>\n",
       "    <tr>\n",
       "      <th>1</th>\n",
       "      <td>2018.0</td>\n",
       "      <td>449999.0</td>\n",
       "      <td>2019.0</td>\n",
       "      <td>249.0</td>\n",
       "      <td>19711.0</td>\n",
       "      <td>5.0</td>\n",
       "      <td>3.0</td>\n",
       "      <td>3.0</td>\n",
       "      <td>3.0</td>\n",
       "    </tr>\n",
       "    <tr>\n",
       "      <th>2</th>\n",
       "      <td>2015.0</td>\n",
       "      <td>2000000.0</td>\n",
       "      <td>2020.0</td>\n",
       "      <td>108.0</td>\n",
       "      <td>15498.0</td>\n",
       "      <td>8.0</td>\n",
       "      <td>2.0</td>\n",
       "      <td>2.0</td>\n",
       "      <td>2.0</td>\n",
       "    </tr>\n",
       "    <tr>\n",
       "      <th>3</th>\n",
       "      <td>2017.0</td>\n",
       "      <td>700000.0</td>\n",
       "      <td>2019.0</td>\n",
       "      <td>108.0</td>\n",
       "      <td>12099.0</td>\n",
       "      <td>6.0</td>\n",
       "      <td>3.0</td>\n",
       "      <td>3.0</td>\n",
       "      <td>3.0</td>\n",
       "    </tr>\n",
       "    <tr>\n",
       "      <th>4</th>\n",
       "      <td>2017.0</td>\n",
       "      <td>1400000.0</td>\n",
       "      <td>2019.0</td>\n",
       "      <td>249.0</td>\n",
       "      <td>20207.0</td>\n",
       "      <td>6.0</td>\n",
       "      <td>1.0</td>\n",
       "      <td>1.0</td>\n",
       "      <td>1.0</td>\n",
       "    </tr>\n",
       "  </tbody>\n",
       "</table>\n",
       "</div>"
      ],
      "text/plain": [
       "   orgyear        ctc  ctc_updated_year  job_position_encoded  \\\n",
       "0   2016.0  1100000.0            2020.0                 409.0   \n",
       "1   2018.0   449999.0            2019.0                 249.0   \n",
       "2   2015.0  2000000.0            2020.0                 108.0   \n",
       "3   2017.0   700000.0            2019.0                 108.0   \n",
       "4   2017.0  1400000.0            2019.0                 249.0   \n",
       "\n",
       "   company_hash_encoded  Years of Experience  company_tier  company_job_tier  \\\n",
       "0                 968.0                  7.0           2.0               1.0   \n",
       "1               19711.0                  5.0           3.0               3.0   \n",
       "2               15498.0                  8.0           2.0               2.0   \n",
       "3               12099.0                  6.0           3.0               3.0   \n",
       "4               20207.0                  6.0           1.0               1.0   \n",
       "\n",
       "   years_job_tier  \n",
       "0             1.0  \n",
       "1             3.0  \n",
       "2             2.0  \n",
       "3             3.0  \n",
       "4             1.0  "
      ]
     },
     "execution_count": 439,
     "metadata": {},
     "output_type": "execute_result"
    }
   ],
   "source": [
    "#Get the glimpse of the dataframe prepared so far\n",
    "\n",
    "df1_imputed_frame.head()"
   ]
  },
  {
   "cell_type": "code",
   "execution_count": 440,
   "id": "4721eb70",
   "metadata": {},
   "outputs": [],
   "source": [
    "#Rename the tier columns as requested in the case study\n",
    "\n",
    "df1_imputed_frame = df1_imputed_frame.rename(columns={'years_job_tier':'Designation',\n",
    "                                                      'company_job_tier':'Class',\n",
    "                                                      'company_tier':'Tier'})"
   ]
  },
  {
   "cell_type": "code",
   "execution_count": 441,
   "id": "059f52be",
   "metadata": {},
   "outputs": [],
   "source": [
    "#Create a brand new copy of the dataframe to proceed further\n",
    "\n",
    "df2 = df1_imputed_frame.copy()"
   ]
  },
  {
   "cell_type": "code",
   "execution_count": 442,
   "id": "23d53018",
   "metadata": {},
   "outputs": [],
   "source": [
    "#Get back the original values - email_hash, company_hash, job_position\n",
    "#Purpose of getting those back - To answer some analytical questions\n",
    "\n",
    "df2['email_hash'] = df['email_hash'].values\n",
    "df2['company_hash'] = df['company_hash'].values\n",
    "df2['job_position'] = df['job_position'].values"
   ]
  },
  {
   "cell_type": "code",
   "execution_count": 443,
   "id": "e9a990db",
   "metadata": {},
   "outputs": [],
   "source": [
    "#Rearrange the dataframe columns\n",
    "\n",
    "df2 = df2[['company_hash',\n",
    "           'company_hash_encoded',\n",
    "          'email_hash',\n",
    "          'orgyear','ctc',\n",
    "          'job_position',\n",
    "          'job_position_encoded',\n",
    "          'ctc_updated_year',\n",
    "          'Years of Experience',\n",
    "          'Tier',\n",
    "          'Class',\n",
    "          'Designation']]"
   ]
  },
  {
   "cell_type": "code",
   "execution_count": 444,
   "id": "e2745c48",
   "metadata": {},
   "outputs": [
    {
     "data": {
      "text/html": [
       "<div>\n",
       "<style scoped>\n",
       "    .dataframe tbody tr th:only-of-type {\n",
       "        vertical-align: middle;\n",
       "    }\n",
       "\n",
       "    .dataframe tbody tr th {\n",
       "        vertical-align: top;\n",
       "    }\n",
       "\n",
       "    .dataframe thead th {\n",
       "        text-align: right;\n",
       "    }\n",
       "</style>\n",
       "<table border=\"1\" class=\"dataframe\">\n",
       "  <thead>\n",
       "    <tr style=\"text-align: right;\">\n",
       "      <th></th>\n",
       "      <th>company_hash</th>\n",
       "      <th>company_hash_encoded</th>\n",
       "      <th>email_hash</th>\n",
       "      <th>orgyear</th>\n",
       "      <th>ctc</th>\n",
       "      <th>job_position</th>\n",
       "      <th>job_position_encoded</th>\n",
       "      <th>ctc_updated_year</th>\n",
       "      <th>Years of Experience</th>\n",
       "      <th>Tier</th>\n",
       "      <th>Class</th>\n",
       "      <th>Designation</th>\n",
       "    </tr>\n",
       "  </thead>\n",
       "  <tbody>\n",
       "    <tr>\n",
       "      <th>0</th>\n",
       "      <td>atrgxnnt xzaxv</td>\n",
       "      <td>968.0</td>\n",
       "      <td>6de0a4417d18ab14334c3f43397fc13b30c35149d70c050c0618caea697c87af</td>\n",
       "      <td>2016.0</td>\n",
       "      <td>1100000.0</td>\n",
       "      <td>OTHER</td>\n",
       "      <td>409.0</td>\n",
       "      <td>2020.0</td>\n",
       "      <td>7.0</td>\n",
       "      <td>2.0</td>\n",
       "      <td>1.0</td>\n",
       "      <td>1.0</td>\n",
       "    </tr>\n",
       "    <tr>\n",
       "      <th>1</th>\n",
       "      <td>qtrxvzwt xzegwgbb rxbxnta</td>\n",
       "      <td>19711.0</td>\n",
       "      <td>b0aaf1ac138b53cb6e039ba2c3d6604a250d02d5145c100a9661a92bdcc0407b</td>\n",
       "      <td>2018.0</td>\n",
       "      <td>449999.0</td>\n",
       "      <td>FULL STACK ENGINEER</td>\n",
       "      <td>249.0</td>\n",
       "      <td>2019.0</td>\n",
       "      <td>5.0</td>\n",
       "      <td>3.0</td>\n",
       "      <td>3.0</td>\n",
       "      <td>3.0</td>\n",
       "    </tr>\n",
       "    <tr>\n",
       "      <th>2</th>\n",
       "      <td>ojzwnvwnxw vx</td>\n",
       "      <td>15498.0</td>\n",
       "      <td>4860c670bcd48fb96c02a4b0ae3608ae6fdd98176112e90fd66c9df6b37b9059</td>\n",
       "      <td>2015.0</td>\n",
       "      <td>2000000.0</td>\n",
       "      <td>BACKEND ENGINEER</td>\n",
       "      <td>108.0</td>\n",
       "      <td>2020.0</td>\n",
       "      <td>8.0</td>\n",
       "      <td>2.0</td>\n",
       "      <td>2.0</td>\n",
       "      <td>2.0</td>\n",
       "    </tr>\n",
       "    <tr>\n",
       "      <th>3</th>\n",
       "      <td>ngpgutaxv</td>\n",
       "      <td>12099.0</td>\n",
       "      <td>effdede7a2e7c2af664c8a31d9346385016128d66bbc58a44274d5d6876dfec7</td>\n",
       "      <td>2017.0</td>\n",
       "      <td>700000.0</td>\n",
       "      <td>BACKEND ENGINEER</td>\n",
       "      <td>108.0</td>\n",
       "      <td>2019.0</td>\n",
       "      <td>6.0</td>\n",
       "      <td>3.0</td>\n",
       "      <td>3.0</td>\n",
       "      <td>3.0</td>\n",
       "    </tr>\n",
       "    <tr>\n",
       "      <th>4</th>\n",
       "      <td>qxen sqghu</td>\n",
       "      <td>20207.0</td>\n",
       "      <td>6ff54e709262f55cb999a1c1db8436cb2055d8f79ab520214b31b95211adb095</td>\n",
       "      <td>2017.0</td>\n",
       "      <td>1400000.0</td>\n",
       "      <td>FULL STACK ENGINEER</td>\n",
       "      <td>249.0</td>\n",
       "      <td>2019.0</td>\n",
       "      <td>6.0</td>\n",
       "      <td>1.0</td>\n",
       "      <td>1.0</td>\n",
       "      <td>1.0</td>\n",
       "    </tr>\n",
       "  </tbody>\n",
       "</table>\n",
       "</div>"
      ],
      "text/plain": [
       "                company_hash  company_hash_encoded  \\\n",
       "0             atrgxnnt xzaxv                 968.0   \n",
       "1  qtrxvzwt xzegwgbb rxbxnta               19711.0   \n",
       "2              ojzwnvwnxw vx               15498.0   \n",
       "3                  ngpgutaxv               12099.0   \n",
       "4                 qxen sqghu               20207.0   \n",
       "\n",
       "                                                         email_hash  orgyear  \\\n",
       "0  6de0a4417d18ab14334c3f43397fc13b30c35149d70c050c0618caea697c87af   2016.0   \n",
       "1  b0aaf1ac138b53cb6e039ba2c3d6604a250d02d5145c100a9661a92bdcc0407b   2018.0   \n",
       "2  4860c670bcd48fb96c02a4b0ae3608ae6fdd98176112e90fd66c9df6b37b9059   2015.0   \n",
       "3  effdede7a2e7c2af664c8a31d9346385016128d66bbc58a44274d5d6876dfec7   2017.0   \n",
       "4  6ff54e709262f55cb999a1c1db8436cb2055d8f79ab520214b31b95211adb095   2017.0   \n",
       "\n",
       "         ctc         job_position  job_position_encoded  ctc_updated_year  \\\n",
       "0  1100000.0                OTHER                 409.0            2020.0   \n",
       "1   449999.0  FULL STACK ENGINEER                 249.0            2019.0   \n",
       "2  2000000.0     BACKEND ENGINEER                 108.0            2020.0   \n",
       "3   700000.0     BACKEND ENGINEER                 108.0            2019.0   \n",
       "4  1400000.0  FULL STACK ENGINEER                 249.0            2019.0   \n",
       "\n",
       "   Years of Experience  Tier  Class  Designation  \n",
       "0                  7.0   2.0    1.0          1.0  \n",
       "1                  5.0   3.0    3.0          3.0  \n",
       "2                  8.0   2.0    2.0          2.0  \n",
       "3                  6.0   3.0    3.0          3.0  \n",
       "4                  6.0   1.0    1.0          1.0  "
      ]
     },
     "execution_count": 444,
     "metadata": {},
     "output_type": "execute_result"
    }
   ],
   "source": [
    "#Get the glimpse of the dataframe\n",
    "\n",
    "df2.head()"
   ]
  },
  {
   "cell_type": "markdown",
   "id": "99e328e4",
   "metadata": {},
   "source": [
    "### Visual analysis of manually created clusters"
   ]
  },
  {
   "cell_type": "code",
   "execution_count": 445,
   "id": "665a98f1",
   "metadata": {},
   "outputs": [
    {
     "data": {
      "image/png": "[encoded data removed]",
      "text/plain": [
       "<Figure size 432x288 with 1 Axes>"
      ]
     },
     "metadata": {},
     "output_type": "display_data"
    }
   ],
   "source": [
    "#Plot the pie char of clusters as per company Tiers\n",
    "\n",
    "plt.pie(df2['Tier'].value_counts(),\n",
    "        labels=df2['Tier'].value_counts().index,autopct='%.2f')\n",
    "plt.title('Company Tier distribution')\n",
    "plt.show()"
   ]
  },
  {
   "cell_type": "code",
   "execution_count": 446,
   "id": "9ec9c1d5",
   "metadata": {},
   "outputs": [
    {
     "data": {
      "image/png": "[encoded data removed]",
      "text/plain": [
       "<Figure size 432x288 with 1 Axes>"
      ]
     },
     "metadata": {},
     "output_type": "display_data"
    }
   ],
   "source": [
    "#Plot the pie chart of clusters as per company_job tiers\n",
    "\n",
    "plt.pie(df2['Class'].value_counts(),\n",
    "        labels=df2['Class'].value_counts().index,autopct='%.2f')\n",
    "plt.title('Company job tier distributions')\n",
    "plt.show()"
   ]
  },
  {
   "cell_type": "code",
   "execution_count": 447,
   "id": "da376ac5",
   "metadata": {},
   "outputs": [
    {
     "data": {
      "image/png": "[encoded data removed]",
      "text/plain": [
       "<Figure size 432x288 with 1 Axes>"
      ]
     },
     "metadata": {},
     "output_type": "display_data"
    }
   ],
   "source": [
    "#Plot the pie chart of clusters as per years of exp and job tiers\n",
    "\n",
    "plt.pie(df2['Designation'].value_counts(),\n",
    "        labels=df2['Designation'].value_counts().index,autopct='%.2f')\n",
    "plt.title('Years of experience job tier distribution')\n",
    "plt.show()"
   ]
  },
  {
   "cell_type": "markdown",
   "id": "d88a869f",
   "metadata": {},
   "source": [
    "### Questions and answers from case study"
   ]
  },
  {
   "cell_type": "markdown",
   "id": "0c7e13c3",
   "metadata": {},
   "source": [
    "### Question1"
   ]
  },
  {
   "cell_type": "code",
   "execution_count": 448,
   "id": "f6b3438c",
   "metadata": {},
   "outputs": [
    {
     "data": {
      "text/html": [
       "<div>\n",
       "<style scoped>\n",
       "    .dataframe tbody tr th:only-of-type {\n",
       "        vertical-align: middle;\n",
       "    }\n",
       "\n",
       "    .dataframe tbody tr th {\n",
       "        vertical-align: top;\n",
       "    }\n",
       "\n",
       "    .dataframe thead th {\n",
       "        text-align: right;\n",
       "    }\n",
       "</style>\n",
       "<table border=\"1\" class=\"dataframe\">\n",
       "  <thead>\n",
       "    <tr style=\"text-align: right;\">\n",
       "      <th></th>\n",
       "      <th>company_hash</th>\n",
       "      <th>company_hash_encoded</th>\n",
       "      <th>email_hash</th>\n",
       "      <th>orgyear</th>\n",
       "      <th>ctc</th>\n",
       "      <th>job_position</th>\n",
       "      <th>job_position_encoded</th>\n",
       "      <th>ctc_updated_year</th>\n",
       "      <th>Years of Experience</th>\n",
       "      <th>Tier</th>\n",
       "      <th>Class</th>\n",
       "      <th>Designation</th>\n",
       "    </tr>\n",
       "  </thead>\n",
       "  <tbody>\n",
       "    <tr>\n",
       "      <th>117551</th>\n",
       "      <td>obvqnuqxdwgb</td>\n",
       "      <td>14517.0</td>\n",
       "      <td>5b4bed51797140db4ed52018a979db1e34cee49e27b4885c3fdfacea9f8144f6</td>\n",
       "      <td>2018.0</td>\n",
       "      <td>255555555.0</td>\n",
       "      <td>NaN</td>\n",
       "      <td>409.0</td>\n",
       "      <td>2016.0</td>\n",
       "      <td>5.0</td>\n",
       "      <td>1.0</td>\n",
       "      <td>2.0</td>\n",
       "      <td>1.0</td>\n",
       "    </tr>\n",
       "    <tr>\n",
       "      <th>168562</th>\n",
       "      <td>xxn myhmvztofvq</td>\n",
       "      <td>33375.0</td>\n",
       "      <td>f490a63e97e46b042ef9664af701209ab41fc3995edfa77aa290d66a7fa1b5d1</td>\n",
       "      <td>2021.0</td>\n",
       "      <td>200000000.0</td>\n",
       "      <td>NaN</td>\n",
       "      <td>354.0</td>\n",
       "      <td>2019.0</td>\n",
       "      <td>2.0</td>\n",
       "      <td>1.0</td>\n",
       "      <td>2.0</td>\n",
       "      <td>1.0</td>\n",
       "    </tr>\n",
       "    <tr>\n",
       "      <th>82520</th>\n",
       "      <td>yaew mvzp</td>\n",
       "      <td>34760.0</td>\n",
       "      <td>1ad3d8c2b855e9cbe6bb187e8140a07ed8a8b29d275ae0cfd1dc64e63abc4693</td>\n",
       "      <td>2017.0</td>\n",
       "      <td>200000000.0</td>\n",
       "      <td>OTHER</td>\n",
       "      <td>409.0</td>\n",
       "      <td>2020.0</td>\n",
       "      <td>6.0</td>\n",
       "      <td>1.0</td>\n",
       "      <td>1.0</td>\n",
       "      <td>1.0</td>\n",
       "    </tr>\n",
       "    <tr>\n",
       "      <th>51586</th>\n",
       "      <td>vwwtznhqt</td>\n",
       "      <td>29134.0</td>\n",
       "      <td>2744c7f42fd4d492fa66cb2ba5168921c444dc8611ffa259d27c307ae3dbccde</td>\n",
       "      <td>2018.0</td>\n",
       "      <td>200000000.0</td>\n",
       "      <td>NaN</td>\n",
       "      <td>127.0</td>\n",
       "      <td>2019.0</td>\n",
       "      <td>5.0</td>\n",
       "      <td>1.0</td>\n",
       "      <td>1.0</td>\n",
       "      <td>1.0</td>\n",
       "    </tr>\n",
       "    <tr>\n",
       "      <th>30678</th>\n",
       "      <td>vwwtznhqt</td>\n",
       "      <td>29134.0</td>\n",
       "      <td>f439bb398f3d420a42f63a018ed3c5646a609c7c828388bdba9a317501853198</td>\n",
       "      <td>2020.0</td>\n",
       "      <td>200000000.0</td>\n",
       "      <td>NaN</td>\n",
       "      <td>127.0</td>\n",
       "      <td>2020.0</td>\n",
       "      <td>3.0</td>\n",
       "      <td>1.0</td>\n",
       "      <td>1.0</td>\n",
       "      <td>1.0</td>\n",
       "    </tr>\n",
       "    <tr>\n",
       "      <th>30545</th>\n",
       "      <td>zgzt</td>\n",
       "      <td>36098.0</td>\n",
       "      <td>c44995942d317b3a36725bf0bfb34412741fbb3583917716ce44d386060786b0</td>\n",
       "      <td>2018.0</td>\n",
       "      <td>200000000.0</td>\n",
       "      <td>ENGINEERING LEADERSHIP</td>\n",
       "      <td>212.0</td>\n",
       "      <td>2020.0</td>\n",
       "      <td>5.0</td>\n",
       "      <td>1.0</td>\n",
       "      <td>1.0</td>\n",
       "      <td>1.0</td>\n",
       "    </tr>\n",
       "    <tr>\n",
       "      <th>30532</th>\n",
       "      <td>nvnv wgzohrnvzwj otqcxwto</td>\n",
       "      <td>13550.0</td>\n",
       "      <td>6b779617a174319066f8c9ebe1c55740e79332c0143f2b6ecd1fed967bba17e6</td>\n",
       "      <td>2020.0</td>\n",
       "      <td>200000000.0</td>\n",
       "      <td>NaN</td>\n",
       "      <td>561.0</td>\n",
       "      <td>2020.0</td>\n",
       "      <td>3.0</td>\n",
       "      <td>1.0</td>\n",
       "      <td>2.0</td>\n",
       "      <td>2.0</td>\n",
       "    </tr>\n",
       "    <tr>\n",
       "      <th>82537</th>\n",
       "      <td>xwxwx mvzp</td>\n",
       "      <td>33339.0</td>\n",
       "      <td>2311bf023218afe93d650cac03abb7a40f7fa55c08d2608bc82eb37db750679f</td>\n",
       "      <td>2018.0</td>\n",
       "      <td>200000000.0</td>\n",
       "      <td>OTHER</td>\n",
       "      <td>409.0</td>\n",
       "      <td>2020.0</td>\n",
       "      <td>5.0</td>\n",
       "      <td>1.0</td>\n",
       "      <td>1.0</td>\n",
       "      <td>1.0</td>\n",
       "    </tr>\n",
       "    <tr>\n",
       "      <th>82547</th>\n",
       "      <td>nvnv ntrtotqcxwto rna</td>\n",
       "      <td>13506.0</td>\n",
       "      <td>e3ef9223ad1dd7385e7344270c1b1ecee22ab22da0d52c05dc7c0183ab0ed840</td>\n",
       "      <td>2010.0</td>\n",
       "      <td>200000000.0</td>\n",
       "      <td>OTHER</td>\n",
       "      <td>409.0</td>\n",
       "      <td>2020.0</td>\n",
       "      <td>13.0</td>\n",
       "      <td>1.0</td>\n",
       "      <td>2.0</td>\n",
       "      <td>1.0</td>\n",
       "    </tr>\n",
       "    <tr>\n",
       "      <th>18876</th>\n",
       "      <td>qtrxvzwt xzegwgbb rxbxnta</td>\n",
       "      <td>19711.0</td>\n",
       "      <td>f1b31a501f6b7fd6edae9e7e883bf60d2d3bff0fa373689491491ce75d3bc19a</td>\n",
       "      <td>2017.0</td>\n",
       "      <td>200000000.0</td>\n",
       "      <td>DATA ANALYST</td>\n",
       "      <td>165.0</td>\n",
       "      <td>2020.0</td>\n",
       "      <td>6.0</td>\n",
       "      <td>1.0</td>\n",
       "      <td>1.0</td>\n",
       "      <td>1.0</td>\n",
       "    </tr>\n",
       "  </tbody>\n",
       "</table>\n",
       "</div>"
      ],
      "text/plain": [
       "                     company_hash  company_hash_encoded  \\\n",
       "117551               obvqnuqxdwgb               14517.0   \n",
       "168562            xxn myhmvztofvq               33375.0   \n",
       "82520                   yaew mvzp               34760.0   \n",
       "51586                   vwwtznhqt               29134.0   \n",
       "30678                   vwwtznhqt               29134.0   \n",
       "30545                        zgzt               36098.0   \n",
       "30532   nvnv wgzohrnvzwj otqcxwto               13550.0   \n",
       "82537                  xwxwx mvzp               33339.0   \n",
       "82547       nvnv ntrtotqcxwto rna               13506.0   \n",
       "18876   qtrxvzwt xzegwgbb rxbxnta               19711.0   \n",
       "\n",
       "                                                              email_hash  \\\n",
       "117551  5b4bed51797140db4ed52018a979db1e34cee49e27b4885c3fdfacea9f8144f6   \n",
       "168562  f490a63e97e46b042ef9664af701209ab41fc3995edfa77aa290d66a7fa1b5d1   \n",
       "82520   1ad3d8c2b855e9cbe6bb187e8140a07ed8a8b29d275ae0cfd1dc64e63abc4693   \n",
       "51586   2744c7f42fd4d492fa66cb2ba5168921c444dc8611ffa259d27c307ae3dbccde   \n",
       "30678   f439bb398f3d420a42f63a018ed3c5646a609c7c828388bdba9a317501853198   \n",
       "30545   c44995942d317b3a36725bf0bfb34412741fbb3583917716ce44d386060786b0   \n",
       "30532   6b779617a174319066f8c9ebe1c55740e79332c0143f2b6ecd1fed967bba17e6   \n",
       "82537   2311bf023218afe93d650cac03abb7a40f7fa55c08d2608bc82eb37db750679f   \n",
       "82547   e3ef9223ad1dd7385e7344270c1b1ecee22ab22da0d52c05dc7c0183ab0ed840   \n",
       "18876   f1b31a501f6b7fd6edae9e7e883bf60d2d3bff0fa373689491491ce75d3bc19a   \n",
       "\n",
       "        orgyear          ctc            job_position  job_position_encoded  \\\n",
       "117551   2018.0  255555555.0                     NaN                 409.0   \n",
       "168562   2021.0  200000000.0                     NaN                 354.0   \n",
       "82520    2017.0  200000000.0                   OTHER                 409.0   \n",
       "51586    2018.0  200000000.0                     NaN                 127.0   \n",
       "30678    2020.0  200000000.0                     NaN                 127.0   \n",
       "30545    2018.0  200000000.0  ENGINEERING LEADERSHIP                 212.0   \n",
       "30532    2020.0  200000000.0                     NaN                 561.0   \n",
       "82537    2018.0  200000000.0                   OTHER                 409.0   \n",
       "82547    2010.0  200000000.0                   OTHER                 409.0   \n",
       "18876    2017.0  200000000.0            DATA ANALYST                 165.0   \n",
       "\n",
       "        ctc_updated_year  Years of Experience  Tier  Class  Designation  \n",
       "117551            2016.0                  5.0   1.0    2.0          1.0  \n",
       "168562            2019.0                  2.0   1.0    2.0          1.0  \n",
       "82520             2020.0                  6.0   1.0    1.0          1.0  \n",
       "51586             2019.0                  5.0   1.0    1.0          1.0  \n",
       "30678             2020.0                  3.0   1.0    1.0          1.0  \n",
       "30545             2020.0                  5.0   1.0    1.0          1.0  \n",
       "30532             2020.0                  3.0   1.0    2.0          2.0  \n",
       "82537             2020.0                  5.0   1.0    1.0          1.0  \n",
       "82547             2020.0                 13.0   1.0    2.0          1.0  \n",
       "18876             2020.0                  6.0   1.0    1.0          1.0  "
      ]
     },
     "execution_count": 448,
     "metadata": {},
     "output_type": "execute_result"
    }
   ],
   "source": [
    "#Question1:\n",
    "#Top 10 employees (earning more than most of the employees in the company) - Tier 1\n",
    "\n",
    "df2.loc[df2['Tier']==1.0].sort_values(['ctc'],ascending=False).head(10)"
   ]
  },
  {
   "cell_type": "markdown",
   "id": "6da50f1b",
   "metadata": {},
   "source": [
    "### Question2"
   ]
  },
  {
   "cell_type": "code",
   "execution_count": 449,
   "id": "7b95b411",
   "metadata": {},
   "outputs": [
    {
     "data": {
      "text/html": [
       "<div>\n",
       "<style scoped>\n",
       "    .dataframe tbody tr th:only-of-type {\n",
       "        vertical-align: middle;\n",
       "    }\n",
       "\n",
       "    .dataframe tbody tr th {\n",
       "        vertical-align: top;\n",
       "    }\n",
       "\n",
       "    .dataframe thead th {\n",
       "        text-align: right;\n",
       "    }\n",
       "</style>\n",
       "<table border=\"1\" class=\"dataframe\">\n",
       "  <thead>\n",
       "    <tr style=\"text-align: right;\">\n",
       "      <th></th>\n",
       "      <th>company_hash</th>\n",
       "      <th>company_hash_encoded</th>\n",
       "      <th>email_hash</th>\n",
       "      <th>orgyear</th>\n",
       "      <th>ctc</th>\n",
       "      <th>job_position</th>\n",
       "      <th>job_position_encoded</th>\n",
       "      <th>ctc_updated_year</th>\n",
       "      <th>Years of Experience</th>\n",
       "      <th>Tier</th>\n",
       "      <th>Class</th>\n",
       "      <th>Designation</th>\n",
       "    </tr>\n",
       "  </thead>\n",
       "  <tbody>\n",
       "    <tr>\n",
       "      <th>52767</th>\n",
       "      <td>zgzt</td>\n",
       "      <td>36098.0</td>\n",
       "      <td>268a5aa92f0b6d0c675fc9cc1e300eb0c5930a3a139a23bc924d036bc6f3e3a5</td>\n",
       "      <td>2022.0</td>\n",
       "      <td>200000000.0</td>\n",
       "      <td>DATA SCIENTIST</td>\n",
       "      <td>173.0</td>\n",
       "      <td>2020.0</td>\n",
       "      <td>1.0</td>\n",
       "      <td>1.0</td>\n",
       "      <td>1.0</td>\n",
       "      <td>1.0</td>\n",
       "    </tr>\n",
       "    <tr>\n",
       "      <th>107133</th>\n",
       "      <td>ytfrtnn uvwpvqa tzntquqxot</td>\n",
       "      <td>35181.0</td>\n",
       "      <td>c888824e687a535d1bd2486ae28d67e414b21b09cbee61a4c5b273c94ad7490d</td>\n",
       "      <td>2015.0</td>\n",
       "      <td>200000000.0</td>\n",
       "      <td>DATA ANALYST</td>\n",
       "      <td>165.0</td>\n",
       "      <td>2020.0</td>\n",
       "      <td>8.0</td>\n",
       "      <td>1.0</td>\n",
       "      <td>1.0</td>\n",
       "      <td>1.0</td>\n",
       "    </tr>\n",
       "    <tr>\n",
       "      <th>28998</th>\n",
       "      <td>xzegojo</td>\n",
       "      <td>33823.0</td>\n",
       "      <td>d418a571a2cf09cb8cbd9eceade19381777835f58d8f98854688ca8ed09d8fe4</td>\n",
       "      <td>2018.0</td>\n",
       "      <td>200000000.0</td>\n",
       "      <td>NaN</td>\n",
       "      <td>409.0</td>\n",
       "      <td>2020.0</td>\n",
       "      <td>5.0</td>\n",
       "      <td>1.0</td>\n",
       "      <td>1.0</td>\n",
       "      <td>1.0</td>\n",
       "    </tr>\n",
       "    <tr>\n",
       "      <th>66300</th>\n",
       "      <td>ntlvo ztnfgqpo</td>\n",
       "      <td>12809.0</td>\n",
       "      <td>d1a0df3a5715b4582db31bcb2bef14065227c338054849d2cdaf7bbfdadafb2b</td>\n",
       "      <td>2018.0</td>\n",
       "      <td>200000000.0</td>\n",
       "      <td>ENGINEERING LEADERSHIP</td>\n",
       "      <td>212.0</td>\n",
       "      <td>2020.0</td>\n",
       "      <td>5.0</td>\n",
       "      <td>1.0</td>\n",
       "      <td>1.0</td>\n",
       "      <td>1.0</td>\n",
       "    </tr>\n",
       "    <tr>\n",
       "      <th>179132</th>\n",
       "      <td>xzegojo</td>\n",
       "      <td>33823.0</td>\n",
       "      <td>e1b3530381c7a3c8ccafc5195582e5880d81913862d80f3a7dc74ea26bfcd5a8</td>\n",
       "      <td>2020.0</td>\n",
       "      <td>200000000.0</td>\n",
       "      <td>NaN</td>\n",
       "      <td>409.0</td>\n",
       "      <td>2019.0</td>\n",
       "      <td>3.0</td>\n",
       "      <td>1.0</td>\n",
       "      <td>1.0</td>\n",
       "      <td>1.0</td>\n",
       "    </tr>\n",
       "    <tr>\n",
       "      <th>12331</th>\n",
       "      <td>nvnv wgzohrnvzwj otqcxwto</td>\n",
       "      <td>13550.0</td>\n",
       "      <td>10c67fa43291396c3f72c9ac34b99a6d9fb2c2007e6964e348cbe2ed42434c25</td>\n",
       "      <td>2018.0</td>\n",
       "      <td>200000000.0</td>\n",
       "      <td>NaN</td>\n",
       "      <td>423.0</td>\n",
       "      <td>2020.0</td>\n",
       "      <td>5.0</td>\n",
       "      <td>1.0</td>\n",
       "      <td>1.0</td>\n",
       "      <td>1.0</td>\n",
       "    </tr>\n",
       "    <tr>\n",
       "      <th>74502</th>\n",
       "      <td>xb  v onhatzn</td>\n",
       "      <td>32487.0</td>\n",
       "      <td>431c610cffb5f699476173431bb1f47a51bcc680407e44ff511f1d03500b4307</td>\n",
       "      <td>2020.0</td>\n",
       "      <td>200000000.0</td>\n",
       "      <td>FULL STACK ENGINEER</td>\n",
       "      <td>249.0</td>\n",
       "      <td>2019.0</td>\n",
       "      <td>3.0</td>\n",
       "      <td>1.0</td>\n",
       "      <td>1.0</td>\n",
       "      <td>1.0</td>\n",
       "    </tr>\n",
       "    <tr>\n",
       "      <th>65906</th>\n",
       "      <td>vbvkgz</td>\n",
       "      <td>26523.0</td>\n",
       "      <td>8dfe6251bd4ec533f02ddceb98b3dcebb9550ccd4ef2e643eb3b97459cd984e5</td>\n",
       "      <td>2018.0</td>\n",
       "      <td>200000000.0</td>\n",
       "      <td>OTHER</td>\n",
       "      <td>409.0</td>\n",
       "      <td>2020.0</td>\n",
       "      <td>5.0</td>\n",
       "      <td>1.0</td>\n",
       "      <td>1.0</td>\n",
       "      <td>1.0</td>\n",
       "    </tr>\n",
       "    <tr>\n",
       "      <th>28898</th>\n",
       "      <td>nqvctrnqxvzsrt</td>\n",
       "      <td>12486.0</td>\n",
       "      <td>3eb73d5c74bfd5f7a195d7f56e4922a46357c6ae0a8732b11e7e0e3c26500bf7</td>\n",
       "      <td>2018.0</td>\n",
       "      <td>200000000.0</td>\n",
       "      <td>BACKEND ENGINEER</td>\n",
       "      <td>108.0</td>\n",
       "      <td>2020.0</td>\n",
       "      <td>5.0</td>\n",
       "      <td>1.0</td>\n",
       "      <td>1.0</td>\n",
       "      <td>1.0</td>\n",
       "    </tr>\n",
       "    <tr>\n",
       "      <th>35203</th>\n",
       "      <td>qxcxsg</td>\n",
       "      <td>20198.0</td>\n",
       "      <td>5fa750d51093a53523bde615bea27847489c2ff65874bbeeb92bba33d132ef5f</td>\n",
       "      <td>2020.0</td>\n",
       "      <td>200000000.0</td>\n",
       "      <td>OTHER</td>\n",
       "      <td>409.0</td>\n",
       "      <td>2020.0</td>\n",
       "      <td>3.0</td>\n",
       "      <td>1.0</td>\n",
       "      <td>1.0</td>\n",
       "      <td>1.0</td>\n",
       "    </tr>\n",
       "  </tbody>\n",
       "</table>\n",
       "</div>"
      ],
      "text/plain": [
       "                      company_hash  company_hash_encoded  \\\n",
       "52767                         zgzt               36098.0   \n",
       "107133  ytfrtnn uvwpvqa tzntquqxot               35181.0   \n",
       "28998                      xzegojo               33823.0   \n",
       "66300               ntlvo ztnfgqpo               12809.0   \n",
       "179132                     xzegojo               33823.0   \n",
       "12331    nvnv wgzohrnvzwj otqcxwto               13550.0   \n",
       "74502                xb  v onhatzn               32487.0   \n",
       "65906                       vbvkgz               26523.0   \n",
       "28898               nqvctrnqxvzsrt               12486.0   \n",
       "35203                       qxcxsg               20198.0   \n",
       "\n",
       "                                                              email_hash  \\\n",
       "52767   268a5aa92f0b6d0c675fc9cc1e300eb0c5930a3a139a23bc924d036bc6f3e3a5   \n",
       "107133  c888824e687a535d1bd2486ae28d67e414b21b09cbee61a4c5b273c94ad7490d   \n",
       "28998   d418a571a2cf09cb8cbd9eceade19381777835f58d8f98854688ca8ed09d8fe4   \n",
       "66300   d1a0df3a5715b4582db31bcb2bef14065227c338054849d2cdaf7bbfdadafb2b   \n",
       "179132  e1b3530381c7a3c8ccafc5195582e5880d81913862d80f3a7dc74ea26bfcd5a8   \n",
       "12331   10c67fa43291396c3f72c9ac34b99a6d9fb2c2007e6964e348cbe2ed42434c25   \n",
       "74502   431c610cffb5f699476173431bb1f47a51bcc680407e44ff511f1d03500b4307   \n",
       "65906   8dfe6251bd4ec533f02ddceb98b3dcebb9550ccd4ef2e643eb3b97459cd984e5   \n",
       "28898   3eb73d5c74bfd5f7a195d7f56e4922a46357c6ae0a8732b11e7e0e3c26500bf7   \n",
       "35203   5fa750d51093a53523bde615bea27847489c2ff65874bbeeb92bba33d132ef5f   \n",
       "\n",
       "        orgyear          ctc            job_position  job_position_encoded  \\\n",
       "52767    2022.0  200000000.0          DATA SCIENTIST                 173.0   \n",
       "107133   2015.0  200000000.0            DATA ANALYST                 165.0   \n",
       "28998    2018.0  200000000.0                     NaN                 409.0   \n",
       "66300    2018.0  200000000.0  ENGINEERING LEADERSHIP                 212.0   \n",
       "179132   2020.0  200000000.0                     NaN                 409.0   \n",
       "12331    2018.0  200000000.0                     NaN                 423.0   \n",
       "74502    2020.0  200000000.0     FULL STACK ENGINEER                 249.0   \n",
       "65906    2018.0  200000000.0                   OTHER                 409.0   \n",
       "28898    2018.0  200000000.0        BACKEND ENGINEER                 108.0   \n",
       "35203    2020.0  200000000.0                   OTHER                 409.0   \n",
       "\n",
       "        ctc_updated_year  Years of Experience  Tier  Class  Designation  \n",
       "52767             2020.0                  1.0   1.0    1.0          1.0  \n",
       "107133            2020.0                  8.0   1.0    1.0          1.0  \n",
       "28998             2020.0                  5.0   1.0    1.0          1.0  \n",
       "66300             2020.0                  5.0   1.0    1.0          1.0  \n",
       "179132            2019.0                  3.0   1.0    1.0          1.0  \n",
       "12331             2020.0                  5.0   1.0    1.0          1.0  \n",
       "74502             2019.0                  3.0   1.0    1.0          1.0  \n",
       "65906             2020.0                  5.0   1.0    1.0          1.0  \n",
       "28898             2020.0                  5.0   1.0    1.0          1.0  \n",
       "35203             2020.0                  3.0   1.0    1.0          1.0  "
      ]
     },
     "execution_count": 449,
     "metadata": {},
     "output_type": "execute_result"
    }
   ],
   "source": [
    "#Question2:\n",
    "#Top 10 employees of data science in Amazon / TCS etc earning more than their peers - Class 1\n",
    "\n",
    "df2.loc[df2['Class']==1.0].sort_values(['ctc'],ascending=False).head(10)"
   ]
  },
  {
   "cell_type": "markdown",
   "id": "2b96ed75",
   "metadata": {},
   "source": [
    "### Question3"
   ]
  },
  {
   "cell_type": "code",
   "execution_count": 450,
   "id": "707cbb39",
   "metadata": {},
   "outputs": [
    {
     "data": {
      "text/html": [
       "<div>\n",
       "<style scoped>\n",
       "    .dataframe tbody tr th:only-of-type {\n",
       "        vertical-align: middle;\n",
       "    }\n",
       "\n",
       "    .dataframe tbody tr th {\n",
       "        vertical-align: top;\n",
       "    }\n",
       "\n",
       "    .dataframe thead th {\n",
       "        text-align: right;\n",
       "    }\n",
       "</style>\n",
       "<table border=\"1\" class=\"dataframe\">\n",
       "  <thead>\n",
       "    <tr style=\"text-align: right;\">\n",
       "      <th></th>\n",
       "      <th>company_hash</th>\n",
       "      <th>company_hash_encoded</th>\n",
       "      <th>email_hash</th>\n",
       "      <th>orgyear</th>\n",
       "      <th>ctc</th>\n",
       "      <th>job_position</th>\n",
       "      <th>job_position_encoded</th>\n",
       "      <th>ctc_updated_year</th>\n",
       "      <th>Years of Experience</th>\n",
       "      <th>Tier</th>\n",
       "      <th>Class</th>\n",
       "      <th>Designation</th>\n",
       "    </tr>\n",
       "  </thead>\n",
       "  <tbody>\n",
       "    <tr>\n",
       "      <th>70263</th>\n",
       "      <td>zgzt</td>\n",
       "      <td>36098.0</td>\n",
       "      <td>cb3f313aa5ed673640f60bcfa058b96184aa0d028e199069e416af3f1f3907f0</td>\n",
       "      <td>2017.0</td>\n",
       "      <td>625000.0</td>\n",
       "      <td>DATA SCIENTIST</td>\n",
       "      <td>173.0</td>\n",
       "      <td>2020.0</td>\n",
       "      <td>6.0</td>\n",
       "      <td>3.0</td>\n",
       "      <td>3.0</td>\n",
       "      <td>3.0</td>\n",
       "    </tr>\n",
       "    <tr>\n",
       "      <th>97059</th>\n",
       "      <td>zgzt</td>\n",
       "      <td>36098.0</td>\n",
       "      <td>d417e55d19d79710814f9edab06a2ac2caee5088c642e0bafbc64c84113b4d6a</td>\n",
       "      <td>2018.0</td>\n",
       "      <td>600000.0</td>\n",
       "      <td>DATA SCIENTIST</td>\n",
       "      <td>173.0</td>\n",
       "      <td>2020.0</td>\n",
       "      <td>5.0</td>\n",
       "      <td>3.0</td>\n",
       "      <td>3.0</td>\n",
       "      <td>3.0</td>\n",
       "    </tr>\n",
       "    <tr>\n",
       "      <th>52537</th>\n",
       "      <td>zgzt</td>\n",
       "      <td>36098.0</td>\n",
       "      <td>e697c32fb2f153d9bc80bce8c2a426630231793a9f4aa1152c1ed1d5d8432d1e</td>\n",
       "      <td>2017.0</td>\n",
       "      <td>460000.0</td>\n",
       "      <td>DATA SCIENTIST</td>\n",
       "      <td>173.0</td>\n",
       "      <td>2019.0</td>\n",
       "      <td>6.0</td>\n",
       "      <td>3.0</td>\n",
       "      <td>3.0</td>\n",
       "      <td>3.0</td>\n",
       "    </tr>\n",
       "    <tr>\n",
       "      <th>99121</th>\n",
       "      <td>zgzt</td>\n",
       "      <td>36098.0</td>\n",
       "      <td>d96ca95effd2a14936b6edb3f19347efd04adea95c071df5fe2f353c015068f2</td>\n",
       "      <td>2021.0</td>\n",
       "      <td>420000.0</td>\n",
       "      <td>DATA SCIENTIST</td>\n",
       "      <td>173.0</td>\n",
       "      <td>2020.0</td>\n",
       "      <td>2.0</td>\n",
       "      <td>3.0</td>\n",
       "      <td>3.0</td>\n",
       "      <td>3.0</td>\n",
       "    </tr>\n",
       "    <tr>\n",
       "      <th>199928</th>\n",
       "      <td>zgzt</td>\n",
       "      <td>36098.0</td>\n",
       "      <td>a803adab6dde9d4b480280a4a5555676cdbb23e3e5ad8085b83a4b68c5533c78</td>\n",
       "      <td>2016.0</td>\n",
       "      <td>400000.0</td>\n",
       "      <td>DATA SCIENTIST</td>\n",
       "      <td>173.0</td>\n",
       "      <td>2020.0</td>\n",
       "      <td>7.0</td>\n",
       "      <td>3.0</td>\n",
       "      <td>3.0</td>\n",
       "      <td>3.0</td>\n",
       "    </tr>\n",
       "    <tr>\n",
       "      <th>29173</th>\n",
       "      <td>zgzt</td>\n",
       "      <td>36098.0</td>\n",
       "      <td>7aebe262e3cdef301d2791ccfe648c6a54177e3c9bd112fcfc4a94c0faac3a9f</td>\n",
       "      <td>2018.0</td>\n",
       "      <td>250000.0</td>\n",
       "      <td>DATA SCIENTIST</td>\n",
       "      <td>173.0</td>\n",
       "      <td>2021.0</td>\n",
       "      <td>5.0</td>\n",
       "      <td>3.0</td>\n",
       "      <td>3.0</td>\n",
       "      <td>3.0</td>\n",
       "    </tr>\n",
       "    <tr>\n",
       "      <th>105094</th>\n",
       "      <td>zgzt</td>\n",
       "      <td>36098.0</td>\n",
       "      <td>e13e38bf9de2dbdd8c13069e608870a5750f91e62bf71bc11d6e8c53622dd21c</td>\n",
       "      <td>2017.0</td>\n",
       "      <td>200000.0</td>\n",
       "      <td>DATA SCIENTIST</td>\n",
       "      <td>173.0</td>\n",
       "      <td>2021.0</td>\n",
       "      <td>6.0</td>\n",
       "      <td>3.0</td>\n",
       "      <td>3.0</td>\n",
       "      <td>3.0</td>\n",
       "    </tr>\n",
       "    <tr>\n",
       "      <th>126416</th>\n",
       "      <td>zgzt</td>\n",
       "      <td>36098.0</td>\n",
       "      <td>3377ad447408574f71ea9207a153ce85976fa86e1567d9d6221968d47c82188b</td>\n",
       "      <td>2018.0</td>\n",
       "      <td>200000.0</td>\n",
       "      <td>DATA SCIENTIST</td>\n",
       "      <td>173.0</td>\n",
       "      <td>2019.0</td>\n",
       "      <td>5.0</td>\n",
       "      <td>3.0</td>\n",
       "      <td>3.0</td>\n",
       "      <td>3.0</td>\n",
       "    </tr>\n",
       "    <tr>\n",
       "      <th>19696</th>\n",
       "      <td>zgzt</td>\n",
       "      <td>36098.0</td>\n",
       "      <td>6fff6aa67599055d252bd86418bae843ee46788729775484ed95d8c19a5f0662</td>\n",
       "      <td>2022.0</td>\n",
       "      <td>100000.0</td>\n",
       "      <td>DATA SCIENTIST</td>\n",
       "      <td>173.0</td>\n",
       "      <td>2020.0</td>\n",
       "      <td>1.0</td>\n",
       "      <td>3.0</td>\n",
       "      <td>3.0</td>\n",
       "      <td>3.0</td>\n",
       "    </tr>\n",
       "    <tr>\n",
       "      <th>45849</th>\n",
       "      <td>zgzt</td>\n",
       "      <td>36098.0</td>\n",
       "      <td>2cadff2fe2f39e9e4e684b95c0db58c9344fceb815c6c1a2429e5b453e680be0</td>\n",
       "      <td>2018.0</td>\n",
       "      <td>100000.0</td>\n",
       "      <td>DATA SCIENTIST</td>\n",
       "      <td>173.0</td>\n",
       "      <td>2020.0</td>\n",
       "      <td>5.0</td>\n",
       "      <td>3.0</td>\n",
       "      <td>3.0</td>\n",
       "      <td>3.0</td>\n",
       "    </tr>\n",
       "  </tbody>\n",
       "</table>\n",
       "</div>"
      ],
      "text/plain": [
       "       company_hash  company_hash_encoded  \\\n",
       "70263          zgzt               36098.0   \n",
       "97059          zgzt               36098.0   \n",
       "52537          zgzt               36098.0   \n",
       "99121          zgzt               36098.0   \n",
       "199928         zgzt               36098.0   \n",
       "29173          zgzt               36098.0   \n",
       "105094         zgzt               36098.0   \n",
       "126416         zgzt               36098.0   \n",
       "19696          zgzt               36098.0   \n",
       "45849          zgzt               36098.0   \n",
       "\n",
       "                                                              email_hash  \\\n",
       "70263   cb3f313aa5ed673640f60bcfa058b96184aa0d028e199069e416af3f1f3907f0   \n",
       "97059   d417e55d19d79710814f9edab06a2ac2caee5088c642e0bafbc64c84113b4d6a   \n",
       "52537   e697c32fb2f153d9bc80bce8c2a426630231793a9f4aa1152c1ed1d5d8432d1e   \n",
       "99121   d96ca95effd2a14936b6edb3f19347efd04adea95c071df5fe2f353c015068f2   \n",
       "199928  a803adab6dde9d4b480280a4a5555676cdbb23e3e5ad8085b83a4b68c5533c78   \n",
       "29173   7aebe262e3cdef301d2791ccfe648c6a54177e3c9bd112fcfc4a94c0faac3a9f   \n",
       "105094  e13e38bf9de2dbdd8c13069e608870a5750f91e62bf71bc11d6e8c53622dd21c   \n",
       "126416  3377ad447408574f71ea9207a153ce85976fa86e1567d9d6221968d47c82188b   \n",
       "19696   6fff6aa67599055d252bd86418bae843ee46788729775484ed95d8c19a5f0662   \n",
       "45849   2cadff2fe2f39e9e4e684b95c0db58c9344fceb815c6c1a2429e5b453e680be0   \n",
       "\n",
       "        orgyear       ctc    job_position  job_position_encoded  \\\n",
       "70263    2017.0  625000.0  DATA SCIENTIST                 173.0   \n",
       "97059    2018.0  600000.0  DATA SCIENTIST                 173.0   \n",
       "52537    2017.0  460000.0  DATA SCIENTIST                 173.0   \n",
       "99121    2021.0  420000.0  DATA SCIENTIST                 173.0   \n",
       "199928   2016.0  400000.0  DATA SCIENTIST                 173.0   \n",
       "29173    2018.0  250000.0  DATA SCIENTIST                 173.0   \n",
       "105094   2017.0  200000.0  DATA SCIENTIST                 173.0   \n",
       "126416   2018.0  200000.0  DATA SCIENTIST                 173.0   \n",
       "19696    2022.0  100000.0  DATA SCIENTIST                 173.0   \n",
       "45849    2018.0  100000.0  DATA SCIENTIST                 173.0   \n",
       "\n",
       "        ctc_updated_year  Years of Experience  Tier  Class  Designation  \n",
       "70263             2020.0                  6.0   3.0    3.0          3.0  \n",
       "97059             2020.0                  5.0   3.0    3.0          3.0  \n",
       "52537             2019.0                  6.0   3.0    3.0          3.0  \n",
       "99121             2020.0                  2.0   3.0    3.0          3.0  \n",
       "199928            2020.0                  7.0   3.0    3.0          3.0  \n",
       "29173             2021.0                  5.0   3.0    3.0          3.0  \n",
       "105094            2021.0                  6.0   3.0    3.0          3.0  \n",
       "126416            2019.0                  5.0   3.0    3.0          3.0  \n",
       "19696             2020.0                  1.0   3.0    3.0          3.0  \n",
       "45849             2020.0                  5.0   3.0    3.0          3.0  "
      ]
     },
     "execution_count": 450,
     "metadata": {},
     "output_type": "execute_result"
    }
   ],
   "source": [
    "#Question3:\n",
    "#Bottom 10 employees of data science in Amazon / TCS etc earning less than their peers - Class 3\n",
    "\n",
    "df2.loc[(df2['Class']==3.0) & \n",
    "        (df2['company_hash']=='zgzt') & \n",
    "        (df2['job_position']=='DATA SCIENTIST')].sort_values(['ctc'],ascending=False).tail(10)"
   ]
  },
  {
   "cell_type": "markdown",
   "id": "77680d97",
   "metadata": {},
   "source": [
    "### Question4"
   ]
  },
  {
   "cell_type": "code",
   "execution_count": 451,
   "id": "c5bbab32",
   "metadata": {},
   "outputs": [
    {
     "data": {
      "text/html": [
       "<div>\n",
       "<style scoped>\n",
       "    .dataframe tbody tr th:only-of-type {\n",
       "        vertical-align: middle;\n",
       "    }\n",
       "\n",
       "    .dataframe tbody tr th {\n",
       "        vertical-align: top;\n",
       "    }\n",
       "\n",
       "    .dataframe thead th {\n",
       "        text-align: right;\n",
       "    }\n",
       "</style>\n",
       "<table border=\"1\" class=\"dataframe\">\n",
       "  <thead>\n",
       "    <tr style=\"text-align: right;\">\n",
       "      <th></th>\n",
       "      <th>company_hash</th>\n",
       "      <th>company_hash_encoded</th>\n",
       "      <th>email_hash</th>\n",
       "      <th>orgyear</th>\n",
       "      <th>ctc</th>\n",
       "      <th>job_position</th>\n",
       "      <th>job_position_encoded</th>\n",
       "      <th>ctc_updated_year</th>\n",
       "      <th>Years of Experience</th>\n",
       "      <th>Tier</th>\n",
       "      <th>Class</th>\n",
       "      <th>Designation</th>\n",
       "    </tr>\n",
       "  </thead>\n",
       "  <tbody>\n",
       "    <tr>\n",
       "      <th>77096</th>\n",
       "      <td>vwwtznhqt</td>\n",
       "      <td>29134.0</td>\n",
       "      <td>f0f2005505c707dbdd2c86ca1587c26f822a004e86a8ec9caebc6145336fe83d</td>\n",
       "      <td>2021.0</td>\n",
       "      <td>1000.0</td>\n",
       "      <td>NaN</td>\n",
       "      <td>202.0</td>\n",
       "      <td>2019.0</td>\n",
       "      <td>2.0</td>\n",
       "      <td>3.0</td>\n",
       "      <td>3.0</td>\n",
       "      <td>3.0</td>\n",
       "    </tr>\n",
       "    <tr>\n",
       "      <th>133220</th>\n",
       "      <td>cxo wvqttqo</td>\n",
       "      <td>4868.0</td>\n",
       "      <td>daa966561c4087398b3c3b13855ce17adcf5e08dda803f350efd4e02103b2a45</td>\n",
       "      <td>2012.0</td>\n",
       "      <td>1000.0</td>\n",
       "      <td>ANDROID ENGINEER</td>\n",
       "      <td>25.0</td>\n",
       "      <td>2017.0</td>\n",
       "      <td>11.0</td>\n",
       "      <td>3.0</td>\n",
       "      <td>2.0</td>\n",
       "      <td>3.0</td>\n",
       "    </tr>\n",
       "    <tr>\n",
       "      <th>150583</th>\n",
       "      <td>zvz</td>\n",
       "      <td>37017.0</td>\n",
       "      <td>9af3dca6c9d705d8d42585ccfce2627f00e1629130d14ef814d03bd2ac256596</td>\n",
       "      <td>2023.0</td>\n",
       "      <td>600.0</td>\n",
       "      <td>NaN</td>\n",
       "      <td>243.0</td>\n",
       "      <td>2019.0</td>\n",
       "      <td>0.0</td>\n",
       "      <td>3.0</td>\n",
       "      <td>3.0</td>\n",
       "      <td>2.0</td>\n",
       "    </tr>\n",
       "    <tr>\n",
       "      <th>99343</th>\n",
       "      <td>gjg</td>\n",
       "      <td>7485.0</td>\n",
       "      <td>b995d7a2ae5c6f8497762ce04dc5c04ad6ec734d70802a94f83e17431884e907</td>\n",
       "      <td>2018.0</td>\n",
       "      <td>600.0</td>\n",
       "      <td>FULL STACK ENGINEER</td>\n",
       "      <td>249.0</td>\n",
       "      <td>2021.0</td>\n",
       "      <td>5.0</td>\n",
       "      <td>3.0</td>\n",
       "      <td>3.0</td>\n",
       "      <td>3.0</td>\n",
       "    </tr>\n",
       "    <tr>\n",
       "      <th>171084</th>\n",
       "      <td>nvnv wgzohrnvzwj otqcxwto</td>\n",
       "      <td>13550.0</td>\n",
       "      <td>80ba0259f9f59034c4927cf3bd38dc9ce2eb60ff18135bf9012feac4c1169c23</td>\n",
       "      <td>2012.0</td>\n",
       "      <td>600.0</td>\n",
       "      <td>BACKEND ENGINEER</td>\n",
       "      <td>108.0</td>\n",
       "      <td>2017.0</td>\n",
       "      <td>11.0</td>\n",
       "      <td>3.0</td>\n",
       "      <td>3.0</td>\n",
       "      <td>3.0</td>\n",
       "    </tr>\n",
       "    <tr>\n",
       "      <th>116863</th>\n",
       "      <td>hzxctqoxnj ge fvoyxzsngz</td>\n",
       "      <td>8644.0</td>\n",
       "      <td>f7e5e788676100d7c4146740ada9e2f8974defc01f571d34a3ff1ccf6b68c0a8</td>\n",
       "      <td>2022.0</td>\n",
       "      <td>200.0</td>\n",
       "      <td>NaN</td>\n",
       "      <td>396.0</td>\n",
       "      <td>2021.0</td>\n",
       "      <td>1.0</td>\n",
       "      <td>3.0</td>\n",
       "      <td>2.0</td>\n",
       "      <td>2.0</td>\n",
       "    </tr>\n",
       "    <tr>\n",
       "      <th>184820</th>\n",
       "      <td>xm</td>\n",
       "      <td>32775.0</td>\n",
       "      <td>b8a0bb340583936b5a7923947e9aec21add5ebc50cd60bf6953ea67074932d41</td>\n",
       "      <td>2016.0</td>\n",
       "      <td>15.0</td>\n",
       "      <td>NaN</td>\n",
       "      <td>155.0</td>\n",
       "      <td>2018.0</td>\n",
       "      <td>7.0</td>\n",
       "      <td>3.0</td>\n",
       "      <td>3.0</td>\n",
       "      <td>3.0</td>\n",
       "    </tr>\n",
       "    <tr>\n",
       "      <th>114081</th>\n",
       "      <td>xzntqcxtfmxn</td>\n",
       "      <td>34114.0</td>\n",
       "      <td>23ad96d6b6f1ecf554a52f6e9b61677c7d73d8a409a143cee85eda1557f516c8</td>\n",
       "      <td>2013.0</td>\n",
       "      <td>14.0</td>\n",
       "      <td>NaN</td>\n",
       "      <td>202.0</td>\n",
       "      <td>2018.0</td>\n",
       "      <td>10.0</td>\n",
       "      <td>3.0</td>\n",
       "      <td>1.0</td>\n",
       "      <td>3.0</td>\n",
       "    </tr>\n",
       "    <tr>\n",
       "      <th>118150</th>\n",
       "      <td>xzntqcxtfmxn</td>\n",
       "      <td>34114.0</td>\n",
       "      <td>f2b58aeed3c074652de2cfd3c0717a5d21d6fbcf342a786928c5fd38c860fa45</td>\n",
       "      <td>2013.0</td>\n",
       "      <td>6.0</td>\n",
       "      <td>NaN</td>\n",
       "      <td>202.0</td>\n",
       "      <td>2018.0</td>\n",
       "      <td>10.0</td>\n",
       "      <td>3.0</td>\n",
       "      <td>3.0</td>\n",
       "      <td>3.0</td>\n",
       "    </tr>\n",
       "    <tr>\n",
       "      <th>135344</th>\n",
       "      <td>xzntqcxtfmxn</td>\n",
       "      <td>34114.0</td>\n",
       "      <td>3505b02549ebe2c95840ac6f0a35561a3b4cbe4b79cdb15d794a6ac066b66644</td>\n",
       "      <td>2014.0</td>\n",
       "      <td>2.0</td>\n",
       "      <td>BACKEND ENGINEER</td>\n",
       "      <td>108.0</td>\n",
       "      <td>2019.0</td>\n",
       "      <td>9.0</td>\n",
       "      <td>3.0</td>\n",
       "      <td>3.0</td>\n",
       "      <td>3.0</td>\n",
       "    </tr>\n",
       "  </tbody>\n",
       "</table>\n",
       "</div>"
      ],
      "text/plain": [
       "                     company_hash  company_hash_encoded  \\\n",
       "77096                   vwwtznhqt               29134.0   \n",
       "133220                cxo wvqttqo                4868.0   \n",
       "150583                        zvz               37017.0   \n",
       "99343                         gjg                7485.0   \n",
       "171084  nvnv wgzohrnvzwj otqcxwto               13550.0   \n",
       "116863   hzxctqoxnj ge fvoyxzsngz                8644.0   \n",
       "184820                         xm               32775.0   \n",
       "114081               xzntqcxtfmxn               34114.0   \n",
       "118150               xzntqcxtfmxn               34114.0   \n",
       "135344               xzntqcxtfmxn               34114.0   \n",
       "\n",
       "                                                              email_hash  \\\n",
       "77096   f0f2005505c707dbdd2c86ca1587c26f822a004e86a8ec9caebc6145336fe83d   \n",
       "133220  daa966561c4087398b3c3b13855ce17adcf5e08dda803f350efd4e02103b2a45   \n",
       "150583  9af3dca6c9d705d8d42585ccfce2627f00e1629130d14ef814d03bd2ac256596   \n",
       "99343   b995d7a2ae5c6f8497762ce04dc5c04ad6ec734d70802a94f83e17431884e907   \n",
       "171084  80ba0259f9f59034c4927cf3bd38dc9ce2eb60ff18135bf9012feac4c1169c23   \n",
       "116863  f7e5e788676100d7c4146740ada9e2f8974defc01f571d34a3ff1ccf6b68c0a8   \n",
       "184820  b8a0bb340583936b5a7923947e9aec21add5ebc50cd60bf6953ea67074932d41   \n",
       "114081  23ad96d6b6f1ecf554a52f6e9b61677c7d73d8a409a143cee85eda1557f516c8   \n",
       "118150  f2b58aeed3c074652de2cfd3c0717a5d21d6fbcf342a786928c5fd38c860fa45   \n",
       "135344  3505b02549ebe2c95840ac6f0a35561a3b4cbe4b79cdb15d794a6ac066b66644   \n",
       "\n",
       "        orgyear     ctc         job_position  job_position_encoded  \\\n",
       "77096    2021.0  1000.0                  NaN                 202.0   \n",
       "133220   2012.0  1000.0     ANDROID ENGINEER                  25.0   \n",
       "150583   2023.0   600.0                  NaN                 243.0   \n",
       "99343    2018.0   600.0  FULL STACK ENGINEER                 249.0   \n",
       "171084   2012.0   600.0     BACKEND ENGINEER                 108.0   \n",
       "116863   2022.0   200.0                  NaN                 396.0   \n",
       "184820   2016.0    15.0                  NaN                 155.0   \n",
       "114081   2013.0    14.0                  NaN                 202.0   \n",
       "118150   2013.0     6.0                  NaN                 202.0   \n",
       "135344   2014.0     2.0     BACKEND ENGINEER                 108.0   \n",
       "\n",
       "        ctc_updated_year  Years of Experience  Tier  Class  Designation  \n",
       "77096             2019.0                  2.0   3.0    3.0          3.0  \n",
       "133220            2017.0                 11.0   3.0    2.0          3.0  \n",
       "150583            2019.0                  0.0   3.0    3.0          2.0  \n",
       "99343             2021.0                  5.0   3.0    3.0          3.0  \n",
       "171084            2017.0                 11.0   3.0    3.0          3.0  \n",
       "116863            2021.0                  1.0   3.0    2.0          2.0  \n",
       "184820            2018.0                  7.0   3.0    3.0          3.0  \n",
       "114081            2018.0                 10.0   3.0    1.0          3.0  \n",
       "118150            2018.0                 10.0   3.0    3.0          3.0  \n",
       "135344            2019.0                  9.0   3.0    3.0          3.0  "
      ]
     },
     "execution_count": 451,
     "metadata": {},
     "output_type": "execute_result"
    }
   ],
   "source": [
    "#Question4:\n",
    "#Bottom 10 employees (earning less than most of the employees in the company)- Tier 3\n",
    "\n",
    "df2.loc[df2['Tier']==3.0].sort_values(['ctc'],ascending=False).tail(10)"
   ]
  },
  {
   "cell_type": "markdown",
   "id": "874df33c",
   "metadata": {},
   "source": [
    "### Question5"
   ]
  },
  {
   "cell_type": "code",
   "execution_count": 452,
   "id": "8bde3296",
   "metadata": {},
   "outputs": [
    {
     "data": {
      "text/html": [
       "<div>\n",
       "<style scoped>\n",
       "    .dataframe tbody tr th:only-of-type {\n",
       "        vertical-align: middle;\n",
       "    }\n",
       "\n",
       "    .dataframe tbody tr th {\n",
       "        vertical-align: top;\n",
       "    }\n",
       "\n",
       "    .dataframe thead th {\n",
       "        text-align: right;\n",
       "    }\n",
       "</style>\n",
       "<table border=\"1\" class=\"dataframe\">\n",
       "  <thead>\n",
       "    <tr style=\"text-align: right;\">\n",
       "      <th></th>\n",
       "      <th>company_hash</th>\n",
       "      <th>company_hash_encoded</th>\n",
       "      <th>email_hash</th>\n",
       "      <th>orgyear</th>\n",
       "      <th>ctc</th>\n",
       "      <th>job_position</th>\n",
       "      <th>job_position_encoded</th>\n",
       "      <th>ctc_updated_year</th>\n",
       "      <th>Years of Experience</th>\n",
       "      <th>Tier</th>\n",
       "      <th>Class</th>\n",
       "      <th>Designation</th>\n",
       "    </tr>\n",
       "  </thead>\n",
       "  <tbody>\n",
       "    <tr>\n",
       "      <th>167376</th>\n",
       "      <td>zgzt</td>\n",
       "      <td>36098.0</td>\n",
       "      <td>8502cbd83240fa8f6885606e1cc55efdcd674d9c2d0df8b96be24c98f60d067e</td>\n",
       "      <td>2017.0</td>\n",
       "      <td>649000.0</td>\n",
       "      <td>DATA SCIENTIST</td>\n",
       "      <td>173.0</td>\n",
       "      <td>2019.0</td>\n",
       "      <td>6.0</td>\n",
       "      <td>3.0</td>\n",
       "      <td>3.0</td>\n",
       "      <td>3.0</td>\n",
       "    </tr>\n",
       "    <tr>\n",
       "      <th>70263</th>\n",
       "      <td>zgzt</td>\n",
       "      <td>36098.0</td>\n",
       "      <td>cb3f313aa5ed673640f60bcfa058b96184aa0d028e199069e416af3f1f3907f0</td>\n",
       "      <td>2017.0</td>\n",
       "      <td>625000.0</td>\n",
       "      <td>DATA SCIENTIST</td>\n",
       "      <td>173.0</td>\n",
       "      <td>2020.0</td>\n",
       "      <td>6.0</td>\n",
       "      <td>3.0</td>\n",
       "      <td>3.0</td>\n",
       "      <td>3.0</td>\n",
       "    </tr>\n",
       "    <tr>\n",
       "      <th>97059</th>\n",
       "      <td>zgzt</td>\n",
       "      <td>36098.0</td>\n",
       "      <td>d417e55d19d79710814f9edab06a2ac2caee5088c642e0bafbc64c84113b4d6a</td>\n",
       "      <td>2018.0</td>\n",
       "      <td>600000.0</td>\n",
       "      <td>DATA SCIENTIST</td>\n",
       "      <td>173.0</td>\n",
       "      <td>2020.0</td>\n",
       "      <td>5.0</td>\n",
       "      <td>3.0</td>\n",
       "      <td>3.0</td>\n",
       "      <td>3.0</td>\n",
       "    </tr>\n",
       "    <tr>\n",
       "      <th>52537</th>\n",
       "      <td>zgzt</td>\n",
       "      <td>36098.0</td>\n",
       "      <td>e697c32fb2f153d9bc80bce8c2a426630231793a9f4aa1152c1ed1d5d8432d1e</td>\n",
       "      <td>2017.0</td>\n",
       "      <td>460000.0</td>\n",
       "      <td>DATA SCIENTIST</td>\n",
       "      <td>173.0</td>\n",
       "      <td>2019.0</td>\n",
       "      <td>6.0</td>\n",
       "      <td>3.0</td>\n",
       "      <td>3.0</td>\n",
       "      <td>3.0</td>\n",
       "    </tr>\n",
       "    <tr>\n",
       "      <th>199928</th>\n",
       "      <td>zgzt</td>\n",
       "      <td>36098.0</td>\n",
       "      <td>a803adab6dde9d4b480280a4a5555676cdbb23e3e5ad8085b83a4b68c5533c78</td>\n",
       "      <td>2016.0</td>\n",
       "      <td>400000.0</td>\n",
       "      <td>DATA SCIENTIST</td>\n",
       "      <td>173.0</td>\n",
       "      <td>2020.0</td>\n",
       "      <td>7.0</td>\n",
       "      <td>3.0</td>\n",
       "      <td>3.0</td>\n",
       "      <td>3.0</td>\n",
       "    </tr>\n",
       "    <tr>\n",
       "      <th>29173</th>\n",
       "      <td>zgzt</td>\n",
       "      <td>36098.0</td>\n",
       "      <td>7aebe262e3cdef301d2791ccfe648c6a54177e3c9bd112fcfc4a94c0faac3a9f</td>\n",
       "      <td>2018.0</td>\n",
       "      <td>250000.0</td>\n",
       "      <td>DATA SCIENTIST</td>\n",
       "      <td>173.0</td>\n",
       "      <td>2021.0</td>\n",
       "      <td>5.0</td>\n",
       "      <td>3.0</td>\n",
       "      <td>3.0</td>\n",
       "      <td>3.0</td>\n",
       "    </tr>\n",
       "    <tr>\n",
       "      <th>105094</th>\n",
       "      <td>zgzt</td>\n",
       "      <td>36098.0</td>\n",
       "      <td>e13e38bf9de2dbdd8c13069e608870a5750f91e62bf71bc11d6e8c53622dd21c</td>\n",
       "      <td>2017.0</td>\n",
       "      <td>200000.0</td>\n",
       "      <td>DATA SCIENTIST</td>\n",
       "      <td>173.0</td>\n",
       "      <td>2021.0</td>\n",
       "      <td>6.0</td>\n",
       "      <td>3.0</td>\n",
       "      <td>3.0</td>\n",
       "      <td>3.0</td>\n",
       "    </tr>\n",
       "    <tr>\n",
       "      <th>126416</th>\n",
       "      <td>zgzt</td>\n",
       "      <td>36098.0</td>\n",
       "      <td>3377ad447408574f71ea9207a153ce85976fa86e1567d9d6221968d47c82188b</td>\n",
       "      <td>2018.0</td>\n",
       "      <td>200000.0</td>\n",
       "      <td>DATA SCIENTIST</td>\n",
       "      <td>173.0</td>\n",
       "      <td>2019.0</td>\n",
       "      <td>5.0</td>\n",
       "      <td>3.0</td>\n",
       "      <td>3.0</td>\n",
       "      <td>3.0</td>\n",
       "    </tr>\n",
       "    <tr>\n",
       "      <th>45849</th>\n",
       "      <td>zgzt</td>\n",
       "      <td>36098.0</td>\n",
       "      <td>2cadff2fe2f39e9e4e684b95c0db58c9344fceb815c6c1a2429e5b453e680be0</td>\n",
       "      <td>2018.0</td>\n",
       "      <td>100000.0</td>\n",
       "      <td>DATA SCIENTIST</td>\n",
       "      <td>173.0</td>\n",
       "      <td>2020.0</td>\n",
       "      <td>5.0</td>\n",
       "      <td>3.0</td>\n",
       "      <td>3.0</td>\n",
       "      <td>3.0</td>\n",
       "    </tr>\n",
       "  </tbody>\n",
       "</table>\n",
       "</div>"
      ],
      "text/plain": [
       "       company_hash  company_hash_encoded  \\\n",
       "167376         zgzt               36098.0   \n",
       "70263          zgzt               36098.0   \n",
       "97059          zgzt               36098.0   \n",
       "52537          zgzt               36098.0   \n",
       "199928         zgzt               36098.0   \n",
       "29173          zgzt               36098.0   \n",
       "105094         zgzt               36098.0   \n",
       "126416         zgzt               36098.0   \n",
       "45849          zgzt               36098.0   \n",
       "\n",
       "                                                              email_hash  \\\n",
       "167376  8502cbd83240fa8f6885606e1cc55efdcd674d9c2d0df8b96be24c98f60d067e   \n",
       "70263   cb3f313aa5ed673640f60bcfa058b96184aa0d028e199069e416af3f1f3907f0   \n",
       "97059   d417e55d19d79710814f9edab06a2ac2caee5088c642e0bafbc64c84113b4d6a   \n",
       "52537   e697c32fb2f153d9bc80bce8c2a426630231793a9f4aa1152c1ed1d5d8432d1e   \n",
       "199928  a803adab6dde9d4b480280a4a5555676cdbb23e3e5ad8085b83a4b68c5533c78   \n",
       "29173   7aebe262e3cdef301d2791ccfe648c6a54177e3c9bd112fcfc4a94c0faac3a9f   \n",
       "105094  e13e38bf9de2dbdd8c13069e608870a5750f91e62bf71bc11d6e8c53622dd21c   \n",
       "126416  3377ad447408574f71ea9207a153ce85976fa86e1567d9d6221968d47c82188b   \n",
       "45849   2cadff2fe2f39e9e4e684b95c0db58c9344fceb815c6c1a2429e5b453e680be0   \n",
       "\n",
       "        orgyear       ctc    job_position  job_position_encoded  \\\n",
       "167376   2017.0  649000.0  DATA SCIENTIST                 173.0   \n",
       "70263    2017.0  625000.0  DATA SCIENTIST                 173.0   \n",
       "97059    2018.0  600000.0  DATA SCIENTIST                 173.0   \n",
       "52537    2017.0  460000.0  DATA SCIENTIST                 173.0   \n",
       "199928   2016.0  400000.0  DATA SCIENTIST                 173.0   \n",
       "29173    2018.0  250000.0  DATA SCIENTIST                 173.0   \n",
       "105094   2017.0  200000.0  DATA SCIENTIST                 173.0   \n",
       "126416   2018.0  200000.0  DATA SCIENTIST                 173.0   \n",
       "45849    2018.0  100000.0  DATA SCIENTIST                 173.0   \n",
       "\n",
       "        ctc_updated_year  Years of Experience  Tier  Class  Designation  \n",
       "167376            2019.0                  6.0   3.0    3.0          3.0  \n",
       "70263             2020.0                  6.0   3.0    3.0          3.0  \n",
       "97059             2020.0                  5.0   3.0    3.0          3.0  \n",
       "52537             2019.0                  6.0   3.0    3.0          3.0  \n",
       "199928            2020.0                  7.0   3.0    3.0          3.0  \n",
       "29173             2021.0                  5.0   3.0    3.0          3.0  \n",
       "105094            2021.0                  6.0   3.0    3.0          3.0  \n",
       "126416            2019.0                  5.0   3.0    3.0          3.0  \n",
       "45849             2020.0                  5.0   3.0    3.0          3.0  "
      ]
     },
     "execution_count": 452,
     "metadata": {},
     "output_type": "execute_result"
    }
   ],
   "source": [
    "#Question5:\n",
    "#Top 10 employees in Amazon- X department - \n",
    "#having 5/6/7 years of experience earning more than their peers - Tier X\n",
    "\n",
    "df2.loc[(df2['Tier']==3.0) & \n",
    "        (df2['company_hash']=='zgzt') & \n",
    "        (df2['job_position']=='DATA SCIENTIST') &\n",
    "        ((df2['Years of Experience']==5.0) |\n",
    "         (df2['Years of Experience']==6.0) |\n",
    "         (df2['Years of Experience']==7.0))].sort_values(['ctc'],ascending=False).tail(10)\n"
   ]
  },
  {
   "cell_type": "markdown",
   "id": "e14049ad",
   "metadata": {},
   "source": [
    "### Question6"
   ]
  },
  {
   "cell_type": "code",
   "execution_count": 453,
   "id": "1ebd8bb4",
   "metadata": {},
   "outputs": [
    {
     "data": {
      "text/html": [
       "<div>\n",
       "<style scoped>\n",
       "    .dataframe tbody tr th:only-of-type {\n",
       "        vertical-align: middle;\n",
       "    }\n",
       "\n",
       "    .dataframe tbody tr th {\n",
       "        vertical-align: top;\n",
       "    }\n",
       "\n",
       "    .dataframe thead th {\n",
       "        text-align: right;\n",
       "    }\n",
       "</style>\n",
       "<table border=\"1\" class=\"dataframe\">\n",
       "  <thead>\n",
       "    <tr style=\"text-align: right;\">\n",
       "      <th></th>\n",
       "      <th>company_hash</th>\n",
       "      <th>company_hash_encoded</th>\n",
       "      <th>email_hash</th>\n",
       "      <th>orgyear</th>\n",
       "      <th>ctc</th>\n",
       "      <th>job_position</th>\n",
       "      <th>job_position_encoded</th>\n",
       "      <th>ctc_updated_year</th>\n",
       "      <th>Years of Experience</th>\n",
       "      <th>Tier</th>\n",
       "      <th>Class</th>\n",
       "      <th>Designation</th>\n",
       "    </tr>\n",
       "  </thead>\n",
       "  <tbody>\n",
       "    <tr>\n",
       "      <th>72765</th>\n",
       "      <td>whmxw rgsxwo uqxcvnt rxbxnta</td>\n",
       "      <td>30473.0</td>\n",
       "      <td>29a71dd13adf6d2d497571a565bb3096cf66cb46cd1eceeefa83817ecd4f1371</td>\n",
       "      <td>2015.0</td>\n",
       "      <td>1.000150e+09</td>\n",
       "      <td>NaN</td>\n",
       "      <td>274.0</td>\n",
       "      <td>2020.0</td>\n",
       "      <td>8.0</td>\n",
       "      <td>2.0</td>\n",
       "      <td>2.0</td>\n",
       "      <td>1.0</td>\n",
       "    </tr>\n",
       "    <tr>\n",
       "      <th>117551</th>\n",
       "      <td>obvqnuqxdwgb</td>\n",
       "      <td>14517.0</td>\n",
       "      <td>5b4bed51797140db4ed52018a979db1e34cee49e27b4885c3fdfacea9f8144f6</td>\n",
       "      <td>2018.0</td>\n",
       "      <td>2.555556e+08</td>\n",
       "      <td>NaN</td>\n",
       "      <td>409.0</td>\n",
       "      <td>2016.0</td>\n",
       "      <td>5.0</td>\n",
       "      <td>1.0</td>\n",
       "      <td>2.0</td>\n",
       "      <td>1.0</td>\n",
       "    </tr>\n",
       "    <tr>\n",
       "      <th>3295</th>\n",
       "      <td>aveegaxr xzntqzvnxgzvr hzxctqoxnj</td>\n",
       "      <td>1217.0</td>\n",
       "      <td>06d231f167701592a69cdd7d5c825a0f5b30f0347a40782e114434c5e3b5d9d6</td>\n",
       "      <td>2021.0</td>\n",
       "      <td>2.500000e+08</td>\n",
       "      <td>NaN</td>\n",
       "      <td>356.0</td>\n",
       "      <td>2020.0</td>\n",
       "      <td>2.0</td>\n",
       "      <td>2.0</td>\n",
       "      <td>2.0</td>\n",
       "      <td>1.0</td>\n",
       "    </tr>\n",
       "    <tr>\n",
       "      <th>72788</th>\n",
       "      <td>xeewg ngpxg stztqvr xzohqvzwt</td>\n",
       "      <td>32676.0</td>\n",
       "      <td>462f7e3dfe6c9ef8dab91e6c4650a83b6bcbe9c6b740ed555e76793f0274ec14</td>\n",
       "      <td>2019.0</td>\n",
       "      <td>2.000000e+08</td>\n",
       "      <td>NaN</td>\n",
       "      <td>275.0</td>\n",
       "      <td>2020.0</td>\n",
       "      <td>4.0</td>\n",
       "      <td>1.0</td>\n",
       "      <td>2.0</td>\n",
       "      <td>1.0</td>\n",
       "    </tr>\n",
       "    <tr>\n",
       "      <th>5884</th>\n",
       "      <td>xzaxv ugftq wgqugqvnxgz rna</td>\n",
       "      <td>33567.0</td>\n",
       "      <td>c9613896e32d114be30b996a9d85afe9550bab51a8a00a82043e8ed5cbd25507</td>\n",
       "      <td>2016.0</td>\n",
       "      <td>2.000000e+08</td>\n",
       "      <td>OTHER</td>\n",
       "      <td>409.0</td>\n",
       "      <td>2020.0</td>\n",
       "      <td>7.0</td>\n",
       "      <td>2.0</td>\n",
       "      <td>2.0</td>\n",
       "      <td>1.0</td>\n",
       "    </tr>\n",
       "    <tr>\n",
       "      <th>48997</th>\n",
       "      <td>cxcg</td>\n",
       "      <td>4796.0</td>\n",
       "      <td>e2dd499e56ff7cebd30856322f486fb6736cee7785cbb58aacba43c6a1508546</td>\n",
       "      <td>2018.0</td>\n",
       "      <td>2.000000e+08</td>\n",
       "      <td>ANDROID ENGINEER</td>\n",
       "      <td>25.0</td>\n",
       "      <td>2020.0</td>\n",
       "      <td>5.0</td>\n",
       "      <td>1.0</td>\n",
       "      <td>2.0</td>\n",
       "      <td>1.0</td>\n",
       "    </tr>\n",
       "    <tr>\n",
       "      <th>1240</th>\n",
       "      <td>nvnv wgzohrnvzwj otqcxwto</td>\n",
       "      <td>13550.0</td>\n",
       "      <td>82fbacc015757ee74efe763c3623dc751812af48c741ff13f4cd7315a8635c68</td>\n",
       "      <td>2015.0</td>\n",
       "      <td>2.000000e+08</td>\n",
       "      <td>NaN</td>\n",
       "      <td>409.0</td>\n",
       "      <td>2020.0</td>\n",
       "      <td>8.0</td>\n",
       "      <td>1.0</td>\n",
       "      <td>1.0</td>\n",
       "      <td>1.0</td>\n",
       "    </tr>\n",
       "    <tr>\n",
       "      <th>9038</th>\n",
       "      <td>zxxn ntwyzgrgsxto rxbxnta</td>\n",
       "      <td>37236.0</td>\n",
       "      <td>58e652d3e06d4228be0a8ac9ef8228928628299d93795f84d1d004f278e6e73e</td>\n",
       "      <td>2014.0</td>\n",
       "      <td>2.000000e+08</td>\n",
       "      <td>NaN</td>\n",
       "      <td>356.0</td>\n",
       "      <td>2020.0</td>\n",
       "      <td>9.0</td>\n",
       "      <td>1.0</td>\n",
       "      <td>1.0</td>\n",
       "      <td>1.0</td>\n",
       "    </tr>\n",
       "    <tr>\n",
       "      <th>17814</th>\n",
       "      <td>ovu</td>\n",
       "      <td>17142.0</td>\n",
       "      <td>a35a5abbe9fb056421bdd9aca4440acfb93e37c823564d952a50c40583920598</td>\n",
       "      <td>2017.0</td>\n",
       "      <td>2.000000e+08</td>\n",
       "      <td>BACKEND ENGINEER</td>\n",
       "      <td>108.0</td>\n",
       "      <td>2019.0</td>\n",
       "      <td>6.0</td>\n",
       "      <td>1.0</td>\n",
       "      <td>1.0</td>\n",
       "      <td>1.0</td>\n",
       "    </tr>\n",
       "    <tr>\n",
       "      <th>9062</th>\n",
       "      <td>boo</td>\n",
       "      <td>2538.0</td>\n",
       "      <td>4d899e4af4f98d23848a8e21455489231fc2cbf2ca9668a0385e7a7529cab63a</td>\n",
       "      <td>2018.0</td>\n",
       "      <td>2.000000e+08</td>\n",
       "      <td>RESEARCH ENGINEERS</td>\n",
       "      <td>493.0</td>\n",
       "      <td>2020.0</td>\n",
       "      <td>5.0</td>\n",
       "      <td>2.0</td>\n",
       "      <td>2.0</td>\n",
       "      <td>1.0</td>\n",
       "    </tr>\n",
       "  </tbody>\n",
       "</table>\n",
       "</div>"
      ],
      "text/plain": [
       "                             company_hash  company_hash_encoded  \\\n",
       "72765        whmxw rgsxwo uqxcvnt rxbxnta               30473.0   \n",
       "117551                       obvqnuqxdwgb               14517.0   \n",
       "3295    aveegaxr xzntqzvnxgzvr hzxctqoxnj                1217.0   \n",
       "72788       xeewg ngpxg stztqvr xzohqvzwt               32676.0   \n",
       "5884          xzaxv ugftq wgqugqvnxgz rna               33567.0   \n",
       "48997                                cxcg                4796.0   \n",
       "1240            nvnv wgzohrnvzwj otqcxwto               13550.0   \n",
       "9038            zxxn ntwyzgrgsxto rxbxnta               37236.0   \n",
       "17814                                 ovu               17142.0   \n",
       "9062                                  boo                2538.0   \n",
       "\n",
       "                                                              email_hash  \\\n",
       "72765   29a71dd13adf6d2d497571a565bb3096cf66cb46cd1eceeefa83817ecd4f1371   \n",
       "117551  5b4bed51797140db4ed52018a979db1e34cee49e27b4885c3fdfacea9f8144f6   \n",
       "3295    06d231f167701592a69cdd7d5c825a0f5b30f0347a40782e114434c5e3b5d9d6   \n",
       "72788   462f7e3dfe6c9ef8dab91e6c4650a83b6bcbe9c6b740ed555e76793f0274ec14   \n",
       "5884    c9613896e32d114be30b996a9d85afe9550bab51a8a00a82043e8ed5cbd25507   \n",
       "48997   e2dd499e56ff7cebd30856322f486fb6736cee7785cbb58aacba43c6a1508546   \n",
       "1240    82fbacc015757ee74efe763c3623dc751812af48c741ff13f4cd7315a8635c68   \n",
       "9038    58e652d3e06d4228be0a8ac9ef8228928628299d93795f84d1d004f278e6e73e   \n",
       "17814   a35a5abbe9fb056421bdd9aca4440acfb93e37c823564d952a50c40583920598   \n",
       "9062    4d899e4af4f98d23848a8e21455489231fc2cbf2ca9668a0385e7a7529cab63a   \n",
       "\n",
       "        orgyear           ctc        job_position  job_position_encoded  \\\n",
       "72765    2015.0  1.000150e+09                 NaN                 274.0   \n",
       "117551   2018.0  2.555556e+08                 NaN                 409.0   \n",
       "3295     2021.0  2.500000e+08                 NaN                 356.0   \n",
       "72788    2019.0  2.000000e+08                 NaN                 275.0   \n",
       "5884     2016.0  2.000000e+08               OTHER                 409.0   \n",
       "48997    2018.0  2.000000e+08    ANDROID ENGINEER                  25.0   \n",
       "1240     2015.0  2.000000e+08                 NaN                 409.0   \n",
       "9038     2014.0  2.000000e+08                 NaN                 356.0   \n",
       "17814    2017.0  2.000000e+08    BACKEND ENGINEER                 108.0   \n",
       "9062     2018.0  2.000000e+08  RESEARCH ENGINEERS                 493.0   \n",
       "\n",
       "        ctc_updated_year  Years of Experience  Tier  Class  Designation  \n",
       "72765             2020.0                  8.0   2.0    2.0          1.0  \n",
       "117551            2016.0                  5.0   1.0    2.0          1.0  \n",
       "3295              2020.0                  2.0   2.0    2.0          1.0  \n",
       "72788             2020.0                  4.0   1.0    2.0          1.0  \n",
       "5884              2020.0                  7.0   2.0    2.0          1.0  \n",
       "48997             2020.0                  5.0   1.0    2.0          1.0  \n",
       "1240              2020.0                  8.0   1.0    1.0          1.0  \n",
       "9038              2020.0                  9.0   1.0    1.0          1.0  \n",
       "17814             2019.0                  6.0   1.0    1.0          1.0  \n",
       "9062              2020.0                  5.0   2.0    2.0          1.0  "
      ]
     },
     "execution_count": 453,
     "metadata": {},
     "output_type": "execute_result"
    }
   ],
   "source": [
    "#Question6:\n",
    "#Top 10 companies (based on their CTC)\n",
    "\n",
    "df2.sort_values(['ctc'], ascending=False).head(10)"
   ]
  },
  {
   "cell_type": "markdown",
   "id": "209cfeda",
   "metadata": {},
   "source": [
    "### Question7"
   ]
  },
  {
   "cell_type": "code",
   "execution_count": 454,
   "id": "4d8561b6",
   "metadata": {},
   "outputs": [],
   "source": [
    "#Question7:\n",
    "#Top 2 positions in every company (based on their CTC)\n",
    "#df2.groupby(['company_hash'])['ctc'].nlargest(2)\n",
    "\n",
    "q_nlargest = df2.loc[df2.groupby(['company_hash'])['ctc'].nlargest(2).reset_index()['level_1']]"
   ]
  },
  {
   "cell_type": "code",
   "execution_count": 455,
   "id": "09d3f478",
   "metadata": {},
   "outputs": [
    {
     "data": {
      "text/html": [
       "<div>\n",
       "<style scoped>\n",
       "    .dataframe tbody tr th:only-of-type {\n",
       "        vertical-align: middle;\n",
       "    }\n",
       "\n",
       "    .dataframe tbody tr th {\n",
       "        vertical-align: top;\n",
       "    }\n",
       "\n",
       "    .dataframe thead th {\n",
       "        text-align: right;\n",
       "    }\n",
       "</style>\n",
       "<table border=\"1\" class=\"dataframe\">\n",
       "  <thead>\n",
       "    <tr style=\"text-align: right;\">\n",
       "      <th></th>\n",
       "      <th>company_hash</th>\n",
       "      <th>company_hash_encoded</th>\n",
       "      <th>email_hash</th>\n",
       "      <th>orgyear</th>\n",
       "      <th>ctc</th>\n",
       "      <th>job_position</th>\n",
       "      <th>job_position_encoded</th>\n",
       "      <th>ctc_updated_year</th>\n",
       "      <th>Years of Experience</th>\n",
       "      <th>Tier</th>\n",
       "      <th>Class</th>\n",
       "      <th>Designation</th>\n",
       "    </tr>\n",
       "  </thead>\n",
       "  <tbody>\n",
       "    <tr>\n",
       "      <th>2936</th>\n",
       "      <td>0</td>\n",
       "      <td>0.0</td>\n",
       "      <td>e80f7c9c26012bfdeca551e2b8642a93e45939d3d677c5287b50ef620d1e73ab</td>\n",
       "      <td>2020.0</td>\n",
       "      <td>100000.0</td>\n",
       "      <td>NaN</td>\n",
       "      <td>208.0</td>\n",
       "      <td>2020.0</td>\n",
       "      <td>3.0</td>\n",
       "      <td>2.0</td>\n",
       "      <td>2.0</td>\n",
       "      <td>3.0</td>\n",
       "    </tr>\n",
       "    <tr>\n",
       "      <th>16804</th>\n",
       "      <td>0</td>\n",
       "      <td>0.0</td>\n",
       "      <td>e80f7c9c26012bfdeca551e2b8642a93e45939d3d677c5287b50ef620d1e73ab</td>\n",
       "      <td>2020.0</td>\n",
       "      <td>100000.0</td>\n",
       "      <td>OTHER</td>\n",
       "      <td>409.0</td>\n",
       "      <td>2020.0</td>\n",
       "      <td>3.0</td>\n",
       "      <td>2.0</td>\n",
       "      <td>2.0</td>\n",
       "      <td>3.0</td>\n",
       "    </tr>\n",
       "    <tr>\n",
       "      <th>197412</th>\n",
       "      <td>0000</td>\n",
       "      <td>1.0</td>\n",
       "      <td>b3f3bb98cbca4b1ce5dfd5abb4e500ce6f6b66288a5202ead573964201d24b24</td>\n",
       "      <td>2017.0</td>\n",
       "      <td>300000.0</td>\n",
       "      <td>OTHER</td>\n",
       "      <td>409.0</td>\n",
       "      <td>2020.0</td>\n",
       "      <td>6.0</td>\n",
       "      <td>2.0</td>\n",
       "      <td>2.0</td>\n",
       "      <td>3.0</td>\n",
       "    </tr>\n",
       "    <tr>\n",
       "      <th>55189</th>\n",
       "      <td>01 ojztqsj</td>\n",
       "      <td>2.0</td>\n",
       "      <td>e1e15fada844f35fcc33927343d0c80f55526b87c40eeed72b25ceafc1186e5e</td>\n",
       "      <td>2011.0</td>\n",
       "      <td>830000.0</td>\n",
       "      <td>FRONT END ENGINEER</td>\n",
       "      <td>245.0</td>\n",
       "      <td>2019.0</td>\n",
       "      <td>12.0</td>\n",
       "      <td>1.0</td>\n",
       "      <td>2.0</td>\n",
       "      <td>3.0</td>\n",
       "    </tr>\n",
       "    <tr>\n",
       "      <th>74370</th>\n",
       "      <td>01 ojztqsj</td>\n",
       "      <td>2.0</td>\n",
       "      <td>819789ff4068fd5c8facf8a5074cdd2e1ff989c95ae02c02b81ac1447cbd6386</td>\n",
       "      <td>2016.0</td>\n",
       "      <td>270000.0</td>\n",
       "      <td>ANDROID ENGINEER</td>\n",
       "      <td>25.0</td>\n",
       "      <td>2019.0</td>\n",
       "      <td>7.0</td>\n",
       "      <td>3.0</td>\n",
       "      <td>2.0</td>\n",
       "      <td>3.0</td>\n",
       "    </tr>\n",
       "    <tr>\n",
       "      <th>97185</th>\n",
       "      <td>05mz exzytvrny uqxcvnt rxbxnta</td>\n",
       "      <td>3.0</td>\n",
       "      <td>4702229ffb6968c87b16fc57e730769e554184e322e1118fbd997a1d8e50dec0</td>\n",
       "      <td>2019.0</td>\n",
       "      <td>1100000.0</td>\n",
       "      <td>NaN</td>\n",
       "      <td>155.0</td>\n",
       "      <td>2021.0</td>\n",
       "      <td>4.0</td>\n",
       "      <td>2.0</td>\n",
       "      <td>2.0</td>\n",
       "      <td>2.0</td>\n",
       "    </tr>\n",
       "    <tr>\n",
       "      <th>139772</th>\n",
       "      <td>05mz exzytvrny uqxcvnt rxbxnta</td>\n",
       "      <td>3.0</td>\n",
       "      <td>4702229ffb6968c87b16fc57e730769e554184e322e1118fbd997a1d8e50dec0</td>\n",
       "      <td>2019.0</td>\n",
       "      <td>1100000.0</td>\n",
       "      <td>BACKEND ENGINEER</td>\n",
       "      <td>108.0</td>\n",
       "      <td>2021.0</td>\n",
       "      <td>4.0</td>\n",
       "      <td>2.0</td>\n",
       "      <td>2.0</td>\n",
       "      <td>2.0</td>\n",
       "    </tr>\n",
       "    <tr>\n",
       "      <th>125781</th>\n",
       "      <td>1</td>\n",
       "      <td>4.0</td>\n",
       "      <td>a0ece532f193b9e96e6bf92f133de6b2a9c20ebfb0b3bbd36a5be343d640d435</td>\n",
       "      <td>2022.0</td>\n",
       "      <td>250000.0</td>\n",
       "      <td>OTHER</td>\n",
       "      <td>409.0</td>\n",
       "      <td>2021.0</td>\n",
       "      <td>1.0</td>\n",
       "      <td>1.0</td>\n",
       "      <td>2.0</td>\n",
       "      <td>3.0</td>\n",
       "    </tr>\n",
       "    <tr>\n",
       "      <th>2207</th>\n",
       "      <td>1</td>\n",
       "      <td>4.0</td>\n",
       "      <td>8cc7aba49e96a0a80f7ed6c2ed79bc1d1e81171a28445c06be8a61373c139c4e</td>\n",
       "      <td>2017.0</td>\n",
       "      <td>100000.0</td>\n",
       "      <td>NaN</td>\n",
       "      <td>208.0</td>\n",
       "      <td>2020.0</td>\n",
       "      <td>6.0</td>\n",
       "      <td>3.0</td>\n",
       "      <td>2.0</td>\n",
       "      <td>3.0</td>\n",
       "    </tr>\n",
       "    <tr>\n",
       "      <th>163848</th>\n",
       "      <td>1 axsxnvro</td>\n",
       "      <td>5.0</td>\n",
       "      <td>70459269ec53bd863dc3bad03772c608842ce6182710e1ad40e66b1ebe578baf</td>\n",
       "      <td>2018.0</td>\n",
       "      <td>350000.0</td>\n",
       "      <td>BACKEND ENGINEER</td>\n",
       "      <td>108.0</td>\n",
       "      <td>2020.0</td>\n",
       "      <td>5.0</td>\n",
       "      <td>2.0</td>\n",
       "      <td>2.0</td>\n",
       "      <td>3.0</td>\n",
       "    </tr>\n",
       "  </tbody>\n",
       "</table>\n",
       "</div>"
      ],
      "text/plain": [
       "                          company_hash  company_hash_encoded  \\\n",
       "2936                                 0                   0.0   \n",
       "16804                                0                   0.0   \n",
       "197412                            0000                   1.0   \n",
       "55189                       01 ojztqsj                   2.0   \n",
       "74370                       01 ojztqsj                   2.0   \n",
       "97185   05mz exzytvrny uqxcvnt rxbxnta                   3.0   \n",
       "139772  05mz exzytvrny uqxcvnt rxbxnta                   3.0   \n",
       "125781                               1                   4.0   \n",
       "2207                                 1                   4.0   \n",
       "163848                      1 axsxnvro                   5.0   \n",
       "\n",
       "                                                              email_hash  \\\n",
       "2936    e80f7c9c26012bfdeca551e2b8642a93e45939d3d677c5287b50ef620d1e73ab   \n",
       "16804   e80f7c9c26012bfdeca551e2b8642a93e45939d3d677c5287b50ef620d1e73ab   \n",
       "197412  b3f3bb98cbca4b1ce5dfd5abb4e500ce6f6b66288a5202ead573964201d24b24   \n",
       "55189   e1e15fada844f35fcc33927343d0c80f55526b87c40eeed72b25ceafc1186e5e   \n",
       "74370   819789ff4068fd5c8facf8a5074cdd2e1ff989c95ae02c02b81ac1447cbd6386   \n",
       "97185   4702229ffb6968c87b16fc57e730769e554184e322e1118fbd997a1d8e50dec0   \n",
       "139772  4702229ffb6968c87b16fc57e730769e554184e322e1118fbd997a1d8e50dec0   \n",
       "125781  a0ece532f193b9e96e6bf92f133de6b2a9c20ebfb0b3bbd36a5be343d640d435   \n",
       "2207    8cc7aba49e96a0a80f7ed6c2ed79bc1d1e81171a28445c06be8a61373c139c4e   \n",
       "163848  70459269ec53bd863dc3bad03772c608842ce6182710e1ad40e66b1ebe578baf   \n",
       "\n",
       "        orgyear        ctc        job_position  job_position_encoded  \\\n",
       "2936     2020.0   100000.0                 NaN                 208.0   \n",
       "16804    2020.0   100000.0               OTHER                 409.0   \n",
       "197412   2017.0   300000.0               OTHER                 409.0   \n",
       "55189    2011.0   830000.0  FRONT END ENGINEER                 245.0   \n",
       "74370    2016.0   270000.0    ANDROID ENGINEER                  25.0   \n",
       "97185    2019.0  1100000.0                 NaN                 155.0   \n",
       "139772   2019.0  1100000.0    BACKEND ENGINEER                 108.0   \n",
       "125781   2022.0   250000.0               OTHER                 409.0   \n",
       "2207     2017.0   100000.0                 NaN                 208.0   \n",
       "163848   2018.0   350000.0    BACKEND ENGINEER                 108.0   \n",
       "\n",
       "        ctc_updated_year  Years of Experience  Tier  Class  Designation  \n",
       "2936              2020.0                  3.0   2.0    2.0          3.0  \n",
       "16804             2020.0                  3.0   2.0    2.0          3.0  \n",
       "197412            2020.0                  6.0   2.0    2.0          3.0  \n",
       "55189             2019.0                 12.0   1.0    2.0          3.0  \n",
       "74370             2019.0                  7.0   3.0    2.0          3.0  \n",
       "97185             2021.0                  4.0   2.0    2.0          2.0  \n",
       "139772            2021.0                  4.0   2.0    2.0          2.0  \n",
       "125781            2021.0                  1.0   1.0    2.0          3.0  \n",
       "2207              2020.0                  6.0   3.0    2.0          3.0  \n",
       "163848            2020.0                  5.0   2.0    2.0          3.0  "
      ]
     },
     "execution_count": 455,
     "metadata": {},
     "output_type": "execute_result"
    }
   ],
   "source": [
    "#Question7: ..contd.\n",
    "\n",
    "q_nlargest.head(10)"
   ]
  },
  {
   "cell_type": "markdown",
   "id": "7ce18469",
   "metadata": {},
   "source": [
    "### Data standardization / normalization"
   ]
  },
  {
   "cell_type": "code",
   "execution_count": 456,
   "id": "f55ed6a6",
   "metadata": {},
   "outputs": [],
   "source": [
    "#Create brand new copy of the dataframe for further proceeding\n",
    "\n",
    "df3 = df2.drop(['company_hash', 'email_hash', 'job_position'], axis=1)"
   ]
  },
  {
   "cell_type": "code",
   "execution_count": 457,
   "id": "51576d41",
   "metadata": {},
   "outputs": [],
   "source": [
    "#Perform standardization\n",
    "#User standard scaler method for normalization of the dataset values\n",
    "\n",
    "scaler = StandardScaler()\n",
    "df3_scaled = scaler.fit_transform(df3)"
   ]
  },
  {
   "cell_type": "code",
   "execution_count": 458,
   "id": "f80fa809",
   "metadata": {},
   "outputs": [],
   "source": [
    "#Transform scaled data into the pandas dataframe with appropriate column names\n",
    "\n",
    "df3_scaled = pd.DataFrame(df3_scaled, columns = df3.columns)"
   ]
  },
  {
   "cell_type": "code",
   "execution_count": 459,
   "id": "fd283def",
   "metadata": {},
   "outputs": [
    {
     "data": {
      "text/html": [
       "<div>\n",
       "<style scoped>\n",
       "    .dataframe tbody tr th:only-of-type {\n",
       "        vertical-align: middle;\n",
       "    }\n",
       "\n",
       "    .dataframe tbody tr th {\n",
       "        vertical-align: top;\n",
       "    }\n",
       "\n",
       "    .dataframe thead th {\n",
       "        text-align: right;\n",
       "    }\n",
       "</style>\n",
       "<table border=\"1\" class=\"dataframe\">\n",
       "  <thead>\n",
       "    <tr style=\"text-align: right;\">\n",
       "      <th></th>\n",
       "      <th>company_hash_encoded</th>\n",
       "      <th>orgyear</th>\n",
       "      <th>ctc</th>\n",
       "      <th>job_position_encoded</th>\n",
       "      <th>ctc_updated_year</th>\n",
       "      <th>Years of Experience</th>\n",
       "      <th>Tier</th>\n",
       "      <th>Class</th>\n",
       "      <th>Designation</th>\n",
       "    </tr>\n",
       "  </thead>\n",
       "  <tbody>\n",
       "    <tr>\n",
       "      <th>0</th>\n",
       "      <td>-1.659614</td>\n",
       "      <td>0.017578</td>\n",
       "      <td>-0.099255</td>\n",
       "      <td>1.090037</td>\n",
       "      <td>0.280440</td>\n",
       "      <td>-0.017578</td>\n",
       "      <td>-0.247471</td>\n",
       "      <td>-1.692927</td>\n",
       "      <td>-1.517562</td>\n",
       "    </tr>\n",
       "    <tr>\n",
       "      <th>1</th>\n",
       "      <td>0.008642</td>\n",
       "      <td>0.049036</td>\n",
       "      <td>-0.154336</td>\n",
       "      <td>-0.021829</td>\n",
       "      <td>-0.474203</td>\n",
       "      <td>-0.049036</td>\n",
       "      <td>1.088242</td>\n",
       "      <td>1.351279</td>\n",
       "      <td>0.957894</td>\n",
       "    </tr>\n",
       "    <tr>\n",
       "      <th>2</th>\n",
       "      <td>-0.366344</td>\n",
       "      <td>0.001850</td>\n",
       "      <td>-0.022989</td>\n",
       "      <td>-1.001661</td>\n",
       "      <td>0.280440</td>\n",
       "      <td>-0.001850</td>\n",
       "      <td>-0.247471</td>\n",
       "      <td>-0.170824</td>\n",
       "      <td>-0.279834</td>\n",
       "    </tr>\n",
       "    <tr>\n",
       "      <th>3</th>\n",
       "      <td>-0.668879</td>\n",
       "      <td>0.033307</td>\n",
       "      <td>-0.133151</td>\n",
       "      <td>-1.001661</td>\n",
       "      <td>-0.474203</td>\n",
       "      <td>-0.033307</td>\n",
       "      <td>1.088242</td>\n",
       "      <td>1.351279</td>\n",
       "      <td>0.957894</td>\n",
       "    </tr>\n",
       "    <tr>\n",
       "      <th>4</th>\n",
       "      <td>0.052789</td>\n",
       "      <td>0.033307</td>\n",
       "      <td>-0.073833</td>\n",
       "      <td>-0.021829</td>\n",
       "      <td>-0.474203</td>\n",
       "      <td>-0.033307</td>\n",
       "      <td>-1.583184</td>\n",
       "      <td>-1.692927</td>\n",
       "      <td>-1.517562</td>\n",
       "    </tr>\n",
       "  </tbody>\n",
       "</table>\n",
       "</div>"
      ],
      "text/plain": [
       "   company_hash_encoded   orgyear       ctc  job_position_encoded  \\\n",
       "0             -1.659614  0.017578 -0.099255              1.090037   \n",
       "1              0.008642  0.049036 -0.154336             -0.021829   \n",
       "2             -0.366344  0.001850 -0.022989             -1.001661   \n",
       "3             -0.668879  0.033307 -0.133151             -1.001661   \n",
       "4              0.052789  0.033307 -0.073833             -0.021829   \n",
       "\n",
       "   ctc_updated_year  Years of Experience      Tier     Class  Designation  \n",
       "0          0.280440            -0.017578 -0.247471 -1.692927    -1.517562  \n",
       "1         -0.474203            -0.049036  1.088242  1.351279     0.957894  \n",
       "2          0.280440            -0.001850 -0.247471 -0.170824    -0.279834  \n",
       "3         -0.474203            -0.033307  1.088242  1.351279     0.957894  \n",
       "4         -0.474203            -0.033307 -1.583184 -1.692927    -1.517562  "
      ]
     },
     "execution_count": 459,
     "metadata": {},
     "output_type": "execute_result"
    }
   ],
   "source": [
    "#Get the glance of the dataframe\n",
    "\n",
    "df3_scaled.head()"
   ]
  },
  {
   "cell_type": "markdown",
   "id": "671e0a3e",
   "metadata": {},
   "source": [
    "### Cluster Tendency"
   ]
  },
  {
   "cell_type": "markdown",
   "id": "f7a07cc8",
   "metadata": {},
   "source": [
    "##### Hopkins Statistic\n",
    "Hopkins statistic is used to check the cluster tendency.\n",
    "Checking cluster tendency means - checking if the data contains any inherent clusters\n",
    "\n",
    "Statistical Method:\n",
    "\n",
    "Hopkins statistic is used to assess clustering tendency of dataset by measuring probability that given dataset is generated by uniform data distribution. \n",
    "\n",
    "Hypothesis:\n",
    "\n",
    "Null : Dataset is uniformly distributed (i.e. no clusters)\n",
    "\n",
    "Alternate: Dataset is not uniformly distributed (i.e. there are meaningful clusters)"
   ]
  },
  {
   "cell_type": "code",
   "execution_count": 460,
   "id": "77a6b639",
   "metadata": {},
   "outputs": [],
   "source": [
    "#Define function to calculate hopkins statistics \n",
    "\n",
    "def hopkins(dfx):\n",
    "    d = dfx.shape[1]\n",
    "    n = dfx.shape[0]\n",
    "    m = int(0.1 * n)\n",
    "    neighbors = NearestNeighbors(n_neighbors=3).fit(dfx.values)\n",
    "    \n",
    "    #Sample n uniform points\n",
    "    dfx_random = sample(range(0, n, 1), m)\n",
    "    \n",
    "    ujd = []\n",
    "    wjd = []\n",
    "    \n",
    "    for j in range(0, m):\n",
    "        #Compute the distance, xi, from each real point to each nearest neighbour\n",
    "        u_dist, _ = neighbors.kneighbors(np.random.uniform(np.amin(dfx,axis=0),\n",
    "                                                           np.amax(dfx,axis=0),\n",
    "                                                           d).reshape(1, -1), 4, return_distance=True)\n",
    "        ujd.append(u_dist[0][1])\n",
    "        \n",
    "        #Compute the distance, yi from each artificial point to the nearest real data point\n",
    "        w_dist, _ = neighbors.kneighbors(dfx.iloc[dfx_random[j]].values.reshape(1, -1),\n",
    "                                         4, return_distance=True)\n",
    "        wjd.append(w_dist[0][1])\n",
    "    \n",
    "    #Calculate the Hopkins statistic (H) as the mean nearest neighbour distance in the random dataset \n",
    "    #divided by the sum of the mean nearest neighbour distances in the real and across the simulated dataset.\n",
    "    H = sum(ujd) / (sum(ujd) + sum(wjd))\n",
    "  \n",
    "    if math.isnan(H):\n",
    "        H = 0\n",
    " \n",
    "    return H"
   ]
  },
  {
   "cell_type": "code",
   "execution_count": 461,
   "id": "b590e283",
   "metadata": {},
   "outputs": [],
   "source": [
    "#If H < 0.5, then it is unlikely that D has statistically significant clusters.\n",
    "#If the value of Hopkins statistic is close to 1, then we can reject the null hypothesis \n",
    "#and conclude that the dataset is significantly a clusterable data\n",
    "\n",
    "H = hopkins(df3_scaled)"
   ]
  },
  {
   "cell_type": "code",
   "execution_count": 462,
   "id": "940cc1e0",
   "metadata": {},
   "outputs": [
    {
     "data": {
      "text/plain": [
       "0.9996657349155166"
      ]
     },
     "execution_count": 462,
     "metadata": {},
     "output_type": "execute_result"
    }
   ],
   "source": [
    "# The dataset in our case is highly clusterable as H is close to 1\n",
    "H"
   ]
  },
  {
   "cell_type": "markdown",
   "id": "76bc2246",
   "metadata": {},
   "source": [
    "### Inference from Hopkins Statistics: \n",
    "1. Given dataset is significantly clusterable data"
   ]
  },
  {
   "cell_type": "markdown",
   "id": "ba1f47e1",
   "metadata": {},
   "source": [
    "### Hypertuning of kmeans clustering"
   ]
  },
  {
   "cell_type": "code",
   "execution_count": 463,
   "id": "dd759c1e",
   "metadata": {},
   "outputs": [],
   "source": [
    "#Perform hypertuning for k clusters ranging from 1 to 9\n",
    "\n",
    "kmeans_per_k = [KMeans(n_clusters=k, random_state=42).fit(df3_scaled)\n",
    "                for k in range(1, 10)]"
   ]
  },
  {
   "cell_type": "code",
   "execution_count": 464,
   "id": "4c12cc1e",
   "metadata": {},
   "outputs": [],
   "source": [
    "#Get the inertia of each kmeans model created above\n",
    "\n",
    "inertias = [model.inertia_ for model in kmeans_per_k]"
   ]
  },
  {
   "cell_type": "markdown",
   "id": "30d6dd29",
   "metadata": {},
   "source": [
    "### Elbow method"
   ]
  },
  {
   "cell_type": "code",
   "execution_count": 465,
   "id": "4177fc13",
   "metadata": {},
   "outputs": [
    {
     "data": {
      "image/png": "[encoded data removed]",
      "text/plain": [
       "<Figure size 864x576 with 1 Axes>"
      ]
     },
     "metadata": {},
     "output_type": "display_data"
    }
   ],
   "source": [
    "#Plot kmeans inertia vs k clusters ranging from 1 to 9\n",
    "#This will generate a graph resembling an elbow\n",
    "\n",
    "plt.figure(figsize=(12, 8))\n",
    "plt.plot(range(1, 10), inertias, \"bo-\")\n",
    "plt.xlabel(\"$k$\", fontsize=14)\n",
    "plt.ylabel(\"Inertia\", fontsize=14)\n",
    "plt.annotate('Elbow',\n",
    "             xy=(3, inertias[2]),\n",
    "             xytext=(0.55, 0.55),\n",
    "             textcoords='figure fraction',\n",
    "             fontsize=16,\n",
    "             arrowprops=dict(facecolor='gray', shrink=0.05)\n",
    "            )\n",
    "#plt.grid()\n",
    "plt.show()\n",
    "\n",
    "#Inference - Elbow can be considered at 3 or 4. We are taking k=3 as elbow\n"
   ]
  },
  {
   "cell_type": "markdown",
   "id": "a6e99977",
   "metadata": {},
   "source": [
    "### Inference from elbow method: \n",
    "1. Optimal K=3"
   ]
  },
  {
   "cell_type": "markdown",
   "id": "0f656608",
   "metadata": {},
   "source": [
    "### Preparation of kmeans model"
   ]
  },
  {
   "cell_type": "code",
   "execution_count": 492,
   "id": "5a3c7d6a",
   "metadata": {},
   "outputs": [
    {
     "data": {
      "text/html": [
       "<style>#sk-container-id-4 {color: black;background-color: white;}#sk-container-id-4 pre{padding: 0;}#sk-container-id-4 div.sk-toggleable {background-color: white;}#sk-container-id-4 label.sk-toggleable__label {cursor: pointer;display: block;width: 100%;margin-bottom: 0;padding: 0.3em;box-sizing: border-box;text-align: center;}#sk-container-id-4 label.sk-toggleable__label-arrow:before {content: \"▸\";float: left;margin-right: 0.25em;color: #696969;}#sk-container-id-4 label.sk-toggleable__label-arrow:hover:before {color: black;}#sk-container-id-4 div.sk-estimator:hover label.sk-toggleable__label-arrow:before {color: black;}#sk-container-id-4 div.sk-toggleable__content {max-height: 0;max-width: 0;overflow: hidden;text-align: left;background-color: #f0f8ff;}#sk-container-id-4 div.sk-toggleable__content pre {margin: 0.2em;color: black;border-radius: 0.25em;background-color: #f0f8ff;}#sk-container-id-4 input.sk-toggleable__control:checked~div.sk-toggleable__content {max-height: 200px;max-width: 100%;overflow: auto;}#sk-container-id-4 input.sk-toggleable__control:checked~label.sk-toggleable__label-arrow:before {content: \"▾\";}#sk-container-id-4 div.sk-estimator input.sk-toggleable__control:checked~label.sk-toggleable__label {background-color: #d4ebff;}#sk-container-id-4 div.sk-label input.sk-toggleable__control:checked~label.sk-toggleable__label {background-color: #d4ebff;}#sk-container-id-4 input.sk-hidden--visually {border: 0;clip: rect(1px 1px 1px 1px);clip: rect(1px, 1px, 1px, 1px);height: 1px;margin: -1px;overflow: hidden;padding: 0;position: absolute;width: 1px;}#sk-container-id-4 div.sk-estimator {font-family: monospace;background-color: #f0f8ff;border: 1px dotted black;border-radius: 0.25em;box-sizing: border-box;margin-bottom: 0.5em;}#sk-container-id-4 div.sk-estimator:hover {background-color: #d4ebff;}#sk-container-id-4 div.sk-parallel-item::after {content: \"\";width: 100%;border-bottom: 1px solid gray;flex-grow: 1;}#sk-container-id-4 div.sk-label:hover label.sk-toggleable__label {background-color: #d4ebff;}#sk-container-id-4 div.sk-serial::before {content: \"\";position: absolute;border-left: 1px solid gray;box-sizing: border-box;top: 0;bottom: 0;left: 50%;z-index: 0;}#sk-container-id-4 div.sk-serial {display: flex;flex-direction: column;align-items: center;background-color: white;padding-right: 0.2em;padding-left: 0.2em;position: relative;}#sk-container-id-4 div.sk-item {position: relative;z-index: 1;}#sk-container-id-4 div.sk-parallel {display: flex;align-items: stretch;justify-content: center;background-color: white;position: relative;}#sk-container-id-4 div.sk-item::before, #sk-container-id-4 div.sk-parallel-item::before {content: \"\";position: absolute;border-left: 1px solid gray;box-sizing: border-box;top: 0;bottom: 0;left: 50%;z-index: -1;}#sk-container-id-4 div.sk-parallel-item {display: flex;flex-direction: column;z-index: 1;position: relative;background-color: white;}#sk-container-id-4 div.sk-parallel-item:first-child::after {align-self: flex-end;width: 50%;}#sk-container-id-4 div.sk-parallel-item:last-child::after {align-self: flex-start;width: 50%;}#sk-container-id-4 div.sk-parallel-item:only-child::after {width: 0;}#sk-container-id-4 div.sk-dashed-wrapped {border: 1px dashed gray;margin: 0 0.4em 0.5em 0.4em;box-sizing: border-box;padding-bottom: 0.4em;background-color: white;}#sk-container-id-4 div.sk-label label {font-family: monospace;font-weight: bold;display: inline-block;line-height: 1.2em;}#sk-container-id-4 div.sk-label-container {text-align: center;}#sk-container-id-4 div.sk-container {/* jupyter's `normalize.less` sets `[hidden] { display: none; }` but bootstrap.min.css set `[hidden] { display: none !important; }` so we also need the `!important` here to be able to override the default hidden behavior on the sphinx rendered scikit-learn.org. See: https://github.com/scikit-learn/scikit-learn/issues/21755 */display: inline-block !important;position: relative;}#sk-container-id-4 div.sk-text-repr-fallback {display: none;}</style><div id=\"sk-container-id-4\" class=\"sk-top-container\"><div class=\"sk-text-repr-fallback\"><pre>KMeans(n_clusters=3)</pre><b>In a Jupyter environment, please rerun this cell to show the HTML representation or trust the notebook. <br />On GitHub, the HTML representation is unable to render, please try loading this page with nbviewer.org.</b></div><div class=\"sk-container\" hidden><div class=\"sk-item\"><div class=\"sk-estimator sk-toggleable\"><input class=\"sk-toggleable__control sk-hidden--visually\" id=\"sk-estimator-id-4\" type=\"checkbox\" checked><label for=\"sk-estimator-id-4\" class=\"sk-toggleable__label sk-toggleable__label-arrow\">KMeans</label><div class=\"sk-toggleable__content\"><pre>KMeans(n_clusters=3)</pre></div></div></div></div></div>"
      ],
      "text/plain": [
       "KMeans(n_clusters=3)"
      ]
     },
     "execution_count": 492,
     "metadata": {},
     "output_type": "execute_result"
    }
   ],
   "source": [
    "#Prepare kmeans cluster model for optimal K obtained from above hypertuning\n",
    "\n",
    "k = 3\n",
    "kmeans_model = KMeans(n_clusters=k)\n",
    "kmeans_model.fit(df3_scaled)"
   ]
  },
  {
   "cell_type": "code",
   "execution_count": 493,
   "id": "bd60057a",
   "metadata": {},
   "outputs": [
    {
     "data": {
      "text/plain": [
       "array([[-2.40218026e-02, -2.21410121e-02,  1.64870520e-01,\n",
       "        -2.47803543e-02,  4.00091285e-02,  2.21410121e-02,\n",
       "        -7.83031430e-01, -6.87403046e-01, -7.71038468e-01],\n",
       "       [ 1.91794970e-02,  1.26863363e-02, -1.31635100e-01,\n",
       "         1.97920054e-02, -3.19359812e-02, -1.26863363e-02,\n",
       "         6.25195887e-01,  5.48842492e-01,  6.15620977e-01],\n",
       "       [ 5.79341700e-03,  2.85479160e+02, -9.03571748e-02,\n",
       "        -3.86660078e-01, -4.74202748e-01, -2.85479160e+02,\n",
       "        -2.47471053e-01, -1.70824359e-01, -2.79834067e-01]])"
      ]
     },
     "execution_count": 493,
     "metadata": {},
     "output_type": "execute_result"
    }
   ],
   "source": [
    "#Print cluster centers\n",
    "\n",
    "kmeans_model.cluster_centers_"
   ]
  },
  {
   "cell_type": "code",
   "execution_count": 494,
   "id": "338050e3",
   "metadata": {},
   "outputs": [
    {
     "data": {
      "text/plain": [
       "array([0, 1, 0, ..., 1, 0, 1], dtype=int32)"
      ]
     },
     "execution_count": 494,
     "metadata": {},
     "output_type": "execute_result"
    }
   ],
   "source": [
    "#Print cluster labels\n",
    "\n",
    "kmeans_model.labels_"
   ]
  },
  {
   "cell_type": "code",
   "execution_count": 495,
   "id": "0ae5c3de",
   "metadata": {},
   "outputs": [
    {
     "data": {
      "text/plain": [
       "3"
      ]
     },
     "execution_count": 495,
     "metadata": {},
     "output_type": "execute_result"
    }
   ],
   "source": [
    "#Print number of clusters\n",
    "\n",
    "kmeans_model.n_clusters"
   ]
  },
  {
   "cell_type": "code",
   "execution_count": 496,
   "id": "207f836f",
   "metadata": {},
   "outputs": [],
   "source": [
    "#Predict the cluster labels using predict method\n",
    "\n",
    "y_pred = kmeans_model.predict(df3_scaled)"
   ]
  },
  {
   "cell_type": "code",
   "execution_count": 497,
   "id": "62abf2d5",
   "metadata": {},
   "outputs": [
    {
     "data": {
      "text/plain": [
       "array([0, 1, 0, ..., 1, 0, 1], dtype=int32)"
      ]
     },
     "execution_count": 497,
     "metadata": {},
     "output_type": "execute_result"
    }
   ],
   "source": [
    "#Display predicted labels\n",
    "\n",
    "y_pred"
   ]
  },
  {
   "cell_type": "code",
   "execution_count": 498,
   "id": "faf4b1c8",
   "metadata": {},
   "outputs": [],
   "source": [
    "#Create a brand new dataframe for further proceeding\n",
    "\n",
    "df4 = df3_scaled.copy()"
   ]
  },
  {
   "cell_type": "code",
   "execution_count": 499,
   "id": "0e06a081",
   "metadata": {},
   "outputs": [],
   "source": [
    "#Add predicted labels to the dataframe as new column\n",
    "\n",
    "df4['label'] = kmeans_model.labels_"
   ]
  },
  {
   "cell_type": "code",
   "execution_count": 500,
   "id": "24bd4685",
   "metadata": {},
   "outputs": [
    {
     "data": {
      "text/html": [
       "<div>\n",
       "<style scoped>\n",
       "    .dataframe tbody tr th:only-of-type {\n",
       "        vertical-align: middle;\n",
       "    }\n",
       "\n",
       "    .dataframe tbody tr th {\n",
       "        vertical-align: top;\n",
       "    }\n",
       "\n",
       "    .dataframe thead th {\n",
       "        text-align: right;\n",
       "    }\n",
       "</style>\n",
       "<table border=\"1\" class=\"dataframe\">\n",
       "  <thead>\n",
       "    <tr style=\"text-align: right;\">\n",
       "      <th></th>\n",
       "      <th>company_hash_encoded</th>\n",
       "      <th>orgyear</th>\n",
       "      <th>ctc</th>\n",
       "      <th>job_position_encoded</th>\n",
       "      <th>ctc_updated_year</th>\n",
       "      <th>Years of Experience</th>\n",
       "      <th>Tier</th>\n",
       "      <th>Class</th>\n",
       "      <th>Designation</th>\n",
       "      <th>label</th>\n",
       "    </tr>\n",
       "  </thead>\n",
       "  <tbody>\n",
       "    <tr>\n",
       "      <th>0</th>\n",
       "      <td>-1.659614</td>\n",
       "      <td>0.017578</td>\n",
       "      <td>-0.099255</td>\n",
       "      <td>1.090037</td>\n",
       "      <td>0.280440</td>\n",
       "      <td>-0.017578</td>\n",
       "      <td>-0.247471</td>\n",
       "      <td>-1.692927</td>\n",
       "      <td>-1.517562</td>\n",
       "      <td>0</td>\n",
       "    </tr>\n",
       "    <tr>\n",
       "      <th>1</th>\n",
       "      <td>0.008642</td>\n",
       "      <td>0.049036</td>\n",
       "      <td>-0.154336</td>\n",
       "      <td>-0.021829</td>\n",
       "      <td>-0.474203</td>\n",
       "      <td>-0.049036</td>\n",
       "      <td>1.088242</td>\n",
       "      <td>1.351279</td>\n",
       "      <td>0.957894</td>\n",
       "      <td>1</td>\n",
       "    </tr>\n",
       "    <tr>\n",
       "      <th>2</th>\n",
       "      <td>-0.366344</td>\n",
       "      <td>0.001850</td>\n",
       "      <td>-0.022989</td>\n",
       "      <td>-1.001661</td>\n",
       "      <td>0.280440</td>\n",
       "      <td>-0.001850</td>\n",
       "      <td>-0.247471</td>\n",
       "      <td>-0.170824</td>\n",
       "      <td>-0.279834</td>\n",
       "      <td>0</td>\n",
       "    </tr>\n",
       "    <tr>\n",
       "      <th>3</th>\n",
       "      <td>-0.668879</td>\n",
       "      <td>0.033307</td>\n",
       "      <td>-0.133151</td>\n",
       "      <td>-1.001661</td>\n",
       "      <td>-0.474203</td>\n",
       "      <td>-0.033307</td>\n",
       "      <td>1.088242</td>\n",
       "      <td>1.351279</td>\n",
       "      <td>0.957894</td>\n",
       "      <td>1</td>\n",
       "    </tr>\n",
       "    <tr>\n",
       "      <th>4</th>\n",
       "      <td>0.052789</td>\n",
       "      <td>0.033307</td>\n",
       "      <td>-0.073833</td>\n",
       "      <td>-0.021829</td>\n",
       "      <td>-0.474203</td>\n",
       "      <td>-0.033307</td>\n",
       "      <td>-1.583184</td>\n",
       "      <td>-1.692927</td>\n",
       "      <td>-1.517562</td>\n",
       "      <td>0</td>\n",
       "    </tr>\n",
       "  </tbody>\n",
       "</table>\n",
       "</div>"
      ],
      "text/plain": [
       "   company_hash_encoded   orgyear       ctc  job_position_encoded  \\\n",
       "0             -1.659614  0.017578 -0.099255              1.090037   \n",
       "1              0.008642  0.049036 -0.154336             -0.021829   \n",
       "2             -0.366344  0.001850 -0.022989             -1.001661   \n",
       "3             -0.668879  0.033307 -0.133151             -1.001661   \n",
       "4              0.052789  0.033307 -0.073833             -0.021829   \n",
       "\n",
       "   ctc_updated_year  Years of Experience      Tier     Class  Designation  \\\n",
       "0          0.280440            -0.017578 -0.247471 -1.692927    -1.517562   \n",
       "1         -0.474203            -0.049036  1.088242  1.351279     0.957894   \n",
       "2          0.280440            -0.001850 -0.247471 -0.170824    -0.279834   \n",
       "3         -0.474203            -0.033307  1.088242  1.351279     0.957894   \n",
       "4         -0.474203            -0.033307 -1.583184 -1.692927    -1.517562   \n",
       "\n",
       "   label  \n",
       "0      0  \n",
       "1      1  \n",
       "2      0  \n",
       "3      1  \n",
       "4      0  "
      ]
     },
     "execution_count": 500,
     "metadata": {},
     "output_type": "execute_result"
    }
   ],
   "source": [
    "#Get a glimpse of new dataframe\n",
    "\n",
    "df4.head()"
   ]
  },
  {
   "cell_type": "markdown",
   "id": "3568a75f",
   "metadata": {},
   "source": [
    "### Visualization of clusters created by kmeans"
   ]
  },
  {
   "cell_type": "code",
   "execution_count": 501,
   "id": "28a6d6c4",
   "metadata": {},
   "outputs": [],
   "source": [
    "# plt.figure(figsize=(10,6))\n",
    "# pd.plotting.parallel_coordinates(df4, 'label')\n",
    "# plt.show()"
   ]
  },
  {
   "cell_type": "code",
   "execution_count": 502,
   "id": "a5b34588",
   "metadata": {},
   "outputs": [],
   "source": [
    "#Our clusters have 8 dimensions which can not be plotted efficiently to visualize the clusters\n",
    "#So we are making effort to decompose the clusters into 2 PCA components to just see how the clusters look\n",
    "\n",
    "pca = PCA(n_components=2)\n",
    "df_pca = pca.fit_transform(df3_scaled)"
   ]
  },
  {
   "cell_type": "code",
   "execution_count": 503,
   "id": "c25990b3",
   "metadata": {},
   "outputs": [],
   "source": [
    "#Convert reduced dimensional data to dataframe\n",
    "\n",
    "df_pca = pd.DataFrame(df_pca, columns=['Component1', 'Component2'])"
   ]
  },
  {
   "cell_type": "code",
   "execution_count": 504,
   "id": "3d62cbb6",
   "metadata": {},
   "outputs": [],
   "source": [
    "#Add new column as cluster label to the dataframe\n",
    "\n",
    "df_pca['label'] = df4['label']"
   ]
  },
  {
   "cell_type": "code",
   "execution_count": 505,
   "id": "12da8d45",
   "metadata": {},
   "outputs": [],
   "source": [
    "#Create 3 separate cluster datasets - i.e. one for each cluster\n",
    "\n",
    "df_label0 = df_pca.loc[df_pca['label']==0]\n",
    "df_label1 = df_pca.loc[df_pca['label']==1]\n",
    "df_label2 = df_pca.loc[df_pca['label']==2]"
   ]
  },
  {
   "cell_type": "code",
   "execution_count": 506,
   "id": "0ad896e7",
   "metadata": {},
   "outputs": [
    {
     "data": {
      "image/png": "[encoded data removed]",
      "text/plain": [
       "<Figure size 648x360 with 1 Axes>"
      ]
     },
     "metadata": {},
     "output_type": "display_data"
    }
   ],
   "source": [
    "#Plot the PCA cluster data on 2D graph\n",
    "\n",
    "plt.figure(figsize=(9,5))\n",
    "plt.scatter(df_label0['Component1'], df_label0['Component2'],color='blue',marker='.')\n",
    "plt.scatter(df_label1['Component1'], df_label1['Component2'],color='green',marker='.')\n",
    "plt.scatter(df_label2['Component1'], df_label2['Component2'],color='red',marker='.')\n",
    "plt.xlim(-6,4)\n",
    "plt.ylim(-7,7)\n",
    "#plt.grid()\n",
    "plt.show()\n",
    "\n",
    "#Inference -\n",
    "#1. Cluster 0 and 1 are vividly visible and showing fairly good amount of values within it\n",
    "#2. However cluster 2 is not visible at all and that means there are very very less values in cluster 2"
   ]
  },
  {
   "cell_type": "code",
   "execution_count": 507,
   "id": "52c91f23",
   "metadata": {},
   "outputs": [
    {
     "data": {
      "text/plain": [
       "1    114383\n",
       "0     91328\n",
       "2         2\n",
       "Name: label, dtype: int64"
      ]
     },
     "execution_count": 507,
     "metadata": {},
     "output_type": "execute_result"
    }
   ],
   "source": [
    "#Value counts of kmeans generated clusters\n",
    "\n",
    "df4['label'].value_counts()\n",
    "\n",
    "#Inference - The data is majorly categorized into the two clusters and not 3\n"
   ]
  },
  {
   "cell_type": "code",
   "execution_count": 567,
   "id": "0c5f5535",
   "metadata": {},
   "outputs": [
    {
     "data": {
      "image/png": "[encoded data removed]",
      "text/plain": [
       "<Figure size 432x288 with 1 Axes>"
      ]
     },
     "metadata": {},
     "output_type": "display_data"
    }
   ],
   "source": [
    "#Visual display of amount of data in 2 clusters\n",
    "\n",
    "t = df4['label'].value_counts()\n",
    "plt.pie(t, labels=t.index, autopct='%.2f')\n",
    "plt.title('% data present per cluster')\n",
    "plt.show()"
   ]
  },
  {
   "cell_type": "markdown",
   "id": "0638bfe2",
   "metadata": {},
   "source": [
    "### Comparison manual clusters with kmeans clusters"
   ]
  },
  {
   "cell_type": "code",
   "execution_count": 508,
   "id": "0b2c5702",
   "metadata": {},
   "outputs": [],
   "source": [
    "#Compare the manual clustering vs kmeans clustering\n",
    "\n",
    "df5 = df3.copy()\n",
    "df5['label'] = kmeans_model.labels_"
   ]
  },
  {
   "cell_type": "code",
   "execution_count": 509,
   "id": "80ddcb0d",
   "metadata": {},
   "outputs": [],
   "source": [
    "cluster0 = df5.loc[df5['label']==0]\n",
    "cluster1 = df5.loc[df5['label']==1]\n",
    "cluster2 = df5.loc[df5['label']==2]"
   ]
  },
  {
   "cell_type": "code",
   "execution_count": 514,
   "id": "0dda02bf",
   "metadata": {},
   "outputs": [
    {
     "name": "stdout",
     "output_type": "stream",
     "text": [
      "Tier: % Of manual clusters matching with kmeans cluster 0 for Company Tier\n"
     ]
    },
    {
     "data": {
      "image/png": "[encoded data removed]",
      "text/plain": [
       "<Figure size 432x288 with 1 Axes>"
      ]
     },
     "metadata": {},
     "output_type": "display_data"
    },
    {
     "name": "stdout",
     "output_type": "stream",
     "text": [
      "\n",
      "Class: % Of manual clusters matching with kmeans cluster 0 for Company job position Tier\n"
     ]
    },
    {
     "data": {
      "image/png": "[encoded data removed]",
      "text/plain": [
       "<Figure size 432x288 with 1 Axes>"
      ]
     },
     "metadata": {},
     "output_type": "display_data"
    },
    {
     "name": "stdout",
     "output_type": "stream",
     "text": [
      "\n",
      "Designation: % Of manual clusters matching with kmeans cluster 0 for Years of exp job position Tier\n"
     ]
    },
    {
     "data": {
      "image/png": "[encoded data removed]",
      "text/plain": [
       "<Figure size 432x288 with 1 Axes>"
      ]
     },
     "metadata": {},
     "output_type": "display_data"
    }
   ],
   "source": [
    "#Check which manual cluster has how much percentage of matching with the kmeans cluster 0\n",
    "\n",
    "print('Tier: % Of manual clusters matching with kmeans cluster 0 for Company Tier')\n",
    "x = cluster0['Tier'].value_counts()/cluster0.shape[0]*100\n",
    "plt.pie(x, labels=x.index, autopct='%.2f')\n",
    "plt.show()\n",
    "print()\n",
    "\n",
    "print('Class: % Of manual clusters matching with kmeans cluster 0 for Company job position Tier')\n",
    "y = cluster0['Class'].value_counts()/cluster0.shape[0]*100\n",
    "plt.pie(y, labels=y.index, autopct='%.2f')\n",
    "plt.show()\n",
    "\n",
    "print()\n",
    "print('Designation: % Of manual clusters matching with kmeans cluster 0 for Years of exp job position Tier')\n",
    "z = cluster0['Designation'].value_counts()/cluster0.shape[0]*100\n",
    "plt.pie(z, labels=z.index, autopct='%.2f')\n",
    "plt.show()\n",
    "\n",
    "#Inference - \n",
    "#Manual clusters and kmeans cluster 0 doesn't have a great match. Highest percentage of match is 60%\n",
    "#Manual Cluster 2.0 and Kmeans cluster 0 has highest number of matches for Class Tier"
   ]
  },
  {
   "cell_type": "markdown",
   "id": "e54adf08",
   "metadata": {},
   "source": [
    "### Inference: \n",
    "1. Manual cluster 2.0 created based on company and job position seems to have 60% match with kmeans cluster 0"
   ]
  },
  {
   "cell_type": "code",
   "execution_count": 515,
   "id": "f546b1ae",
   "metadata": {},
   "outputs": [
    {
     "name": "stdout",
     "output_type": "stream",
     "text": [
      "Tier: % Of manual clusters matching with kmeans cluster 1 for Company Tier\n"
     ]
    },
    {
     "data": {
      "image/png": "[encoded data removed]",
      "text/plain": [
       "<Figure size 432x288 with 1 Axes>"
      ]
     },
     "metadata": {},
     "output_type": "display_data"
    },
    {
     "name": "stdout",
     "output_type": "stream",
     "text": [
      "\n",
      "Class: % Of manual clusters matching with kmeans cluster 1 for Company job position Tier\n"
     ]
    },
    {
     "data": {
      "image/png": "[encoded data removed]",
      "text/plain": [
       "<Figure size 432x288 with 1 Axes>"
      ]
     },
     "metadata": {},
     "output_type": "display_data"
    },
    {
     "name": "stdout",
     "output_type": "stream",
     "text": [
      "\n",
      "Designation: % Of manual clusters matching with kmeans cluster 1 for Years of exp job position Tier\n"
     ]
    },
    {
     "data": {
      "image/png": "[encoded data removed]",
      "text/plain": [
       "<Figure size 432x288 with 1 Axes>"
      ]
     },
     "metadata": {},
     "output_type": "display_data"
    }
   ],
   "source": [
    "#Check which manual cluster has how much percentage of matching with the kmeans cluster 1\n",
    "\n",
    "print('Tier: % Of manual clusters matching with kmeans cluster 1 for Company Tier')\n",
    "x = cluster1['Tier'].value_counts()/cluster1.shape[0]*100\n",
    "plt.pie(x, labels=x.index, autopct='%.2f')\n",
    "plt.show()\n",
    "print()\n",
    "\n",
    "print('Class: % Of manual clusters matching with kmeans cluster 1 for Company job position Tier')\n",
    "y = cluster1['Class'].value_counts()/cluster1.shape[0]*100\n",
    "plt.pie(y, labels=y.index, autopct='%.2f')\n",
    "plt.show()\n",
    "\n",
    "print()\n",
    "print('Designation: % Of manual clusters matching with kmeans cluster 1 for Years of exp job position Tier')\n",
    "z = cluster1['Designation'].value_counts()/cluster1.shape[0]*100\n",
    "plt.pie(z, labels=z.index, autopct='%.2f')\n",
    "plt.show()\n",
    "\n",
    "#Inference - \n",
    "#Manual Cluster 3.0 and Kmeans cluster 1 has highest number of matches for Designation Tier\n",
    "#So Kmeans cluster 1 seems to be almost similar to manual cluster 3.0 created based on years of exp and job"
   ]
  },
  {
   "cell_type": "markdown",
   "id": "71e67c8c",
   "metadata": {},
   "source": [
    "### Inference: \n",
    "1. Manual cluster 3.0 created based on years of exp and job position seems to match with kmeans cluster 1"
   ]
  },
  {
   "cell_type": "code",
   "execution_count": 516,
   "id": "33b1575d",
   "metadata": {},
   "outputs": [
    {
     "name": "stdout",
     "output_type": "stream",
     "text": [
      "Tier: % Of manual clusters matching with kmeans cluster 2 for Company Tier\n"
     ]
    },
    {
     "data": {
      "image/png": "[encoded data removed]",
      "text/plain": [
       "<Figure size 432x288 with 1 Axes>"
      ]
     },
     "metadata": {},
     "output_type": "display_data"
    },
    {
     "name": "stdout",
     "output_type": "stream",
     "text": [
      "\n",
      "Class: % Of manual clusters matching with kmeans cluster 2 for Company job position Tier\n"
     ]
    },
    {
     "data": {
      "image/png": "[encoded data removed]",
      "text/plain": [
       "<Figure size 432x288 with 1 Axes>"
      ]
     },
     "metadata": {},
     "output_type": "display_data"
    },
    {
     "name": "stdout",
     "output_type": "stream",
     "text": [
      "\n",
      "Designation: % Of manual clusters matching with kmeans cluster 2 for Years of exp job position Tier\n"
     ]
    },
    {
     "data": {
      "image/png": "[encoded data removed]",
      "text/plain": [
       "<Figure size 432x288 with 1 Axes>"
      ]
     },
     "metadata": {},
     "output_type": "display_data"
    }
   ],
   "source": [
    "#Check which manual cluster has how much percentage of matching with the kmeans cluster 2\n",
    "\n",
    "print('Tier: % Of manual clusters matching with kmeans cluster 2 for Company Tier')\n",
    "x = cluster2['Tier'].value_counts()/cluster2.shape[0]*100\n",
    "plt.pie(x, labels=x.index, autopct='%.2f')\n",
    "plt.show()\n",
    "print()\n",
    "\n",
    "print('Class: % Of manual clusters matching with kmeans cluster 2 for Company job position Tier')\n",
    "y = cluster2['Class'].value_counts()/cluster2.shape[0]*100\n",
    "plt.pie(y, labels=y.index, autopct='%.2f')\n",
    "plt.show()\n",
    "\n",
    "print()\n",
    "print('Designation: % Of manual clusters matching with kmeans cluster 2 for Years of exp job position Tier')\n",
    "z = cluster2['Designation'].value_counts()/cluster2.shape[0]*100\n",
    "plt.pie(z, labels=z.index, autopct='%.2f')\n",
    "plt.show()\n",
    "\n",
    "#Inference - \n",
    "#Manual clusters and kmeans cluster 2 doesn't have a match at all. Highest percentage of match is 0%\n",
    "#This is because kmeans clustering categorized the data into two clusters and third cluster has only 2 pts"
   ]
  },
  {
   "cell_type": "markdown",
   "id": "3c4ed2fc",
   "metadata": {},
   "source": [
    "### Inference: \n",
    "1. There is no match for kmeans cluster 2 with any of the manually created clusters. \n",
    "2. This is because kmeans clusters has categorized the data majorly into 2 clusters\n",
    "3. And the third cluster has only 2 points. \n",
    "4. This gives us the sense that the manual clusters that we have created might be be the perfect clusters. \n",
    "5. Also there would need a higher amount of data cleaning and proper aligment to make more accurate and sensible clusters."
   ]
  },
  {
   "cell_type": "code",
   "execution_count": 517,
   "id": "cf2f82fe",
   "metadata": {},
   "outputs": [
    {
     "name": "stdout",
     "output_type": "stream",
     "text": [
      "50th percentile:\n",
      "ctc of cluster 0:  1700000.0\n",
      "ctc of cluster 1:  600000.0\n",
      "------------------------------------------------------------------------\n",
      "25th percentile:\n",
      "ctc of cluster 0:  1100000.0\n",
      "ctc of cluster 1:  400000.0\n",
      "------------------------------------------------------------------------\n",
      "75th percentile:\n",
      "ctc of cluster 0:  2600000.0\n",
      "ctc of cluster 1:  900000.0\n",
      "------------------------------------------------------------------------\n"
     ]
    },
    {
     "data": {
      "image/png": "[encoded data removed]",
      "text/plain": [
       "<Figure size 1008x360 with 2 Axes>"
      ]
     },
     "metadata": {},
     "output_type": "display_data"
    }
   ],
   "source": [
    "#Salaries of Kmeans clusters 0 and 1 for different quantiles\n",
    "\n",
    "print('50th percentile:')\n",
    "print('ctc of cluster 0: ',np.percentile(cluster0['ctc'],50))\n",
    "print('ctc of cluster 1: ',np.percentile(cluster1['ctc'],50))\n",
    "print('------------------------------------------------------------------------')\n",
    "print('25th percentile:')\n",
    "print('ctc of cluster 0: ',np.percentile(cluster0['ctc'],25))\n",
    "print('ctc of cluster 1: ',np.percentile(cluster1['ctc'],25))\n",
    "print('------------------------------------------------------------------------')\n",
    "print('75th percentile:')\n",
    "print('ctc of cluster 0: ',np.percentile(cluster0['ctc'],75))\n",
    "print('ctc of cluster 1: ',np.percentile(cluster1['ctc'],75))\n",
    "print('------------------------------------------------------------------------')\n",
    "\n",
    "plt.figure(figsize=(14,5))\n",
    "plt.subplot(1,2,1)\n",
    "sns.boxplot(y=np.log(cluster0['ctc']))\n",
    "plt.ylim(6,20)\n",
    "plt.title('Cluster0')\n",
    "\n",
    "plt.subplot(1,2,2)\n",
    "sns.boxplot(y=np.log(cluster1['ctc']))\n",
    "plt.ylim(6,20)\n",
    "plt.title('Cluster1')\n",
    "plt.show()"
   ]
  },
  {
   "cell_type": "code",
   "execution_count": 530,
   "id": "78c55b75",
   "metadata": {},
   "outputs": [
    {
     "name": "stdout",
     "output_type": "stream",
     "text": [
      "Top job positions in cluster 0: \n",
      "\n",
      "OTHER\n",
      "FULL STACK ENGINEER\n",
      "BACKEND ENGINEER\n",
      "FRONT END ENGINEER\n",
      "MEMBER OF TECHNICAL STAFF IV\n",
      "INSURANCE AGENT\n"
     ]
    }
   ],
   "source": [
    "#Get job positions baed on top 10 CTC in cluster 0\n",
    "\n",
    "print('Top job positions in cluster 0: ')\n",
    "print()\n",
    "t = cluster0.sort_values(['ctc'],ascending=False)['job_position_encoded'].head(10).unique()\n",
    "t = df2.loc[df2['job_position_encoded'].isin(t)]['job_position'].dropna().unique()\n",
    "for i in t:\n",
    "    print(i)"
   ]
  },
  {
   "cell_type": "code",
   "execution_count": 531,
   "id": "394d092d",
   "metadata": {},
   "outputs": [
    {
     "name": "stdout",
     "output_type": "stream",
     "text": [
      "Top job positions in cluster 1: \n",
      "\n",
      "OTHER\n",
      "FULL STACK ENGINEER\n",
      "BACKEND ENGINEER\n",
      "QA ENGINEER\n",
      "DATA SCIENTIST\n",
      "COMPUTER SCIENTIST II\n"
     ]
    }
   ],
   "source": [
    "#Get job positions based on top 10 CTC in cluster 1\n",
    "\n",
    "print('Top job positions in cluster 1: ')\n",
    "print()\n",
    "t = cluster1.sort_values(['ctc'],ascending=False)['job_position_encoded'].head(10).unique()\n",
    "t = df2.loc[df2['job_position_encoded'].isin(t)]['job_position'].dropna().unique()\n",
    "for i in t:\n",
    "    print(i)"
   ]
  },
  {
   "cell_type": "code",
   "execution_count": 532,
   "id": "cdb901ee",
   "metadata": {},
   "outputs": [
    {
     "name": "stdout",
     "output_type": "stream",
     "text": [
      "Bottom job positions in cluster 0: \n",
      "\n",
      "FULL STACK ENGINEER\n",
      "BACKEND ENGINEER\n",
      "IOS ENGINEER\n",
      "DATA SCIENTIST\n",
      "PDP EXECUTIVE\n",
      "FIBRE ENGINEER\n",
      "RESEARCH ASSISTANT\n",
      "CORE ENGINEER SOFTWARE DEVELOPER\n"
     ]
    }
   ],
   "source": [
    "#Get job positions based on bottom 10 CTC in cluster 0\n",
    "\n",
    "print('Bottom job positions in cluster 0: ')\n",
    "print()\n",
    "t = cluster0.sort_values(['ctc'],ascending=False)['job_position_encoded'].tail(10).unique()\n",
    "t = df2.loc[df2['job_position_encoded'].isin(t)]['job_position'].dropna().unique()\n",
    "for i in t:\n",
    "    print(i)"
   ]
  },
  {
   "cell_type": "code",
   "execution_count": 533,
   "id": "9ff5443d",
   "metadata": {},
   "outputs": [
    {
     "name": "stdout",
     "output_type": "stream",
     "text": [
      "Bottom job positions in cluster 1: \n",
      "\n",
      "OTHER\n",
      "BACKEND ENGINEER\n",
      "ANDROID ENGINEER\n",
      "COFOUNDER\n",
      "DATABASSISTANT SYSTEM ENGINEER ADMINISTRATOR\n",
      "NULL\n",
      "EMBEDDED SOFTWARE DEVELOPMENT ENGINEER\n",
      "CORE ENGINEER SOFTWARE DEVELOPER\n"
     ]
    }
   ],
   "source": [
    "#Get job positions based on bottom 10 CTC in cluster 1\n",
    "\n",
    "print('Bottom job positions in cluster 1: ')\n",
    "print()\n",
    "t = cluster1.sort_values(['ctc'],ascending=False)['job_position_encoded'].tail(10).unique()\n",
    "t = df2.loc[df2['job_position_encoded'].isin(t)]['job_position'].dropna().unique()\n",
    "for i in t:\n",
    "    print(i)"
   ]
  },
  {
   "cell_type": "code",
   "execution_count": 534,
   "id": "ba26aae8",
   "metadata": {},
   "outputs": [
    {
     "name": "stdout",
     "output_type": "stream",
     "text": [
      "Top companies in cluster 0: \n",
      "\n",
      "wgzwtznqxd\n",
      "vbagwo\n",
      "vrnqvz\n",
      "bxwqgogen\n",
      "vao ogrhnxgz\n",
      "aveegaxr xzntqzvnxgzvr hzxctqoxnj\n",
      "zgn jtn fgqpxzsx vb onxrr onhajxzs\n",
      "guug bgmxrto\n",
      "obvqnuqxdwgb\n",
      "whmxw rgsxwo uqxcvnt rxbxnta\n"
     ]
    }
   ],
   "source": [
    "#Get companies based on top 10 CTC in cluster 0\n",
    "\n",
    "print('Top companies in cluster 0: ')\n",
    "print()\n",
    "t = cluster0.sort_values(['ctc'],ascending=False)['company_hash_encoded'].head(10).unique()\n",
    "t = df2.loc[df2['company_hash_encoded'].isin(t)]['company_hash'].dropna().unique()\n",
    "for i in t:\n",
    "    print(i)"
   ]
  },
  {
   "cell_type": "code",
   "execution_count": 535,
   "id": "24db96db",
   "metadata": {},
   "outputs": [
    {
     "name": "stdout",
     "output_type": "stream",
     "text": [
      "Top companies in cluster 1: \n",
      "\n",
      "mqxwponttr tzntquqxoto uqxcvnt rxbxnta\n",
      "wvqttb\n",
      "vabxzxonqvnt\n",
      "orxwt\n",
      "cvyvz xzw\n",
      "xzagqot unt rna\n"
     ]
    }
   ],
   "source": [
    "#Get companies based on top 10 CTC in cluster 1\n",
    "\n",
    "print('Top companies in cluster 1: ')\n",
    "print()\n",
    "t = cluster1.sort_values(['ctc'],ascending=False)['company_hash_encoded'].head(10).unique()\n",
    "t = df2.loc[df2['company_hash_encoded'].isin(t)]['company_hash'].dropna().unique()\n",
    "for i in t:\n",
    "    print(i)"
   ]
  },
  {
   "cell_type": "code",
   "execution_count": 536,
   "id": "7611966f",
   "metadata": {},
   "outputs": [
    {
     "name": "stdout",
     "output_type": "stream",
     "text": [
      "Bottom companies in cluster 0: \n",
      "\n",
      "exznqhon ogrhnxgzo ucn rna\n",
      "uqtu ntwyzgrgsxto\n",
      "hzxctqoxnj ge xrrxzgxo vn wyxwvsg\n",
      "hzxctqoxnj ge yghongz wn mvhtq wgrrtst ge mhoxztoo\n",
      "mlxn\n",
      "axsxpvrv\n",
      "mrxzp22\n",
      "gutzoggi\n",
      "zgqot axsxnvr\n",
      "xm\n"
     ]
    }
   ],
   "source": [
    "#Get companies based on bottom 10 CTC in cluster 0\n",
    "\n",
    "print('Bottom companies in cluster 0: ')\n",
    "print()\n",
    "t = cluster0.sort_values(['ctc'],ascending=False)['company_hash_encoded'].tail(10).unique()\n",
    "t = df2.loc[df2['company_hash_encoded'].isin(t)]['company_hash'].dropna().unique()\n",
    "for i in t:\n",
    "    print(i)"
   ]
  },
  {
   "cell_type": "code",
   "execution_count": 537,
   "id": "c735631b",
   "metadata": {},
   "outputs": [
    {
     "name": "stdout",
     "output_type": "stream",
     "text": [
      "Bottom companies in cluster 1: \n",
      "\n",
      "nvnv wgzohrnvzwj otqcxwto\n",
      "xzntqcxtfmxn\n",
      "hzxctqoxnj ge fvoyxzsngz\n",
      "uqvpqxnx voogwxvnto\n",
      "uqgmrtb ogrcxzs\n",
      "ftm ongqt\n",
      "vcvzn sqghu\n",
      "xm\n"
     ]
    }
   ],
   "source": [
    "#Get companies based on bottom 10 CTC in cluster 1\n",
    "\n",
    "print('Bottom companies in cluster 1: ')\n",
    "print()\n",
    "t = cluster1.sort_values(['ctc'],ascending=False)['company_hash_encoded'].tail(10).unique()\n",
    "t = df2.loc[df2['company_hash_encoded'].isin(t)]['company_hash'].dropna().unique()\n",
    "for i in t:\n",
    "    print(i)"
   ]
  },
  {
   "cell_type": "markdown",
   "id": "f3d3337c",
   "metadata": {},
   "source": [
    "### Hierarchical Clustering"
   ]
  },
  {
   "cell_type": "code",
   "execution_count": 541,
   "id": "951f4e7f",
   "metadata": {},
   "outputs": [],
   "source": [
    "#Create a brand new copy of dataframe for further proceedings. Get sample of 2000 points\n",
    "\n",
    "df6 = df3.copy()\n",
    "df6_sample = df6.sample(2000)"
   ]
  },
  {
   "cell_type": "code",
   "execution_count": 542,
   "id": "05423805",
   "metadata": {},
   "outputs": [],
   "source": [
    "#Perform standardization of data\n",
    "\n",
    "df6_sample_scaled = scaler.fit_transform(df6_sample)\n",
    "df6_sample_scaled = pd.DataFrame(df6_sample_scaled, columns=df6_sample.columns)"
   ]
  },
  {
   "cell_type": "code",
   "execution_count": 543,
   "id": "eb1f8a29",
   "metadata": {},
   "outputs": [
    {
     "data": {
      "image/png": "[encoded data removed]",
      "text/plain": [
       "<Figure size 1152x576 with 1 Axes>"
      ]
     },
     "metadata": {},
     "output_type": "display_data"
    }
   ],
   "source": [
    "#Plot Dendogram \n",
    "\n",
    "plt.figure(figsize=(16,8))\n",
    "linkage_data = linkage(df6_sample_scaled, method='ward', metric='euclidean')\n",
    "dendrogram(linkage_data)\n",
    "plt.xticks(rotation=90)\n",
    "plt.axhline(y=65, color='r', linestyle='--')\n",
    "plt.show()\n",
    "\n",
    "#Inference from dendogram: \n",
    "#We will brodly consider 2 clusters and hence we have put the line cutting the dendogram at 2 points"
   ]
  },
  {
   "cell_type": "markdown",
   "id": "7780b6c7",
   "metadata": {},
   "source": [
    "### Inference from dendogram: \n",
    "1. We will consider 2 clusters for hierarchical / agglomerative clustering. Red line cutting dendogram at 2 points suggests the same"
   ]
  },
  {
   "cell_type": "code",
   "execution_count": 544,
   "id": "4e690b5a",
   "metadata": {},
   "outputs": [
    {
     "data": {
      "text/html": [
       "<style>#sk-container-id-5 {color: black;background-color: white;}#sk-container-id-5 pre{padding: 0;}#sk-container-id-5 div.sk-toggleable {background-color: white;}#sk-container-id-5 label.sk-toggleable__label {cursor: pointer;display: block;width: 100%;margin-bottom: 0;padding: 0.3em;box-sizing: border-box;text-align: center;}#sk-container-id-5 label.sk-toggleable__label-arrow:before {content: \"▸\";float: left;margin-right: 0.25em;color: #696969;}#sk-container-id-5 label.sk-toggleable__label-arrow:hover:before {color: black;}#sk-container-id-5 div.sk-estimator:hover label.sk-toggleable__label-arrow:before {color: black;}#sk-container-id-5 div.sk-toggleable__content {max-height: 0;max-width: 0;overflow: hidden;text-align: left;background-color: #f0f8ff;}#sk-container-id-5 div.sk-toggleable__content pre {margin: 0.2em;color: black;border-radius: 0.25em;background-color: #f0f8ff;}#sk-container-id-5 input.sk-toggleable__control:checked~div.sk-toggleable__content {max-height: 200px;max-width: 100%;overflow: auto;}#sk-container-id-5 input.sk-toggleable__control:checked~label.sk-toggleable__label-arrow:before {content: \"▾\";}#sk-container-id-5 div.sk-estimator input.sk-toggleable__control:checked~label.sk-toggleable__label {background-color: #d4ebff;}#sk-container-id-5 div.sk-label input.sk-toggleable__control:checked~label.sk-toggleable__label {background-color: #d4ebff;}#sk-container-id-5 input.sk-hidden--visually {border: 0;clip: rect(1px 1px 1px 1px);clip: rect(1px, 1px, 1px, 1px);height: 1px;margin: -1px;overflow: hidden;padding: 0;position: absolute;width: 1px;}#sk-container-id-5 div.sk-estimator {font-family: monospace;background-color: #f0f8ff;border: 1px dotted black;border-radius: 0.25em;box-sizing: border-box;margin-bottom: 0.5em;}#sk-container-id-5 div.sk-estimator:hover {background-color: #d4ebff;}#sk-container-id-5 div.sk-parallel-item::after {content: \"\";width: 100%;border-bottom: 1px solid gray;flex-grow: 1;}#sk-container-id-5 div.sk-label:hover label.sk-toggleable__label {background-color: #d4ebff;}#sk-container-id-5 div.sk-serial::before {content: \"\";position: absolute;border-left: 1px solid gray;box-sizing: border-box;top: 0;bottom: 0;left: 50%;z-index: 0;}#sk-container-id-5 div.sk-serial {display: flex;flex-direction: column;align-items: center;background-color: white;padding-right: 0.2em;padding-left: 0.2em;position: relative;}#sk-container-id-5 div.sk-item {position: relative;z-index: 1;}#sk-container-id-5 div.sk-parallel {display: flex;align-items: stretch;justify-content: center;background-color: white;position: relative;}#sk-container-id-5 div.sk-item::before, #sk-container-id-5 div.sk-parallel-item::before {content: \"\";position: absolute;border-left: 1px solid gray;box-sizing: border-box;top: 0;bottom: 0;left: 50%;z-index: -1;}#sk-container-id-5 div.sk-parallel-item {display: flex;flex-direction: column;z-index: 1;position: relative;background-color: white;}#sk-container-id-5 div.sk-parallel-item:first-child::after {align-self: flex-end;width: 50%;}#sk-container-id-5 div.sk-parallel-item:last-child::after {align-self: flex-start;width: 50%;}#sk-container-id-5 div.sk-parallel-item:only-child::after {width: 0;}#sk-container-id-5 div.sk-dashed-wrapped {border: 1px dashed gray;margin: 0 0.4em 0.5em 0.4em;box-sizing: border-box;padding-bottom: 0.4em;background-color: white;}#sk-container-id-5 div.sk-label label {font-family: monospace;font-weight: bold;display: inline-block;line-height: 1.2em;}#sk-container-id-5 div.sk-label-container {text-align: center;}#sk-container-id-5 div.sk-container {/* jupyter's `normalize.less` sets `[hidden] { display: none; }` but bootstrap.min.css set `[hidden] { display: none !important; }` so we also need the `!important` here to be able to override the default hidden behavior on the sphinx rendered scikit-learn.org. See: https://github.com/scikit-learn/scikit-learn/issues/21755 */display: inline-block !important;position: relative;}#sk-container-id-5 div.sk-text-repr-fallback {display: none;}</style><div id=\"sk-container-id-5\" class=\"sk-top-container\"><div class=\"sk-text-repr-fallback\"><pre>AgglomerativeClustering()</pre><b>In a Jupyter environment, please rerun this cell to show the HTML representation or trust the notebook. <br />On GitHub, the HTML representation is unable to render, please try loading this page with nbviewer.org.</b></div><div class=\"sk-container\" hidden><div class=\"sk-item\"><div class=\"sk-estimator sk-toggleable\"><input class=\"sk-toggleable__control sk-hidden--visually\" id=\"sk-estimator-id-5\" type=\"checkbox\" checked><label for=\"sk-estimator-id-5\" class=\"sk-toggleable__label sk-toggleable__label-arrow\">AgglomerativeClustering</label><div class=\"sk-toggleable__content\"><pre>AgglomerativeClustering()</pre></div></div></div></div></div>"
      ],
      "text/plain": [
       "AgglomerativeClustering()"
      ]
     },
     "execution_count": 544,
     "metadata": {},
     "output_type": "execute_result"
    }
   ],
   "source": [
    "#Create hierarchical clustering model using agglomerative clustering method\n",
    "\n",
    "hier_clust_model = AgglomerativeClustering(n_clusters=2, affinity='euclidean', linkage='ward')\n",
    "hier_clust_model.fit(df6_sample_scaled)"
   ]
  },
  {
   "cell_type": "code",
   "execution_count": 545,
   "id": "8a1aa53d",
   "metadata": {},
   "outputs": [
    {
     "data": {
      "text/plain": [
       "2"
      ]
     },
     "execution_count": 545,
     "metadata": {},
     "output_type": "execute_result"
    }
   ],
   "source": [
    "#Print number of clusters\n",
    "\n",
    "hier_clust_model.n_clusters"
   ]
  },
  {
   "cell_type": "code",
   "execution_count": 546,
   "id": "3d0a9860",
   "metadata": {},
   "outputs": [],
   "source": [
    "#Predict the hierarchical clustering labels\n",
    "\n",
    "y_pred = hier_clust_model.fit_predict(df6_sample_scaled)"
   ]
  },
  {
   "cell_type": "code",
   "execution_count": 547,
   "id": "d1fdbeee",
   "metadata": {},
   "outputs": [],
   "source": [
    "#Add label column to the sample dataframe\n",
    "\n",
    "df6_sample['label'] = y_pred"
   ]
  },
  {
   "cell_type": "code",
   "execution_count": 548,
   "id": "01cc1600",
   "metadata": {},
   "outputs": [
    {
     "data": {
      "text/html": [
       "<div>\n",
       "<style scoped>\n",
       "    .dataframe tbody tr th:only-of-type {\n",
       "        vertical-align: middle;\n",
       "    }\n",
       "\n",
       "    .dataframe tbody tr th {\n",
       "        vertical-align: top;\n",
       "    }\n",
       "\n",
       "    .dataframe thead th {\n",
       "        text-align: right;\n",
       "    }\n",
       "</style>\n",
       "<table border=\"1\" class=\"dataframe\">\n",
       "  <thead>\n",
       "    <tr style=\"text-align: right;\">\n",
       "      <th></th>\n",
       "      <th>company_hash_encoded</th>\n",
       "      <th>orgyear</th>\n",
       "      <th>ctc</th>\n",
       "      <th>job_position_encoded</th>\n",
       "      <th>ctc_updated_year</th>\n",
       "      <th>Years of Experience</th>\n",
       "      <th>Tier</th>\n",
       "      <th>Class</th>\n",
       "      <th>Designation</th>\n",
       "      <th>label</th>\n",
       "    </tr>\n",
       "  </thead>\n",
       "  <tbody>\n",
       "    <tr>\n",
       "      <th>133450</th>\n",
       "      <td>29134.0</td>\n",
       "      <td>2020.0</td>\n",
       "      <td>940000.0</td>\n",
       "      <td>108.0</td>\n",
       "      <td>2021.0</td>\n",
       "      <td>3.0</td>\n",
       "      <td>2.0</td>\n",
       "      <td>2.0</td>\n",
       "      <td>2.0</td>\n",
       "      <td>0</td>\n",
       "    </tr>\n",
       "    <tr>\n",
       "      <th>47592</th>\n",
       "      <td>31794.0</td>\n",
       "      <td>2015.0</td>\n",
       "      <td>440000.0</td>\n",
       "      <td>245.0</td>\n",
       "      <td>2018.0</td>\n",
       "      <td>8.0</td>\n",
       "      <td>3.0</td>\n",
       "      <td>3.0</td>\n",
       "      <td>3.0</td>\n",
       "      <td>1</td>\n",
       "    </tr>\n",
       "    <tr>\n",
       "      <th>193725</th>\n",
       "      <td>5716.0</td>\n",
       "      <td>2020.0</td>\n",
       "      <td>1150000.0</td>\n",
       "      <td>356.0</td>\n",
       "      <td>2020.0</td>\n",
       "      <td>3.0</td>\n",
       "      <td>2.0</td>\n",
       "      <td>2.0</td>\n",
       "      <td>1.0</td>\n",
       "      <td>0</td>\n",
       "    </tr>\n",
       "    <tr>\n",
       "      <th>191502</th>\n",
       "      <td>3461.0</td>\n",
       "      <td>2017.0</td>\n",
       "      <td>900000.0</td>\n",
       "      <td>108.0</td>\n",
       "      <td>2020.0</td>\n",
       "      <td>6.0</td>\n",
       "      <td>1.0</td>\n",
       "      <td>1.0</td>\n",
       "      <td>3.0</td>\n",
       "      <td>0</td>\n",
       "    </tr>\n",
       "    <tr>\n",
       "      <th>314</th>\n",
       "      <td>29525.0</td>\n",
       "      <td>2012.0</td>\n",
       "      <td>1500000.0</td>\n",
       "      <td>108.0</td>\n",
       "      <td>2021.0</td>\n",
       "      <td>11.0</td>\n",
       "      <td>2.0</td>\n",
       "      <td>2.0</td>\n",
       "      <td>3.0</td>\n",
       "      <td>1</td>\n",
       "    </tr>\n",
       "  </tbody>\n",
       "</table>\n",
       "</div>"
      ],
      "text/plain": [
       "        company_hash_encoded  orgyear        ctc  job_position_encoded  \\\n",
       "133450               29134.0   2020.0   940000.0                 108.0   \n",
       "47592                31794.0   2015.0   440000.0                 245.0   \n",
       "193725                5716.0   2020.0  1150000.0                 356.0   \n",
       "191502                3461.0   2017.0   900000.0                 108.0   \n",
       "314                  29525.0   2012.0  1500000.0                 108.0   \n",
       "\n",
       "        ctc_updated_year  Years of Experience  Tier  Class  Designation  label  \n",
       "133450            2021.0                  3.0   2.0    2.0          2.0      0  \n",
       "47592             2018.0                  8.0   3.0    3.0          3.0      1  \n",
       "193725            2020.0                  3.0   2.0    2.0          1.0      0  \n",
       "191502            2020.0                  6.0   1.0    1.0          3.0      0  \n",
       "314               2021.0                 11.0   2.0    2.0          3.0      1  "
      ]
     },
     "execution_count": 548,
     "metadata": {},
     "output_type": "execute_result"
    }
   ],
   "source": [
    "df6_sample.head()"
   ]
  },
  {
   "cell_type": "code",
   "execution_count": 554,
   "id": "c839c467",
   "metadata": {},
   "outputs": [
    {
     "name": "stdout",
     "output_type": "stream",
     "text": [
      "Distribution of points per cluster\n"
     ]
    },
    {
     "data": {
      "image/png": "[encoded data removed]",
      "text/plain": [
       "<Figure size 432x288 with 1 Axes>"
      ]
     },
     "metadata": {},
     "output_type": "display_data"
    }
   ],
   "source": [
    "#Check the percentage of values per cluster\n",
    "\n",
    "print('Distribution of points per cluster')\n",
    "x = df6_sample['label'].value_counts()\n",
    "plt.pie(x, labels=x.index, autopct='%.2f')\n",
    "plt.show()\n",
    "\n",
    "#Inference: \n",
    "#Cluster 0 got 35.65% of data\n",
    "#Cluster 1 got 64.35% of data"
   ]
  },
  {
   "cell_type": "code",
   "execution_count": 555,
   "id": "6d7c01c1",
   "metadata": {},
   "outputs": [],
   "source": [
    "#Filter the hierarchical clusters into separate datasets\n",
    "\n",
    "hier_label_0 = df6_sample.loc[df6_sample['label']==0]\n",
    "hier_label_1 = df6_sample.loc[df6_sample['label']==1]"
   ]
  },
  {
   "cell_type": "code",
   "execution_count": 557,
   "id": "8d9a698f",
   "metadata": {},
   "outputs": [
    {
     "name": "stdout",
     "output_type": "stream",
     "text": [
      "Tier: % Of manual clusters matching with hierarchical cluster 0 for Company Tier\n"
     ]
    },
    {
     "data": {
      "image/png": "[encoded data removed]",
      "text/plain": [
       "<Figure size 432x288 with 1 Axes>"
      ]
     },
     "metadata": {},
     "output_type": "display_data"
    },
    {
     "name": "stdout",
     "output_type": "stream",
     "text": [
      "\n",
      "Class: % Of manual clusters matching with hierarchical cluster 0 for Company job position Tier\n"
     ]
    },
    {
     "data": {
      "image/png": "[encoded data removed]",
      "text/plain": [
       "<Figure size 432x288 with 1 Axes>"
      ]
     },
     "metadata": {},
     "output_type": "display_data"
    },
    {
     "name": "stdout",
     "output_type": "stream",
     "text": [
      "\n",
      "Designation: % Of manual clusters matching with hierarchical cluster 0 for Years of exp job position Tier\n"
     ]
    },
    {
     "data": {
      "image/png": "[encoded data removed]",
      "text/plain": [
       "<Figure size 432x288 with 1 Axes>"
      ]
     },
     "metadata": {},
     "output_type": "display_data"
    }
   ],
   "source": [
    "#Check which manual cluster has how much percentage of matching with the hierarchical cluster 0\n",
    "\n",
    "print('Tier: % Of manual clusters matching with hierarchical cluster 0 for Company Tier')\n",
    "x = hier_label_0['Tier'].value_counts()/hier_label_0.shape[0]*100\n",
    "plt.pie(x, labels=x.index, autopct='%.2f')\n",
    "plt.show()\n",
    "print()\n",
    "\n",
    "print('Class: % Of manual clusters matching with hierarchical cluster 0 for Company job position Tier')\n",
    "y = hier_label_0['Class'].value_counts()/hier_label_0.shape[0]*100\n",
    "plt.pie(y, labels=y.index, autopct='%.2f')\n",
    "plt.show()\n",
    "\n",
    "print()\n",
    "print('Designation: % Of manual clusters matching with hierarchical cluster 0 for Years of exp job position Tier')\n",
    "z = hier_label_0['Designation'].value_counts()/hier_label_0.shape[0]*100\n",
    "plt.pie(z, labels=z.index, autopct='%.2f')\n",
    "plt.show()\n",
    "\n",
    "#Inference - \n",
    "#Manual Cluster 1.0, 2.0 & 3.0 and hierarchical cluster 0 has almost similar number of matches \n",
    "#for Tier, Class & Desitnation Tier"
   ]
  },
  {
   "cell_type": "code",
   "execution_count": 559,
   "id": "80eda534",
   "metadata": {},
   "outputs": [
    {
     "name": "stdout",
     "output_type": "stream",
     "text": [
      "Tier: % Of manual clusters matching with hierarchical cluster 1 for Company Tier\n"
     ]
    },
    {
     "data": {
      "image/png": "[encoded data removed]",
      "text/plain": [
       "<Figure size 432x288 with 1 Axes>"
      ]
     },
     "metadata": {},
     "output_type": "display_data"
    },
    {
     "name": "stdout",
     "output_type": "stream",
     "text": [
      "\n",
      "Class: % Of manual clusters matching with hierarchical cluster 1 for Company job position Tier\n"
     ]
    },
    {
     "data": {
      "image/png": "[encoded data removed]",
      "text/plain": [
       "<Figure size 432x288 with 1 Axes>"
      ]
     },
     "metadata": {},
     "output_type": "display_data"
    },
    {
     "name": "stdout",
     "output_type": "stream",
     "text": [
      "\n",
      "Designation: % Of manual clusters matching with hierarchical cluster 1 for Years of exp job position Tier\n"
     ]
    },
    {
     "data": {
      "image/png": "[encoded data removed]",
      "text/plain": [
       "<Figure size 432x288 with 1 Axes>"
      ]
     },
     "metadata": {},
     "output_type": "display_data"
    }
   ],
   "source": [
    "#Check which manual cluster has how much percentage of matching with the hierarchical cluster 1\n",
    "\n",
    "print('Tier: % Of manual clusters matching with hierarchical cluster 1 for Company Tier')\n",
    "x = hier_label_1['Tier'].value_counts()/hier_label_1.shape[0]*100\n",
    "plt.pie(x, labels=x.index, autopct='%.2f')\n",
    "plt.show()\n",
    "print()\n",
    "\n",
    "print('Class: % Of manual clusters matching with hierarchical cluster 1 for Company job position Tier')\n",
    "y = hier_label_1['Class'].value_counts()/hier_label_1.shape[0]*100\n",
    "plt.pie(y, labels=y.index, autopct='%.2f')\n",
    "plt.show()\n",
    "\n",
    "print()\n",
    "print('Designation: % Of manual clusters matching with hierarchical cluster 1 for Years of exp job position Tier')\n",
    "z = hier_label_1['Designation'].value_counts()/hier_label_1.shape[0]*100\n",
    "plt.pie(z, labels=z.index, autopct='%.2f')\n",
    "plt.show()\n",
    "\n",
    "#Inference - \n",
    "#Manual Clusters 1.0, 2.0 & 3.0 and hierarchical cluster 1 has almost similar number of matches \n",
    "#for Tier, Class & Designation"
   ]
  },
  {
   "cell_type": "code",
   "execution_count": 561,
   "id": "7d217258",
   "metadata": {},
   "outputs": [
    {
     "data": {
      "image/png": "[encoded data removed]",
      "text/plain": [
       "<Figure size 648x360 with 1 Axes>"
      ]
     },
     "metadata": {},
     "output_type": "display_data"
    }
   ],
   "source": [
    "#Let's try to do the PCA of hierarchical clusters and let's try to plot those\n",
    "\n",
    "pca = PCA(n_components=2)\n",
    "df6_pca = pca.fit_transform(df6_sample_scaled)\n",
    "\n",
    "df6_pca = pd.DataFrame(df6_pca, columns=['Component1', 'Component2'])\n",
    "df6_pca['label'] = df6_sample['label']\n",
    "\n",
    "df6_label0 = df6_pca.loc[df6_pca['label']==0]\n",
    "df6_label1 = df6_pca.loc[df6_pca['label']==1]\n",
    "\n",
    "plt.figure(figsize=(9,5))\n",
    "plt.scatter(df6_label0['Component1'], df6_label0['Component2'],color='blue',marker='o')\n",
    "plt.scatter(df6_label1['Component1'], df6_label1['Component2'],color='green',marker='o')\n",
    "plt.xlim(-5,5)\n",
    "plt.ylim(-5,5)\n",
    "#plt.grid()\n",
    "plt.show()\n",
    "\n",
    "#Inference:\n",
    "#1. Since the random sample was small, clusters formed are not very dense and are not interpretable"
   ]
  },
  {
   "cell_type": "code",
   "execution_count": 562,
   "id": "a320764f",
   "metadata": {},
   "outputs": [
    {
     "name": "stdout",
     "output_type": "stream",
     "text": [
      "50th percentile:\n",
      "ctc of cluster 0:  1810000.0\n",
      "ctc of cluster 1:  700000.0\n",
      "------------------------------------------------------------------------\n",
      "25th percentile:\n",
      "ctc of cluster 0:  1200000.0\n",
      "ctc of cluster 1:  445000.0\n",
      "------------------------------------------------------------------------\n",
      "75th percentile:\n",
      "ctc of cluster 0:  2900000.0\n",
      "ctc of cluster 1:  1100000.0\n",
      "------------------------------------------------------------------------\n"
     ]
    },
    {
     "data": {
      "image/png": "[encoded data removed]",
      "text/plain": [
       "<Figure size 1008x360 with 2 Axes>"
      ]
     },
     "metadata": {},
     "output_type": "display_data"
    }
   ],
   "source": [
    "#Salaries of Hierarchical clusters 0 and 1 for different quantiles\n",
    "\n",
    "print('50th percentile:')\n",
    "print('ctc of cluster 0: ',np.percentile(hier_label_0['ctc'],50))\n",
    "print('ctc of cluster 1: ',np.percentile(hier_label_1['ctc'],50))\n",
    "print('------------------------------------------------------------------------')\n",
    "print('25th percentile:')\n",
    "print('ctc of cluster 0: ',np.percentile(hier_label_0['ctc'],25))\n",
    "print('ctc of cluster 1: ',np.percentile(hier_label_1['ctc'],25))\n",
    "print('------------------------------------------------------------------------')\n",
    "print('75th percentile:')\n",
    "print('ctc of cluster 0: ',np.percentile(hier_label_0['ctc'],75))\n",
    "print('ctc of cluster 1: ',np.percentile(hier_label_1['ctc'],75))\n",
    "print('------------------------------------------------------------------------')\n",
    "\n",
    "plt.figure(figsize=(14,5))\n",
    "plt.subplot(1,2,1)\n",
    "sns.boxplot(y=np.log(hier_label_0['ctc']))\n",
    "plt.ylim(6,20)\n",
    "plt.title('Cluster0')\n",
    "\n",
    "plt.subplot(1,2,2)\n",
    "sns.boxplot(y=np.log(hier_label_1['ctc']))\n",
    "plt.ylim(6,20)\n",
    "plt.title('Cluster1')\n",
    "plt.show()"
   ]
  },
  {
   "cell_type": "markdown",
   "id": "cccf82b6",
   "metadata": {},
   "source": [
    "### Actionable Insights and Recommendations\n",
    "\n",
    "**Observations :**\n",
    "\n",
    "    (a) Hopkins statistics test proves that the given dataset is significantly clusterable.\n",
    "        So it makes perfect sense to implement clustering on the given dataset.\n",
    "\n",
    "    (b) Kmeans clustering has categorized the data into 2 clusters - High CTC and Low CTC.\n",
    "\n",
    "    (c) CTC numbers of both the clusters are significantly different than each other.\n",
    "\n",
    "**Insights from Cluster 0 (High CTC Cluster):**\n",
    "\n",
    "    (a) 50th percentile CTC is: 1700K\n",
    "    (b) 25th percentile CTC is: 1100K\n",
    "    (c) 75th percentile CTC is: 2600K\n",
    "\n",
    "\n",
    "**Insights from Cluster 1 (Low CTC Cluster):**\n",
    "\n",
    "    (a) 50th percentile CTC is: 600K\n",
    "    (b) 25th percentile CTC is: 400K\n",
    "    (c) 75th percentile CTC is: 900K\n",
    "    \n",
    "    \n",
    "**Percentage of Data per cluster :**\n",
    "\n",
    "    (a) High CTC Cluster: 44%\n",
    "    (b) Low CTC Cluster: 56%\n",
    "    \n",
    "**Job positions based on top 10 CTC :**\n",
    "\n",
    "    (a) High CTC Cluster:\n",
    "            . OTHER\n",
    "            . FULL STACK ENGINEER\n",
    "            . BACKEND ENGINEER\n",
    "            . FRONT END ENGINEER\n",
    "            . MEMBER OF TECHNICAL STAFF IV\n",
    "            . INSURANCE AGENT\n",
    "    \n",
    "    (b) Low CTC Cluster:\n",
    "            . OTHER\n",
    "            . FULL STACK ENGINEER\n",
    "            . BACKEND ENGINEER\n",
    "            . QA ENGINEER\n",
    "            . DATA SCIENTIST\n",
    "            . COMPUTER SCIENTIST II\n",
    "\n",
    "**Job positions based on bottom 10 CTC :**\n",
    "\n",
    "    (a) High CTC Cluster:\n",
    "            . FULL STACK ENGINEER\n",
    "            . BACKEND ENGINEER\n",
    "            . IOS ENGINEER\n",
    "            . DATA SCIENTIST\n",
    "            . PDP EXECUTIVE\n",
    "            . FIBRE ENGINEER\n",
    "            . RESEARCH ASSISTANT\n",
    "            . CORE ENGINEER SOFTWARE DEVELOPER\n",
    "    \n",
    "    (b) Low CTC Cluster:\n",
    "            . OTHER\n",
    "            . BACKEND ENGINEER\n",
    "            . ANDROID ENGINEER\n",
    "            . COFOUNDER\n",
    "            . DATABASSISTANT SYSTEM ENGINEER ADMINISTRATOR\n",
    "            . NULL\n",
    "            . EMBEDDED SOFTWARE DEVELOPMENT ENGINEER\n",
    "            . CORE ENGINEER SOFTWARE DEVELOPER\n",
    "\n",
    "**Companies based on top 10 CTC :**\n",
    "\n",
    "    (a) High CTC Cluster:\n",
    "            . wgzwtznqxd\n",
    "            . vbagwo\n",
    "            . vrnqvz\n",
    "            . bxwqgogen\n",
    "            . vao ogrhnxgz\n",
    "            . aveegaxr xzntqzvnxgzvr hzxctqoxnj\n",
    "            . zgn jtn fgqpxzsx vb onxrr onhajxzs\n",
    "            . guug bgmxrto\n",
    "            . obvqnuqxdwgb\n",
    "            . whmxw rgsxwo uqxcvnt rxbxnta\n",
    "\n",
    "    (b) Low CTC Cluster:\n",
    "            . mqxwponttr tzntquqxoto uqxcvnt rxbxnta\n",
    "            . wvqttb\n",
    "            . vabxzxonqvnt\n",
    "            . orxwt\n",
    "            . cvyvz xzw\n",
    "            . xzagqot unt rna\n",
    "\n",
    "**Companies based on bottom 10 CTC :**\n",
    "\n",
    "    (a) High CTC Cluster:\n",
    "            . exznqhon ogrhnxgzo ucn rna\n",
    "            . uqtu ntwyzgrgsxto\n",
    "            . hzxctqoxnj ge xrrxzgxo vn wyxwvsg\n",
    "            . hzxctqoxnj ge yghongz wn mvhtq wgrrtst ge mhoxztoo\n",
    "            . mlxn\n",
    "            . axsxpvrv\n",
    "            . mrxzp22\n",
    "            . gutzoggi\n",
    "            . zgqot axsxnvr\n",
    "            . xm\n",
    "\n",
    "    (b) Low CTC Cluster:\n",
    "            . nvnv wgzohrnvzwj otqcxwto\n",
    "            . xzntqcxtfmxn\n",
    "            . hzxctqoxnj ge fvoyxzsngz\n",
    "            . uqvpqxnx voogwxvnto\n",
    "            . uqgmrtb ogrcxzs\n",
    "            . ftm ongqt\n",
    "            . vcvzn sqghu\n",
    "            . xm"
   ]
  },
  {
   "cell_type": "markdown",
   "id": "abd19a7d",
   "metadata": {},
   "source": [
    "### Actionable Recommendations\n",
    "\n",
    "**Nomenclature :** \n",
    "    \n",
    "    (a) High CTC Cluster --> HCC\n",
    "    (b) Low CTC Cluster --> LCC\n",
    "\n",
    "**Recommendations :**\n",
    "\n",
    "    (a) LCC contains 56% of the total data from the given dataset.\n",
    "    (b) Professionals from LCC should be the primary target for the enrollments into the upskilling programs.\n",
    "    (c) 75th percentile of CTC of LCC is lower than the 25th percentile of HCC. So, these can be good targets.\n",
    "    (d) Easiest targets are job positions and companies based on bottom 10 CTC of LCC. These are listed above.\n",
    "    (e) Recommendations of companies or combination of companies & job_positions from HCC to LCC won't make \n",
    "        much sense and should be avoided unless thouroghly checked for reliable options.\n",
    "    (f) 50% of professionals from HCC lying below 50th percentile of CTC are also good target for \n",
    "        upskilling programs offering improvement on their current CTC.\n",
    "    (g) Professionals from LCC with higher years of experience are good targets becuase designation class i.e.\n",
    "        (Years of exp and job position) has significant impact on clustering and almost 76% are found in \n",
    "        tier 3 which is less than median CTC.\n",
    "    (h) Understand the highiring practises of the companies from HCC and what are the expertise expected by\n",
    "        them. The curriculum should be crafted meticulously to achieve the benchmark of these companies.\n",
    "    (i) Understand and study the roles and responsibilities of high CTC job positions in HCC. Setup the\n",
    "        benchmark accordingly for assignments, case studies, mock interviews and exit tests.\n",
    "    (j) CTC numbers, company names, job positions for HCC and LCC are mentioned above as observations.\n",
    "        Business can refer to that information to draw the inferences."
   ]
  },
  {
   "cell_type": "code",
   "execution_count": null,
   "id": "159caba6",
   "metadata": {},
   "outputs": [],
   "source": []
  }
 ],
 "metadata": {
  "kernelspec": {
   "display_name": "Python 3.6.7 64-bit ('anaconda3': virtualenv)",
   "language": "python",
   "name": "python367jvsc74a57bd05a385d6a601cdfb62232e737b1fe5bc0000b63f293a93945d25901b329df466d"
  },
  "language_info": {
   "codemirror_mode": {
    "name": "ipython",
    "version": 3
   },
   "file_extension": ".py",
   "mimetype": "text/x-python",
   "name": "python",
   "nbconvert_exporter": "python",
   "pygments_lexer": "ipython3",
   "version": "3.8.2"
  }
 },
 "nbformat": 4,
 "nbformat_minor": 5
}
